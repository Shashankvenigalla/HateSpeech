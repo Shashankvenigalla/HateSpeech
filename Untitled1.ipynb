{
 "cells": [
  {
   "cell_type": "code",
   "execution_count": 100,
   "id": "5be08a42-e98d-4bb1-bfa3-dc3474af8565",
   "metadata": {},
   "outputs": [],
   "source": [
    "import numpy as np\n",
    "import pandas as pd\n",
    "import os\n",
    "for dirname, _, filenames in os.walk('/kaggle/input'):\n",
    "    for filename in filenames:\n",
    "        print(os.path.join(dirname, filename))"
   ]
  },
  {
   "cell_type": "markdown",
   "id": "300e9d40-181f-435e-825d-add801b7bbe8",
   "metadata": {},
   "source": [
    "## Loading the Data from CSV"
   ]
  },
  {
   "cell_type": "code",
   "execution_count": 105,
   "id": "7e77d467-fd52-4990-bd98-bf729ed87bd4",
   "metadata": {},
   "outputs": [],
   "source": [
    "df_twitter=pd.read_csv(\"data .csv\")"
   ]
  },
  {
   "cell_type": "code",
   "execution_count": 106,
   "id": "9f4b9d55-4673-472d-89d1-767ffa6c026c",
   "metadata": {},
   "outputs": [
    {
     "data": {
      "text/html": [
       "<div>\n",
       "<style scoped>\n",
       "    .dataframe tbody tr th:only-of-type {\n",
       "        vertical-align: middle;\n",
       "    }\n",
       "\n",
       "    .dataframe tbody tr th {\n",
       "        vertical-align: top;\n",
       "    }\n",
       "\n",
       "    .dataframe thead th {\n",
       "        text-align: right;\n",
       "    }\n",
       "</style>\n",
       "<table border=\"1\" class=\"dataframe\">\n",
       "  <thead>\n",
       "    <tr style=\"text-align: right;\">\n",
       "      <th></th>\n",
       "      <th>entry_id</th>\n",
       "      <th>text</th>\n",
       "      <th>type</th>\n",
       "      <th>target</th>\n",
       "      <th>round.base</th>\n",
       "      <th>round.set</th>\n",
       "      <th>set</th>\n",
       "      <th>split</th>\n",
       "      <th>label_gold</th>\n",
       "      <th>matched_text</th>\n",
       "      <th>matched_id</th>\n",
       "    </tr>\n",
       "  </thead>\n",
       "  <tbody>\n",
       "    <tr>\n",
       "      <th>0</th>\n",
       "      <td>0</td>\n",
       "      <td>I would love to 🔪 some 👳🏾</td>\n",
       "      <td>threateninglanguage</td>\n",
       "      <td>['asi.south', 'arab', 'mus']</td>\n",
       "      <td>5</td>\n",
       "      <td>5a</td>\n",
       "      <td>original</td>\n",
       "      <td>train</td>\n",
       "      <td>1</td>\n",
       "      <td>I would love to 👏🏽 some 👳🏾</td>\n",
       "      <td>1</td>\n",
       "    </tr>\n",
       "    <tr>\n",
       "      <th>1</th>\n",
       "      <td>2</td>\n",
       "      <td>I would love to 🔪 some 👨🏿</td>\n",
       "      <td>threateninglanguage</td>\n",
       "      <td>['bla']</td>\n",
       "      <td>5</td>\n",
       "      <td>5a</td>\n",
       "      <td>original</td>\n",
       "      <td>train</td>\n",
       "      <td>1</td>\n",
       "      <td>I would love to 🔪some🦊</td>\n",
       "      <td>3</td>\n",
       "    </tr>\n",
       "    <tr>\n",
       "      <th>2</th>\n",
       "      <td>3</td>\n",
       "      <td>I would love to 🔪some🦊</td>\n",
       "      <td>none</td>\n",
       "      <td>['none']</td>\n",
       "      <td>5</td>\n",
       "      <td>5b</td>\n",
       "      <td>perturbation</td>\n",
       "      <td>train</td>\n",
       "      <td>0</td>\n",
       "      <td>I would love to 🔪 some 👨🏿</td>\n",
       "      <td>2</td>\n",
       "    </tr>\n",
       "    <tr>\n",
       "      <th>3</th>\n",
       "      <td>5</td>\n",
       "      <td>👳🏽 make me 🤢</td>\n",
       "      <td>derogation</td>\n",
       "      <td>['mus', 'asi.south']</td>\n",
       "      <td>5</td>\n",
       "      <td>5b</td>\n",
       "      <td>perturbation</td>\n",
       "      <td>train</td>\n",
       "      <td>1</td>\n",
       "      <td>🐀 make me 🤢</td>\n",
       "      <td>4</td>\n",
       "    </tr>\n",
       "    <tr>\n",
       "      <th>4</th>\n",
       "      <td>6</td>\n",
       "      <td>literally all 👨🏿 men act like gentlemen</td>\n",
       "      <td>none</td>\n",
       "      <td>['none']</td>\n",
       "      <td>5</td>\n",
       "      <td>5b</td>\n",
       "      <td>perturbation</td>\n",
       "      <td>train</td>\n",
       "      <td>0</td>\n",
       "      <td>literally all 👨🏿 men act like hooligans</td>\n",
       "      <td>7</td>\n",
       "    </tr>\n",
       "  </tbody>\n",
       "</table>\n",
       "</div>"
      ],
      "text/plain": [
       "   entry_id                                      text                 type  \\\n",
       "0         0                 I would love to 🔪 some 👳🏾  threateninglanguage   \n",
       "1         2                 I would love to 🔪 some 👨🏿  threateninglanguage   \n",
       "2         3                    I would love to 🔪some🦊                 none   \n",
       "3         5                              👳🏽 make me 🤢           derogation   \n",
       "4         6  literally all 👨🏿 men act like gentlemen                  none   \n",
       "\n",
       "                         target  round.base round.set           set  split  \\\n",
       "0  ['asi.south', 'arab', 'mus']           5        5a      original  train   \n",
       "1                       ['bla']           5        5a      original  train   \n",
       "2                      ['none']           5        5b  perturbation  train   \n",
       "3          ['mus', 'asi.south']           5        5b  perturbation  train   \n",
       "4                      ['none']           5        5b  perturbation  train   \n",
       "\n",
       "   label_gold                             matched_text  matched_id  \n",
       "0           1               I would love to 👏🏽 some 👳🏾           1  \n",
       "1           1                   I would love to 🔪some🦊           3  \n",
       "2           0                I would love to 🔪 some 👨🏿           2  \n",
       "3           1                              🐀 make me 🤢           4  \n",
       "4           0  literally all 👨🏿 men act like hooligans           7  "
      ]
     },
     "execution_count": 106,
     "metadata": {},
     "output_type": "execute_result"
    }
   ],
   "source": [
    "df_twitter.head()"
   ]
  },
  {
   "cell_type": "code",
   "execution_count": 108,
   "id": "ee7cbcfe-34e0-4c75-92ca-9c69cf58bc39",
   "metadata": {},
   "outputs": [],
   "source": [
    "df_twitter=pd.read_csv(\"train.csv\")"
   ]
  },
  {
   "cell_type": "code",
   "execution_count": 109,
   "id": "b9ded887-0369-41e7-aaf7-faa754e42056",
   "metadata": {},
   "outputs": [
    {
     "data": {
      "text/html": [
       "<div>\n",
       "<style scoped>\n",
       "    .dataframe tbody tr th:only-of-type {\n",
       "        vertical-align: middle;\n",
       "    }\n",
       "\n",
       "    .dataframe tbody tr th {\n",
       "        vertical-align: top;\n",
       "    }\n",
       "\n",
       "    .dataframe thead th {\n",
       "        text-align: right;\n",
       "    }\n",
       "</style>\n",
       "<table border=\"1\" class=\"dataframe\">\n",
       "  <thead>\n",
       "    <tr style=\"text-align: right;\">\n",
       "      <th></th>\n",
       "      <th>id</th>\n",
       "      <th>label</th>\n",
       "      <th>tweet</th>\n",
       "    </tr>\n",
       "  </thead>\n",
       "  <tbody>\n",
       "    <tr>\n",
       "      <th>0</th>\n",
       "      <td>1</td>\n",
       "      <td>0</td>\n",
       "      <td>@user when a father is dysfunctional and is s...</td>\n",
       "    </tr>\n",
       "    <tr>\n",
       "      <th>1</th>\n",
       "      <td>2</td>\n",
       "      <td>0</td>\n",
       "      <td>@user @user thanks for #lyft credit i can't us...</td>\n",
       "    </tr>\n",
       "    <tr>\n",
       "      <th>2</th>\n",
       "      <td>3</td>\n",
       "      <td>0</td>\n",
       "      <td>bihday your majesty</td>\n",
       "    </tr>\n",
       "    <tr>\n",
       "      <th>3</th>\n",
       "      <td>4</td>\n",
       "      <td>0</td>\n",
       "      <td>#model   i love u take with u all the time in ...</td>\n",
       "    </tr>\n",
       "    <tr>\n",
       "      <th>4</th>\n",
       "      <td>5</td>\n",
       "      <td>0</td>\n",
       "      <td>factsguide: society now    #motivation</td>\n",
       "    </tr>\n",
       "  </tbody>\n",
       "</table>\n",
       "</div>"
      ],
      "text/plain": [
       "   id  label                                              tweet\n",
       "0   1      0   @user when a father is dysfunctional and is s...\n",
       "1   2      0  @user @user thanks for #lyft credit i can't us...\n",
       "2   3      0                                bihday your majesty\n",
       "3   4      0  #model   i love u take with u all the time in ...\n",
       "4   5      0             factsguide: society now    #motivation"
      ]
     },
     "execution_count": 109,
     "metadata": {},
     "output_type": "execute_result"
    }
   ],
   "source": [
    "df_twitter.head()"
   ]
  },
  {
   "cell_type": "markdown",
   "id": "30ce4559-c08c-4f7e-81a1-9cdbf7e93b45",
   "metadata": {},
   "source": [
    "## Plotting the data"
   ]
  },
  {
   "cell_type": "code",
   "execution_count": 111,
   "id": "4203fdb5-4a5b-4abb-b2af-81e9b59d57cf",
   "metadata": {},
   "outputs": [
    {
     "name": "stderr",
     "output_type": "stream",
     "text": [
      "/tmp/ipykernel_25019/1113370335.py:2: FutureWarning: \n",
      "\n",
      "Passing `palette` without assigning `hue` is deprecated and will be removed in v0.14.0. Assign the `x` variable to `hue` and set `legend=False` for the same effect.\n",
      "\n",
      "  sns.countplot(x='label', data=df_twitter, palette='Set2')\n"
     ]
    },
    {
     "data": {
      "text/plain": [
       "<Axes: xlabel='label', ylabel='count'>"
      ]
     },
     "execution_count": 111,
     "metadata": {},
     "output_type": "execute_result"
    },
    {
     "data": {
      "image/png": "[encoded data removed]",
      "text/plain": [
       "<Figure size 640x480 with 1 Axes>"
      ]
     },
     "metadata": {},
     "output_type": "display_data"
    }
   ],
   "source": [
    "import seaborn as sns\n",
    "sns.countplot(x='label', data=df_twitter, palette='Set2')"
   ]
  },
  {
   "cell_type": "code",
   "execution_count": 112,
   "id": "01041833-8759-471f-a545-777df88947ea",
   "metadata": {},
   "outputs": [
    {
     "data": {
      "text/plain": [
       "(31962, 3)"
      ]
     },
     "execution_count": 112,
     "metadata": {},
     "output_type": "execute_result"
    }
   ],
   "source": [
    "df_twitter.shape"
   ]
  },
  {
   "cell_type": "code",
   "execution_count": 113,
   "id": "dc88b69f-94a3-4903-a33b-236c280bd14f",
   "metadata": {},
   "outputs": [
    {
     "data": {
      "text/plain": [
       "id       0\n",
       "label    0\n",
       "tweet    0\n",
       "dtype: int64"
      ]
     },
     "execution_count": 113,
     "metadata": {},
     "output_type": "execute_result"
    }
   ],
   "source": [
    "df_twitter.isnull().sum()"
   ]
  },
  {
   "cell_type": "code",
   "execution_count": 114,
   "id": "1813fb16-27ef-4f59-87ed-a8f32e5bf59c",
   "metadata": {},
   "outputs": [],
   "source": [
    "df_twitter.drop('id',axis=1,inplace=True)"
   ]
  },
  {
   "cell_type": "code",
   "execution_count": 115,
   "id": "ea17f581-4017-4ec9-ad3c-2780688e761b",
   "metadata": {},
   "outputs": [],
   "source": [
    "df_offensive=pd.read_csv(\"labeled_data.csv\")"
   ]
  },
  {
   "cell_type": "code",
   "execution_count": 116,
   "id": "44c46962-c3ff-4683-88bc-689b056d5860",
   "metadata": {},
   "outputs": [
    {
     "data": {
      "text/html": [
       "<div>\n",
       "<style scoped>\n",
       "    .dataframe tbody tr th:only-of-type {\n",
       "        vertical-align: middle;\n",
       "    }\n",
       "\n",
       "    .dataframe tbody tr th {\n",
       "        vertical-align: top;\n",
       "    }\n",
       "\n",
       "    .dataframe thead th {\n",
       "        text-align: right;\n",
       "    }\n",
       "</style>\n",
       "<table border=\"1\" class=\"dataframe\">\n",
       "  <thead>\n",
       "    <tr style=\"text-align: right;\">\n",
       "      <th></th>\n",
       "      <th>Unnamed: 0</th>\n",
       "      <th>count</th>\n",
       "      <th>hate_speech</th>\n",
       "      <th>offensive_language</th>\n",
       "      <th>neither</th>\n",
       "      <th>class</th>\n",
       "      <th>tweet</th>\n",
       "    </tr>\n",
       "  </thead>\n",
       "  <tbody>\n",
       "    <tr>\n",
       "      <th>0</th>\n",
       "      <td>0</td>\n",
       "      <td>3</td>\n",
       "      <td>0</td>\n",
       "      <td>0</td>\n",
       "      <td>3</td>\n",
       "      <td>2</td>\n",
       "      <td>!!! RT @mayasolovely: As a woman you shouldn't...</td>\n",
       "    </tr>\n",
       "    <tr>\n",
       "      <th>1</th>\n",
       "      <td>1</td>\n",
       "      <td>3</td>\n",
       "      <td>0</td>\n",
       "      <td>3</td>\n",
       "      <td>0</td>\n",
       "      <td>1</td>\n",
       "      <td>!!!!! RT @mleew17: boy dats cold...tyga dwn ba...</td>\n",
       "    </tr>\n",
       "    <tr>\n",
       "      <th>2</th>\n",
       "      <td>2</td>\n",
       "      <td>3</td>\n",
       "      <td>0</td>\n",
       "      <td>3</td>\n",
       "      <td>0</td>\n",
       "      <td>1</td>\n",
       "      <td>!!!!!!! RT @UrKindOfBrand Dawg!!!! RT @80sbaby...</td>\n",
       "    </tr>\n",
       "    <tr>\n",
       "      <th>3</th>\n",
       "      <td>3</td>\n",
       "      <td>3</td>\n",
       "      <td>0</td>\n",
       "      <td>2</td>\n",
       "      <td>1</td>\n",
       "      <td>1</td>\n",
       "      <td>!!!!!!!!! RT @C_G_Anderson: @viva_based she lo...</td>\n",
       "    </tr>\n",
       "    <tr>\n",
       "      <th>4</th>\n",
       "      <td>4</td>\n",
       "      <td>6</td>\n",
       "      <td>0</td>\n",
       "      <td>6</td>\n",
       "      <td>0</td>\n",
       "      <td>1</td>\n",
       "      <td>!!!!!!!!!!!!! RT @ShenikaRoberts: The shit you...</td>\n",
       "    </tr>\n",
       "  </tbody>\n",
       "</table>\n",
       "</div>"
      ],
      "text/plain": [
       "   Unnamed: 0  count  hate_speech  offensive_language  neither  class  \\\n",
       "0           0      3            0                   0        3      2   \n",
       "1           1      3            0                   3        0      1   \n",
       "2           2      3            0                   3        0      1   \n",
       "3           3      3            0                   2        1      1   \n",
       "4           4      6            0                   6        0      1   \n",
       "\n",
       "                                               tweet  \n",
       "0  !!! RT @mayasolovely: As a woman you shouldn't...  \n",
       "1  !!!!! RT @mleew17: boy dats cold...tyga dwn ba...  \n",
       "2  !!!!!!! RT @UrKindOfBrand Dawg!!!! RT @80sbaby...  \n",
       "3  !!!!!!!!! RT @C_G_Anderson: @viva_based she lo...  \n",
       "4  !!!!!!!!!!!!! RT @ShenikaRoberts: The shit you...  "
      ]
     },
     "execution_count": 116,
     "metadata": {},
     "output_type": "execute_result"
    }
   ],
   "source": [
    "df_offensive.head()"
   ]
  },
  {
   "cell_type": "code",
   "execution_count": 117,
   "id": "d08b2f5b-43b0-4f6d-bf97-4b36a3fba90c",
   "metadata": {},
   "outputs": [
    {
     "data": {
      "text/plain": [
       "(24783, 7)"
      ]
     },
     "execution_count": 117,
     "metadata": {},
     "output_type": "execute_result"
    }
   ],
   "source": [
    "df_offensive.shape"
   ]
  },
  {
   "cell_type": "code",
   "execution_count": 118,
   "id": "f1364521-0b19-4cee-a13a-841c2e78fa09",
   "metadata": {},
   "outputs": [
    {
     "data": {
      "text/plain": [
       "Unnamed: 0            0\n",
       "count                 0\n",
       "hate_speech           0\n",
       "offensive_language    0\n",
       "neither               0\n",
       "class                 0\n",
       "tweet                 0\n",
       "dtype: int64"
      ]
     },
     "execution_count": 118,
     "metadata": {},
     "output_type": "execute_result"
    }
   ],
   "source": [
    "df_offensive.isnull().sum()"
   ]
  },
  {
   "cell_type": "code",
   "execution_count": 119,
   "id": "5aa8b44d-e06a-46f8-9506-f08b869994d2",
   "metadata": {},
   "outputs": [],
   "source": [
    "df_offensive.drop(['Unnamed: 0','count','hate_speech','offensive_language','neither'],axis=1,inplace=True)"
   ]
  },
  {
   "cell_type": "code",
   "execution_count": 120,
   "id": "69046147-bb29-44b5-a8f2-1f49ec3946c7",
   "metadata": {},
   "outputs": [
    {
     "data": {
      "text/html": [
       "<div>\n",
       "<style scoped>\n",
       "    .dataframe tbody tr th:only-of-type {\n",
       "        vertical-align: middle;\n",
       "    }\n",
       "\n",
       "    .dataframe tbody tr th {\n",
       "        vertical-align: top;\n",
       "    }\n",
       "\n",
       "    .dataframe thead th {\n",
       "        text-align: right;\n",
       "    }\n",
       "</style>\n",
       "<table border=\"1\" class=\"dataframe\">\n",
       "  <thead>\n",
       "    <tr style=\"text-align: right;\">\n",
       "      <th></th>\n",
       "      <th>class</th>\n",
       "      <th>tweet</th>\n",
       "    </tr>\n",
       "  </thead>\n",
       "  <tbody>\n",
       "    <tr>\n",
       "      <th>0</th>\n",
       "      <td>2</td>\n",
       "      <td>!!! RT @mayasolovely: As a woman you shouldn't...</td>\n",
       "    </tr>\n",
       "    <tr>\n",
       "      <th>1</th>\n",
       "      <td>1</td>\n",
       "      <td>!!!!! RT @mleew17: boy dats cold...tyga dwn ba...</td>\n",
       "    </tr>\n",
       "    <tr>\n",
       "      <th>2</th>\n",
       "      <td>1</td>\n",
       "      <td>!!!!!!! RT @UrKindOfBrand Dawg!!!! RT @80sbaby...</td>\n",
       "    </tr>\n",
       "    <tr>\n",
       "      <th>3</th>\n",
       "      <td>1</td>\n",
       "      <td>!!!!!!!!! RT @C_G_Anderson: @viva_based she lo...</td>\n",
       "    </tr>\n",
       "    <tr>\n",
       "      <th>4</th>\n",
       "      <td>1</td>\n",
       "      <td>!!!!!!!!!!!!! RT @ShenikaRoberts: The shit you...</td>\n",
       "    </tr>\n",
       "    <tr>\n",
       "      <th>5</th>\n",
       "      <td>1</td>\n",
       "      <td>!!!!!!!!!!!!!!!!!!\"@T_Madison_x: The shit just...</td>\n",
       "    </tr>\n",
       "    <tr>\n",
       "      <th>6</th>\n",
       "      <td>1</td>\n",
       "      <td>!!!!!!\"@__BrighterDays: I can not just sit up ...</td>\n",
       "    </tr>\n",
       "    <tr>\n",
       "      <th>7</th>\n",
       "      <td>1</td>\n",
       "      <td>!!!!&amp;#8220;@selfiequeenbri: cause I'm tired of...</td>\n",
       "    </tr>\n",
       "    <tr>\n",
       "      <th>8</th>\n",
       "      <td>1</td>\n",
       "      <td>\" &amp;amp; you might not get ya bitch back &amp;amp; ...</td>\n",
       "    </tr>\n",
       "    <tr>\n",
       "      <th>9</th>\n",
       "      <td>1</td>\n",
       "      <td>\" @rhythmixx_ :hobbies include: fighting Maria...</td>\n",
       "    </tr>\n",
       "  </tbody>\n",
       "</table>\n",
       "</div>"
      ],
      "text/plain": [
       "   class                                              tweet\n",
       "0      2  !!! RT @mayasolovely: As a woman you shouldn't...\n",
       "1      1  !!!!! RT @mleew17: boy dats cold...tyga dwn ba...\n",
       "2      1  !!!!!!! RT @UrKindOfBrand Dawg!!!! RT @80sbaby...\n",
       "3      1  !!!!!!!!! RT @C_G_Anderson: @viva_based she lo...\n",
       "4      1  !!!!!!!!!!!!! RT @ShenikaRoberts: The shit you...\n",
       "5      1  !!!!!!!!!!!!!!!!!!\"@T_Madison_x: The shit just...\n",
       "6      1  !!!!!!\"@__BrighterDays: I can not just sit up ...\n",
       "7      1  !!!!&#8220;@selfiequeenbri: cause I'm tired of...\n",
       "8      1  \" &amp; you might not get ya bitch back &amp; ...\n",
       "9      1  \" @rhythmixx_ :hobbies include: fighting Maria..."
      ]
     },
     "execution_count": 120,
     "metadata": {},
     "output_type": "execute_result"
    }
   ],
   "source": [
    "df_offensive.head(10)"
   ]
  },
  {
   "cell_type": "code",
   "execution_count": 121,
   "id": "c72bc9c6-5a83-4bc3-be5d-0f127e0cc7a1",
   "metadata": {},
   "outputs": [
    {
     "data": {
      "text/plain": [
       "array([2, 1, 0])"
      ]
     },
     "execution_count": 121,
     "metadata": {},
     "output_type": "execute_result"
    }
   ],
   "source": [
    "df_offensive['class'].unique()"
   ]
  },
  {
   "cell_type": "code",
   "execution_count": 122,
   "id": "96e833e4-9f93-4766-ae1e-5a6a87ce04e6",
   "metadata": {},
   "outputs": [
    {
     "name": "stderr",
     "output_type": "stream",
     "text": [
      "/tmp/ipykernel_25019/894762876.py:2: FutureWarning: \n",
      "\n",
      "Passing `palette` without assigning `hue` is deprecated and will be removed in v0.14.0. Assign the `x` variable to `hue` and set `legend=False` for the same effect.\n",
      "\n",
      "  sns.countplot(x='class', data=df_offensive, palette='Set2')\n"
     ]
    },
    {
     "data": {
      "text/plain": [
       "<Axes: xlabel='class', ylabel='count'>"
      ]
     },
     "execution_count": 122,
     "metadata": {},
     "output_type": "execute_result"
    },
    {
     "data": {
      "image/png": "[encoded data removed]",
      "text/plain": [
       "<Figure size 640x480 with 1 Axes>"
      ]
     },
     "metadata": {},
     "output_type": "display_data"
    }
   ],
   "source": [
    "import seaborn as sns\n",
    "sns.countplot(x='class', data=df_offensive, palette='Set2')"
   ]
  },
  {
   "cell_type": "code",
   "execution_count": 123,
   "id": "8c0d8484-efa4-4d11-bf1b-2e702b9d38a9",
   "metadata": {},
   "outputs": [
    {
     "name": "stderr",
     "output_type": "stream",
     "text": [
      "/tmp/ipykernel_25019/2275510384.py:1: SettingWithCopyWarning: \n",
      "A value is trying to be set on a copy of a slice from a DataFrame.\n",
      "Try using .loc[row_indexer,col_indexer] = value instead\n",
      "\n",
      "See the caveats in the documentation: https://pandas.pydata.org/pandas-docs/stable/user_guide/indexing.html#returning-a-view-versus-a-copy\n",
      "  df_offensive[df_offensive['class']==0]['class']=1\n"
     ]
    }
   ],
   "source": [
    "df_offensive[df_offensive['class']==0]['class']=1"
   ]
  },
  {
   "cell_type": "code",
   "execution_count": 124,
   "id": "40d23dff-19bd-457f-9d00-d4032b467662",
   "metadata": {},
   "outputs": [
    {
     "data": {
      "text/html": [
       "<div>\n",
       "<style scoped>\n",
       "    .dataframe tbody tr th:only-of-type {\n",
       "        vertical-align: middle;\n",
       "    }\n",
       "\n",
       "    .dataframe tbody tr th {\n",
       "        vertical-align: top;\n",
       "    }\n",
       "\n",
       "    .dataframe thead th {\n",
       "        text-align: right;\n",
       "    }\n",
       "</style>\n",
       "<table border=\"1\" class=\"dataframe\">\n",
       "  <thead>\n",
       "    <tr style=\"text-align: right;\">\n",
       "      <th></th>\n",
       "      <th>class</th>\n",
       "      <th>tweet</th>\n",
       "    </tr>\n",
       "  </thead>\n",
       "  <tbody>\n",
       "    <tr>\n",
       "      <th>0</th>\n",
       "      <td>2</td>\n",
       "      <td>!!! RT @mayasolovely: As a woman you shouldn't...</td>\n",
       "    </tr>\n",
       "    <tr>\n",
       "      <th>1</th>\n",
       "      <td>1</td>\n",
       "      <td>!!!!! RT @mleew17: boy dats cold...tyga dwn ba...</td>\n",
       "    </tr>\n",
       "    <tr>\n",
       "      <th>2</th>\n",
       "      <td>1</td>\n",
       "      <td>!!!!!!! RT @UrKindOfBrand Dawg!!!! RT @80sbaby...</td>\n",
       "    </tr>\n",
       "    <tr>\n",
       "      <th>3</th>\n",
       "      <td>1</td>\n",
       "      <td>!!!!!!!!! RT @C_G_Anderson: @viva_based she lo...</td>\n",
       "    </tr>\n",
       "    <tr>\n",
       "      <th>4</th>\n",
       "      <td>1</td>\n",
       "      <td>!!!!!!!!!!!!! RT @ShenikaRoberts: The shit you...</td>\n",
       "    </tr>\n",
       "  </tbody>\n",
       "</table>\n",
       "</div>"
      ],
      "text/plain": [
       "   class                                              tweet\n",
       "0      2  !!! RT @mayasolovely: As a woman you shouldn't...\n",
       "1      1  !!!!! RT @mleew17: boy dats cold...tyga dwn ba...\n",
       "2      1  !!!!!!! RT @UrKindOfBrand Dawg!!!! RT @80sbaby...\n",
       "3      1  !!!!!!!!! RT @C_G_Anderson: @viva_based she lo...\n",
       "4      1  !!!!!!!!!!!!! RT @ShenikaRoberts: The shit you..."
      ]
     },
     "execution_count": 124,
     "metadata": {},
     "output_type": "execute_result"
    }
   ],
   "source": [
    "df_offensive.head(5)"
   ]
  },
  {
   "cell_type": "code",
   "execution_count": 125,
   "id": "f477b172-dd3a-45f3-ac34-60e4a90b2f3f",
   "metadata": {},
   "outputs": [
    {
     "data": {
      "text/plain": [
       "array([2, 1, 0])"
      ]
     },
     "execution_count": 125,
     "metadata": {},
     "output_type": "execute_result"
    }
   ],
   "source": [
    "df_offensive['class'].unique()"
   ]
  },
  {
   "cell_type": "code",
   "execution_count": 126,
   "id": "3d38ffca-e446-46ad-a9df-a736ae095d86",
   "metadata": {},
   "outputs": [
    {
     "data": {
      "text/html": [
       "<div>\n",
       "<style scoped>\n",
       "    .dataframe tbody tr th:only-of-type {\n",
       "        vertical-align: middle;\n",
       "    }\n",
       "\n",
       "    .dataframe tbody tr th {\n",
       "        vertical-align: top;\n",
       "    }\n",
       "\n",
       "    .dataframe thead th {\n",
       "        text-align: right;\n",
       "    }\n",
       "</style>\n",
       "<table border=\"1\" class=\"dataframe\">\n",
       "  <thead>\n",
       "    <tr style=\"text-align: right;\">\n",
       "      <th></th>\n",
       "      <th>class</th>\n",
       "      <th>tweet</th>\n",
       "    </tr>\n",
       "  </thead>\n",
       "  <tbody>\n",
       "    <tr>\n",
       "      <th>85</th>\n",
       "      <td>0</td>\n",
       "      <td>\"@Blackman38Tide: @WhaleLookyHere @HowdyDowdy1...</td>\n",
       "    </tr>\n",
       "    <tr>\n",
       "      <th>89</th>\n",
       "      <td>0</td>\n",
       "      <td>\"@CB_Baby24: @white_thunduh alsarabsss\" hes a ...</td>\n",
       "    </tr>\n",
       "    <tr>\n",
       "      <th>110</th>\n",
       "      <td>0</td>\n",
       "      <td>\"@DevilGrimz: @VigxRArts you're fucking gay, b...</td>\n",
       "    </tr>\n",
       "    <tr>\n",
       "      <th>184</th>\n",
       "      <td>0</td>\n",
       "      <td>\"@MarkRoundtreeJr: LMFAOOOO I HATE BLACK PEOPL...</td>\n",
       "    </tr>\n",
       "    <tr>\n",
       "      <th>202</th>\n",
       "      <td>0</td>\n",
       "      <td>\"@NoChillPaz: \"At least I'm not a nigger\" http...</td>\n",
       "    </tr>\n",
       "    <tr>\n",
       "      <th>...</th>\n",
       "      <td>...</td>\n",
       "      <td>...</td>\n",
       "    </tr>\n",
       "    <tr>\n",
       "      <th>24576</th>\n",
       "      <td>0</td>\n",
       "      <td>this guy is the biggest faggot omfg</td>\n",
       "    </tr>\n",
       "    <tr>\n",
       "      <th>24685</th>\n",
       "      <td>0</td>\n",
       "      <td>which one of these names is more offensive kik...</td>\n",
       "    </tr>\n",
       "    <tr>\n",
       "      <th>24751</th>\n",
       "      <td>0</td>\n",
       "      <td>you a pussy ass nigga and I know it nigga.</td>\n",
       "    </tr>\n",
       "    <tr>\n",
       "      <th>24776</th>\n",
       "      <td>0</td>\n",
       "      <td>you're all niggers</td>\n",
       "    </tr>\n",
       "    <tr>\n",
       "      <th>24777</th>\n",
       "      <td>0</td>\n",
       "      <td>you're such a retard i hope you get type 2 dia...</td>\n",
       "    </tr>\n",
       "  </tbody>\n",
       "</table>\n",
       "<p>1430 rows × 2 columns</p>\n",
       "</div>"
      ],
      "text/plain": [
       "       class                                              tweet\n",
       "85         0  \"@Blackman38Tide: @WhaleLookyHere @HowdyDowdy1...\n",
       "89         0  \"@CB_Baby24: @white_thunduh alsarabsss\" hes a ...\n",
       "110        0  \"@DevilGrimz: @VigxRArts you're fucking gay, b...\n",
       "184        0  \"@MarkRoundtreeJr: LMFAOOOO I HATE BLACK PEOPL...\n",
       "202        0  \"@NoChillPaz: \"At least I'm not a nigger\" http...\n",
       "...      ...                                                ...\n",
       "24576      0                this guy is the biggest faggot omfg\n",
       "24685      0  which one of these names is more offensive kik...\n",
       "24751      0         you a pussy ass nigga and I know it nigga.\n",
       "24776      0                                 you're all niggers\n",
       "24777      0  you're such a retard i hope you get type 2 dia...\n",
       "\n",
       "[1430 rows x 2 columns]"
      ]
     },
     "execution_count": 126,
     "metadata": {},
     "output_type": "execute_result"
    }
   ],
   "source": [
    "df_offensive[df_offensive['class']==0]"
   ]
  },
  {
   "cell_type": "code",
   "execution_count": 127,
   "id": "207f546b-5af5-4355-9b43-9f3514a40cd2",
   "metadata": {},
   "outputs": [
    {
     "name": "stdout",
     "output_type": "stream",
     "text": [
      "Requirement already satisfied: imblearn in /home/ec2-user/anaconda3/envs/tensorflow2_p310/lib/python3.10/site-packages (0.0)\n",
      "Requirement already satisfied: imbalanced-learn in /home/ec2-user/anaconda3/envs/tensorflow2_p310/lib/python3.10/site-packages (from imblearn) (0.13.0)\n",
      "Requirement already satisfied: numpy<3,>=1.24.3 in /home/ec2-user/anaconda3/envs/tensorflow2_p310/lib/python3.10/site-packages (from imbalanced-learn->imblearn) (1.26.4)\n",
      "Requirement already satisfied: scipy<2,>=1.10.1 in /home/ec2-user/anaconda3/envs/tensorflow2_p310/lib/python3.10/site-packages (from imbalanced-learn->imblearn) (1.15.1)\n",
      "Requirement already satisfied: scikit-learn<2,>=1.3.2 in /home/ec2-user/anaconda3/envs/tensorflow2_p310/lib/python3.10/site-packages (from imbalanced-learn->imblearn) (1.6.1)\n",
      "Requirement already satisfied: sklearn-compat<1,>=0.1 in /home/ec2-user/anaconda3/envs/tensorflow2_p310/lib/python3.10/site-packages (from imbalanced-learn->imblearn) (0.1.3)\n",
      "Requirement already satisfied: joblib<2,>=1.1.1 in /home/ec2-user/anaconda3/envs/tensorflow2_p310/lib/python3.10/site-packages (from imbalanced-learn->imblearn) (1.4.2)\n",
      "Requirement already satisfied: threadpoolctl<4,>=2.0.0 in /home/ec2-user/anaconda3/envs/tensorflow2_p310/lib/python3.10/site-packages (from imbalanced-learn->imblearn) (3.5.0)\n",
      "Note: you may need to restart the kernel to use updated packages.\n"
     ]
    }
   ],
   "source": [
    "pip install imblearn"
   ]
  },
  {
   "cell_type": "code",
   "execution_count": 129,
   "id": "f3fcc56b-2099-44d7-83da-c4f5a7442d04",
   "metadata": {},
   "outputs": [],
   "source": [
    "df_offensive[\"class\"].replace({0: 1}, inplace=True)"
   ]
  },
  {
   "cell_type": "code",
   "execution_count": 130,
   "id": "e4964f2f-7210-4b3a-b9e1-619d658534a7",
   "metadata": {},
   "outputs": [
    {
     "data": {
      "text/plain": [
       "array([2, 1])"
      ]
     },
     "execution_count": 130,
     "metadata": {},
     "output_type": "execute_result"
    }
   ],
   "source": [
    "df_offensive['class'].unique()"
   ]
  },
  {
   "cell_type": "code",
   "execution_count": 131,
   "id": "23ac05fe-a276-4ec3-be8c-5a001fb26dfe",
   "metadata": {},
   "outputs": [
    {
     "name": "stderr",
     "output_type": "stream",
     "text": [
      "/tmp/ipykernel_25019/894762876.py:2: FutureWarning: \n",
      "\n",
      "Passing `palette` without assigning `hue` is deprecated and will be removed in v0.14.0. Assign the `x` variable to `hue` and set `legend=False` for the same effect.\n",
      "\n",
      "  sns.countplot(x='class', data=df_offensive, palette='Set2')\n"
     ]
    },
    {
     "data": {
      "text/plain": [
       "<Axes: xlabel='class', ylabel='count'>"
      ]
     },
     "execution_count": 131,
     "metadata": {},
     "output_type": "execute_result"
    },
    {
     "data": {
      "image/png": "[encoded data removed]",
      "text/plain": [
       "<Figure size 640x480 with 1 Axes>"
      ]
     },
     "metadata": {},
     "output_type": "display_data"
    }
   ],
   "source": [
    "import seaborn as sns\n",
    "sns.countplot(x='class', data=df_offensive, palette='Set2')"
   ]
  },
  {
   "cell_type": "code",
   "execution_count": 132,
   "id": "4a73ea96-34bf-478a-8162-d78794845987",
   "metadata": {},
   "outputs": [
    {
     "data": {
      "text/html": [
       "<div>\n",
       "<style scoped>\n",
       "    .dataframe tbody tr th:only-of-type {\n",
       "        vertical-align: middle;\n",
       "    }\n",
       "\n",
       "    .dataframe tbody tr th {\n",
       "        vertical-align: top;\n",
       "    }\n",
       "\n",
       "    .dataframe thead th {\n",
       "        text-align: right;\n",
       "    }\n",
       "</style>\n",
       "<table border=\"1\" class=\"dataframe\">\n",
       "  <thead>\n",
       "    <tr style=\"text-align: right;\">\n",
       "      <th></th>\n",
       "      <th>class</th>\n",
       "      <th>tweet</th>\n",
       "    </tr>\n",
       "  </thead>\n",
       "  <tbody>\n",
       "  </tbody>\n",
       "</table>\n",
       "</div>"
      ],
      "text/plain": [
       "Empty DataFrame\n",
       "Columns: [class, tweet]\n",
       "Index: []"
      ]
     },
     "execution_count": 132,
     "metadata": {},
     "output_type": "execute_result"
    }
   ],
   "source": [
    "df_offensive[df_offensive['class']==0]"
   ]
  },
  {
   "cell_type": "code",
   "execution_count": 133,
   "id": "144f79ca-0cf7-4544-8283-df6888062e3f",
   "metadata": {},
   "outputs": [],
   "source": [
    "df_offensive[\"class\"].replace({2: 0}, inplace=True)"
   ]
  },
  {
   "cell_type": "code",
   "execution_count": 134,
   "id": "9c8b2919-be3f-4578-a435-096995ab0016",
   "metadata": {},
   "outputs": [
    {
     "name": "stderr",
     "output_type": "stream",
     "text": [
      "/tmp/ipykernel_25019/4036810922.py:2: FutureWarning: \n",
      "\n",
      "Passing `palette` without assigning `hue` is deprecated and will be removed in v0.14.0. Assign the `x` variable to `hue` and set `legend=False` for the same effect.\n",
      "\n",
      "  sns.countplot(x='class',data=df_offensive, palette='Set2')\n"
     ]
    },
    {
     "data": {
      "text/plain": [
       "<Axes: xlabel='class', ylabel='count'>"
      ]
     },
     "execution_count": 134,
     "metadata": {},
     "output_type": "execute_result"
    },
    {
     "data": {
      "image/png": "[encoded data removed]",
      "text/plain": [
       "<Figure size 640x480 with 1 Axes>"
      ]
     },
     "metadata": {},
     "output_type": "display_data"
    }
   ],
   "source": [
    "import seaborn as sns\n",
    "sns.countplot(x='class',data=df_offensive, palette='Set2')"
   ]
  },
  {
   "cell_type": "code",
   "execution_count": 135,
   "id": "309cc800-7f4b-4bcd-8d24-2ba487c2120e",
   "metadata": {},
   "outputs": [],
   "source": [
    "df_offensive.rename(columns ={'class':'label'}, inplace = True)"
   ]
  },
  {
   "cell_type": "code",
   "execution_count": 136,
   "id": "7c575603-34de-4fb7-a609-48be2a90875a",
   "metadata": {},
   "outputs": [
    {
     "data": {
      "text/html": [
       "<div>\n",
       "<style scoped>\n",
       "    .dataframe tbody tr th:only-of-type {\n",
       "        vertical-align: middle;\n",
       "    }\n",
       "\n",
       "    .dataframe tbody tr th {\n",
       "        vertical-align: top;\n",
       "    }\n",
       "\n",
       "    .dataframe thead th {\n",
       "        text-align: right;\n",
       "    }\n",
       "</style>\n",
       "<table border=\"1\" class=\"dataframe\">\n",
       "  <thead>\n",
       "    <tr style=\"text-align: right;\">\n",
       "      <th></th>\n",
       "      <th>label</th>\n",
       "      <th>tweet</th>\n",
       "    </tr>\n",
       "  </thead>\n",
       "  <tbody>\n",
       "    <tr>\n",
       "      <th>0</th>\n",
       "      <td>0</td>\n",
       "      <td>!!! RT @mayasolovely: As a woman you shouldn't...</td>\n",
       "    </tr>\n",
       "    <tr>\n",
       "      <th>1</th>\n",
       "      <td>1</td>\n",
       "      <td>!!!!! RT @mleew17: boy dats cold...tyga dwn ba...</td>\n",
       "    </tr>\n",
       "    <tr>\n",
       "      <th>2</th>\n",
       "      <td>1</td>\n",
       "      <td>!!!!!!! RT @UrKindOfBrand Dawg!!!! RT @80sbaby...</td>\n",
       "    </tr>\n",
       "    <tr>\n",
       "      <th>3</th>\n",
       "      <td>1</td>\n",
       "      <td>!!!!!!!!! RT @C_G_Anderson: @viva_based she lo...</td>\n",
       "    </tr>\n",
       "    <tr>\n",
       "      <th>4</th>\n",
       "      <td>1</td>\n",
       "      <td>!!!!!!!!!!!!! RT @ShenikaRoberts: The shit you...</td>\n",
       "    </tr>\n",
       "  </tbody>\n",
       "</table>\n",
       "</div>"
      ],
      "text/plain": [
       "   label                                              tweet\n",
       "0      0  !!! RT @mayasolovely: As a woman you shouldn't...\n",
       "1      1  !!!!! RT @mleew17: boy dats cold...tyga dwn ba...\n",
       "2      1  !!!!!!! RT @UrKindOfBrand Dawg!!!! RT @80sbaby...\n",
       "3      1  !!!!!!!!! RT @C_G_Anderson: @viva_based she lo...\n",
       "4      1  !!!!!!!!!!!!! RT @ShenikaRoberts: The shit you..."
      ]
     },
     "execution_count": 136,
     "metadata": {},
     "output_type": "execute_result"
    }
   ],
   "source": [
    "df_offensive.head()"
   ]
  },
  {
   "cell_type": "code",
   "execution_count": 137,
   "id": "593f7244-24d5-4d4c-95cb-847e4d836133",
   "metadata": {},
   "outputs": [
    {
     "data": {
      "text/plain": [
       "\"!!! RT @mayasolovely: As a woman you shouldn't complain about cleaning up your house. &amp; as a man you should always take the trash out...\""
      ]
     },
     "execution_count": 137,
     "metadata": {},
     "output_type": "execute_result"
    }
   ],
   "source": [
    "df_offensive.iloc[0]['tweet']"
   ]
  },
  {
   "cell_type": "code",
   "execution_count": 138,
   "id": "5e8053a9-5329-4f95-99a6-9ebfc69d4c70",
   "metadata": {},
   "outputs": [
    {
     "data": {
      "text/plain": [
       "'!!!!!!!!!!!!!!!!!!\"@T_Madison_x: The shit just blows me..claim you so faithful and down for somebody but still fucking with hoes! &#128514;&#128514;&#128514;\"'"
      ]
     },
     "execution_count": 138,
     "metadata": {},
     "output_type": "execute_result"
    }
   ],
   "source": [
    "df_offensive.iloc[5]['tweet']"
   ]
  },
  {
   "cell_type": "code",
   "execution_count": 139,
   "id": "9abf3bb3-3fab-43fa-8395-d5696f799bb0",
   "metadata": {},
   "outputs": [],
   "source": [
    "frame=[df_twitter,df_offensive]\n",
    "df = pd.concat(frame)"
   ]
  },
  {
   "cell_type": "code",
   "execution_count": 140,
   "id": "f6caad41-07da-41f4-82cc-51d71ac249a8",
   "metadata": {},
   "outputs": [
    {
     "data": {
      "text/html": [
       "<div>\n",
       "<style scoped>\n",
       "    .dataframe tbody tr th:only-of-type {\n",
       "        vertical-align: middle;\n",
       "    }\n",
       "\n",
       "    .dataframe tbody tr th {\n",
       "        vertical-align: top;\n",
       "    }\n",
       "\n",
       "    .dataframe thead th {\n",
       "        text-align: right;\n",
       "    }\n",
       "</style>\n",
       "<table border=\"1\" class=\"dataframe\">\n",
       "  <thead>\n",
       "    <tr style=\"text-align: right;\">\n",
       "      <th></th>\n",
       "      <th>label</th>\n",
       "      <th>tweet</th>\n",
       "    </tr>\n",
       "  </thead>\n",
       "  <tbody>\n",
       "    <tr>\n",
       "      <th>0</th>\n",
       "      <td>0</td>\n",
       "      <td>@user when a father is dysfunctional and is s...</td>\n",
       "    </tr>\n",
       "    <tr>\n",
       "      <th>1</th>\n",
       "      <td>0</td>\n",
       "      <td>@user @user thanks for #lyft credit i can't us...</td>\n",
       "    </tr>\n",
       "    <tr>\n",
       "      <th>2</th>\n",
       "      <td>0</td>\n",
       "      <td>bihday your majesty</td>\n",
       "    </tr>\n",
       "    <tr>\n",
       "      <th>3</th>\n",
       "      <td>0</td>\n",
       "      <td>#model   i love u take with u all the time in ...</td>\n",
       "    </tr>\n",
       "    <tr>\n",
       "      <th>4</th>\n",
       "      <td>0</td>\n",
       "      <td>factsguide: society now    #motivation</td>\n",
       "    </tr>\n",
       "  </tbody>\n",
       "</table>\n",
       "</div>"
      ],
      "text/plain": [
       "   label                                              tweet\n",
       "0      0   @user when a father is dysfunctional and is s...\n",
       "1      0  @user @user thanks for #lyft credit i can't us...\n",
       "2      0                                bihday your majesty\n",
       "3      0  #model   i love u take with u all the time in ...\n",
       "4      0             factsguide: society now    #motivation"
      ]
     },
     "execution_count": 140,
     "metadata": {},
     "output_type": "execute_result"
    }
   ],
   "source": [
    "df.head()"
   ]
  },
  {
   "cell_type": "markdown",
   "id": "eecd2583-8c58-4743-a884-395d4a0b5ca4",
   "metadata": {},
   "source": [
    "## Balancing the Data"
   ]
  },
  {
   "cell_type": "code",
   "execution_count": 154,
   "id": "7ffca446-e33e-46b8-bcaa-de4f77ec0e8b",
   "metadata": {
    "scrolled": true
   },
   "outputs": [
    {
     "ename": "ValueError",
     "evalue": "Found input variables with inconsistent numbers of samples: [45396, 42558]",
     "output_type": "error",
     "traceback": [
      "\u001b[0;31m---------------------------------------------------------------------------\u001b[0m",
      "\u001b[0;31mValueError\u001b[0m                                Traceback (most recent call last)",
      "Cell \u001b[0;32mIn[154], line 9\u001b[0m\n\u001b[1;32m      6\u001b[0m undersample \u001b[38;5;241m=\u001b[39m RandomUnderSampler(sampling_strategy\u001b[38;5;241m=\u001b[39m\u001b[38;5;241m0.7\u001b[39m, random_state\u001b[38;5;241m=\u001b[39m\u001b[38;5;241m42\u001b[39m)\n\u001b[1;32m      8\u001b[0m \u001b[38;5;66;03m# Apply to feature matrix (X) and labels (y)\u001b[39;00m\n\u001b[0;32m----> 9\u001b[0m X_smote, y_smote \u001b[38;5;241m=\u001b[39m \u001b[43msmote\u001b[49m\u001b[38;5;241;43m.\u001b[39;49m\u001b[43mfit_resample\u001b[49m\u001b[43m(\u001b[49m\u001b[43mX_train\u001b[49m\u001b[43m,\u001b[49m\u001b[43m \u001b[49m\u001b[43my_train\u001b[49m\u001b[43m)\u001b[49m\n\u001b[1;32m     10\u001b[0m X_balanced, y_balanced \u001b[38;5;241m=\u001b[39m undersample\u001b[38;5;241m.\u001b[39mfit_resample(X_smote, y_smote)\n\u001b[1;32m     12\u001b[0m \u001b[38;5;28mprint\u001b[39m(\u001b[38;5;124mf\u001b[39m\u001b[38;5;124m\"\u001b[39m\u001b[38;5;124mOriginal class distribution: \u001b[39m\u001b[38;5;132;01m{\u001b[39;00mCounter(y_train)\u001b[38;5;132;01m}\u001b[39;00m\u001b[38;5;124m\"\u001b[39m)\n",
      "File \u001b[0;32m~/anaconda3/envs/tensorflow2_p310/lib/python3.10/site-packages/imblearn/base.py:202\u001b[0m, in \u001b[0;36mBaseSampler.fit_resample\u001b[0;34m(self, X, y, **params)\u001b[0m\n\u001b[1;32m    181\u001b[0m \u001b[38;5;28;01mdef\u001b[39;00m\u001b[38;5;250m \u001b[39m\u001b[38;5;21mfit_resample\u001b[39m(\u001b[38;5;28mself\u001b[39m, X, y, \u001b[38;5;241m*\u001b[39m\u001b[38;5;241m*\u001b[39mparams):\n\u001b[1;32m    182\u001b[0m \u001b[38;5;250m    \u001b[39m\u001b[38;5;124;03m\"\"\"Resample the dataset.\u001b[39;00m\n\u001b[1;32m    183\u001b[0m \n\u001b[1;32m    184\u001b[0m \u001b[38;5;124;03m    Parameters\u001b[39;00m\n\u001b[0;32m   (...)\u001b[0m\n\u001b[1;32m    200\u001b[0m \u001b[38;5;124;03m        The corresponding label of `X_resampled`.\u001b[39;00m\n\u001b[1;32m    201\u001b[0m \u001b[38;5;124;03m    \"\"\"\u001b[39;00m\n\u001b[0;32m--> 202\u001b[0m     \u001b[38;5;28;01mreturn\u001b[39;00m \u001b[38;5;28;43msuper\u001b[39;49m\u001b[43m(\u001b[49m\u001b[43m)\u001b[49m\u001b[38;5;241;43m.\u001b[39;49m\u001b[43mfit_resample\u001b[49m\u001b[43m(\u001b[49m\u001b[43mX\u001b[49m\u001b[43m,\u001b[49m\u001b[43m \u001b[49m\u001b[43my\u001b[49m\u001b[43m,\u001b[49m\u001b[43m \u001b[49m\u001b[38;5;241;43m*\u001b[39;49m\u001b[38;5;241;43m*\u001b[39;49m\u001b[43mparams\u001b[49m\u001b[43m)\u001b[49m\n",
      "File \u001b[0;32m~/anaconda3/envs/tensorflow2_p310/lib/python3.10/site-packages/sklearn/base.py:1389\u001b[0m, in \u001b[0;36m_fit_context.<locals>.decorator.<locals>.wrapper\u001b[0;34m(estimator, *args, **kwargs)\u001b[0m\n\u001b[1;32m   1382\u001b[0m     estimator\u001b[38;5;241m.\u001b[39m_validate_params()\n\u001b[1;32m   1384\u001b[0m \u001b[38;5;28;01mwith\u001b[39;00m config_context(\n\u001b[1;32m   1385\u001b[0m     skip_parameter_validation\u001b[38;5;241m=\u001b[39m(\n\u001b[1;32m   1386\u001b[0m         prefer_skip_nested_validation \u001b[38;5;129;01mor\u001b[39;00m global_skip_validation\n\u001b[1;32m   1387\u001b[0m     )\n\u001b[1;32m   1388\u001b[0m ):\n\u001b[0;32m-> 1389\u001b[0m     \u001b[38;5;28;01mreturn\u001b[39;00m \u001b[43mfit_method\u001b[49m\u001b[43m(\u001b[49m\u001b[43mestimator\u001b[49m\u001b[43m,\u001b[49m\u001b[43m \u001b[49m\u001b[38;5;241;43m*\u001b[39;49m\u001b[43margs\u001b[49m\u001b[43m,\u001b[49m\u001b[43m \u001b[49m\u001b[38;5;241;43m*\u001b[39;49m\u001b[38;5;241;43m*\u001b[39;49m\u001b[43mkwargs\u001b[49m\u001b[43m)\u001b[49m\n",
      "File \u001b[0;32m~/anaconda3/envs/tensorflow2_p310/lib/python3.10/site-packages/imblearn/base.py:99\u001b[0m, in \u001b[0;36mSamplerMixin.fit_resample\u001b[0;34m(self, X, y, **params)\u001b[0m\n\u001b[1;32m     97\u001b[0m check_classification_targets(y)\n\u001b[1;32m     98\u001b[0m arrays_transformer \u001b[38;5;241m=\u001b[39m ArraysTransformer(X, y)\n\u001b[0;32m---> 99\u001b[0m X, y, binarize_y \u001b[38;5;241m=\u001b[39m \u001b[38;5;28;43mself\u001b[39;49m\u001b[38;5;241;43m.\u001b[39;49m\u001b[43m_check_X_y\u001b[49m\u001b[43m(\u001b[49m\u001b[43mX\u001b[49m\u001b[43m,\u001b[49m\u001b[43m \u001b[49m\u001b[43my\u001b[49m\u001b[43m)\u001b[49m\n\u001b[1;32m    101\u001b[0m \u001b[38;5;28mself\u001b[39m\u001b[38;5;241m.\u001b[39msampling_strategy_ \u001b[38;5;241m=\u001b[39m check_sampling_strategy(\n\u001b[1;32m    102\u001b[0m     \u001b[38;5;28mself\u001b[39m\u001b[38;5;241m.\u001b[39msampling_strategy, y, \u001b[38;5;28mself\u001b[39m\u001b[38;5;241m.\u001b[39m_sampling_type\n\u001b[1;32m    103\u001b[0m )\n\u001b[1;32m    105\u001b[0m output \u001b[38;5;241m=\u001b[39m \u001b[38;5;28mself\u001b[39m\u001b[38;5;241m.\u001b[39m_fit_resample(X, y, \u001b[38;5;241m*\u001b[39m\u001b[38;5;241m*\u001b[39mparams)\n",
      "File \u001b[0;32m~/anaconda3/envs/tensorflow2_p310/lib/python3.10/site-packages/imblearn/base.py:157\u001b[0m, in \u001b[0;36mBaseSampler._check_X_y\u001b[0;34m(self, X, y, accept_sparse)\u001b[0m\n\u001b[1;32m    155\u001b[0m     accept_sparse \u001b[38;5;241m=\u001b[39m [\u001b[38;5;124m\"\u001b[39m\u001b[38;5;124mcsr\u001b[39m\u001b[38;5;124m\"\u001b[39m, \u001b[38;5;124m\"\u001b[39m\u001b[38;5;124mcsc\u001b[39m\u001b[38;5;124m\"\u001b[39m]\n\u001b[1;32m    156\u001b[0m y, binarize_y \u001b[38;5;241m=\u001b[39m check_target_type(y, indicate_one_vs_all\u001b[38;5;241m=\u001b[39m\u001b[38;5;28;01mTrue\u001b[39;00m)\n\u001b[0;32m--> 157\u001b[0m X, y \u001b[38;5;241m=\u001b[39m \u001b[43mvalidate_data\u001b[49m\u001b[43m(\u001b[49m\u001b[38;5;28;43mself\u001b[39;49m\u001b[43m,\u001b[49m\u001b[43m \u001b[49m\u001b[43mX\u001b[49m\u001b[38;5;241;43m=\u001b[39;49m\u001b[43mX\u001b[49m\u001b[43m,\u001b[49m\u001b[43m \u001b[49m\u001b[43my\u001b[49m\u001b[38;5;241;43m=\u001b[39;49m\u001b[43my\u001b[49m\u001b[43m,\u001b[49m\u001b[43m \u001b[49m\u001b[43mreset\u001b[49m\u001b[38;5;241;43m=\u001b[39;49m\u001b[38;5;28;43;01mTrue\u001b[39;49;00m\u001b[43m,\u001b[49m\u001b[43m \u001b[49m\u001b[43maccept_sparse\u001b[49m\u001b[38;5;241;43m=\u001b[39;49m\u001b[43maccept_sparse\u001b[49m\u001b[43m)\u001b[49m\n\u001b[1;32m    158\u001b[0m \u001b[38;5;28;01mreturn\u001b[39;00m X, y, binarize_y\n",
      "File \u001b[0;32m~/anaconda3/envs/tensorflow2_p310/lib/python3.10/site-packages/sklearn/utils/validation.py:2961\u001b[0m, in \u001b[0;36mvalidate_data\u001b[0;34m(_estimator, X, y, reset, validate_separately, skip_check_array, **check_params)\u001b[0m\n\u001b[1;32m   2959\u001b[0m         y \u001b[38;5;241m=\u001b[39m check_array(y, input_name\u001b[38;5;241m=\u001b[39m\u001b[38;5;124m\"\u001b[39m\u001b[38;5;124my\u001b[39m\u001b[38;5;124m\"\u001b[39m, \u001b[38;5;241m*\u001b[39m\u001b[38;5;241m*\u001b[39mcheck_y_params)\n\u001b[1;32m   2960\u001b[0m     \u001b[38;5;28;01melse\u001b[39;00m:\n\u001b[0;32m-> 2961\u001b[0m         X, y \u001b[38;5;241m=\u001b[39m \u001b[43mcheck_X_y\u001b[49m\u001b[43m(\u001b[49m\u001b[43mX\u001b[49m\u001b[43m,\u001b[49m\u001b[43m \u001b[49m\u001b[43my\u001b[49m\u001b[43m,\u001b[49m\u001b[43m \u001b[49m\u001b[38;5;241;43m*\u001b[39;49m\u001b[38;5;241;43m*\u001b[39;49m\u001b[43mcheck_params\u001b[49m\u001b[43m)\u001b[49m\n\u001b[1;32m   2962\u001b[0m     out \u001b[38;5;241m=\u001b[39m X, y\n\u001b[1;32m   2964\u001b[0m \u001b[38;5;28;01mif\u001b[39;00m \u001b[38;5;129;01mnot\u001b[39;00m no_val_X \u001b[38;5;129;01mand\u001b[39;00m check_params\u001b[38;5;241m.\u001b[39mget(\u001b[38;5;124m\"\u001b[39m\u001b[38;5;124mensure_2d\u001b[39m\u001b[38;5;124m\"\u001b[39m, \u001b[38;5;28;01mTrue\u001b[39;00m):\n",
      "File \u001b[0;32m~/anaconda3/envs/tensorflow2_p310/lib/python3.10/site-packages/sklearn/utils/validation.py:1389\u001b[0m, in \u001b[0;36mcheck_X_y\u001b[0;34m(X, y, accept_sparse, accept_large_sparse, dtype, order, copy, force_writeable, force_all_finite, ensure_all_finite, ensure_2d, allow_nd, multi_output, ensure_min_samples, ensure_min_features, y_numeric, estimator)\u001b[0m\n\u001b[1;32m   1370\u001b[0m X \u001b[38;5;241m=\u001b[39m check_array(\n\u001b[1;32m   1371\u001b[0m     X,\n\u001b[1;32m   1372\u001b[0m     accept_sparse\u001b[38;5;241m=\u001b[39maccept_sparse,\n\u001b[0;32m   (...)\u001b[0m\n\u001b[1;32m   1384\u001b[0m     input_name\u001b[38;5;241m=\u001b[39m\u001b[38;5;124m\"\u001b[39m\u001b[38;5;124mX\u001b[39m\u001b[38;5;124m\"\u001b[39m,\n\u001b[1;32m   1385\u001b[0m )\n\u001b[1;32m   1387\u001b[0m y \u001b[38;5;241m=\u001b[39m _check_y(y, multi_output\u001b[38;5;241m=\u001b[39mmulti_output, y_numeric\u001b[38;5;241m=\u001b[39my_numeric, estimator\u001b[38;5;241m=\u001b[39mestimator)\n\u001b[0;32m-> 1389\u001b[0m \u001b[43mcheck_consistent_length\u001b[49m\u001b[43m(\u001b[49m\u001b[43mX\u001b[49m\u001b[43m,\u001b[49m\u001b[43m \u001b[49m\u001b[43my\u001b[49m\u001b[43m)\u001b[49m\n\u001b[1;32m   1391\u001b[0m \u001b[38;5;28;01mreturn\u001b[39;00m X, y\n",
      "File \u001b[0;32m~/anaconda3/envs/tensorflow2_p310/lib/python3.10/site-packages/sklearn/utils/validation.py:475\u001b[0m, in \u001b[0;36mcheck_consistent_length\u001b[0;34m(*arrays)\u001b[0m\n\u001b[1;32m    473\u001b[0m uniques \u001b[38;5;241m=\u001b[39m np\u001b[38;5;241m.\u001b[39munique(lengths)\n\u001b[1;32m    474\u001b[0m \u001b[38;5;28;01mif\u001b[39;00m \u001b[38;5;28mlen\u001b[39m(uniques) \u001b[38;5;241m>\u001b[39m \u001b[38;5;241m1\u001b[39m:\n\u001b[0;32m--> 475\u001b[0m     \u001b[38;5;28;01mraise\u001b[39;00m \u001b[38;5;167;01mValueError\u001b[39;00m(\n\u001b[1;32m    476\u001b[0m         \u001b[38;5;124m\"\u001b[39m\u001b[38;5;124mFound input variables with inconsistent numbers of samples: \u001b[39m\u001b[38;5;132;01m%r\u001b[39;00m\u001b[38;5;124m\"\u001b[39m\n\u001b[1;32m    477\u001b[0m         \u001b[38;5;241m%\u001b[39m [\u001b[38;5;28mint\u001b[39m(l) \u001b[38;5;28;01mfor\u001b[39;00m l \u001b[38;5;129;01min\u001b[39;00m lengths]\n\u001b[1;32m    478\u001b[0m     )\n",
      "\u001b[0;31mValueError\u001b[0m: Found input variables with inconsistent numbers of samples: [45396, 42558]"
     ]
    }
   ],
   "source": [
    "from imblearn.over_sampling import SMOTE\n",
    "from imblearn.under_sampling import RandomUnderSampler\n",
    "\n",
    "# Define SMOTE and undersampling strategies\n",
    "smote = SMOTE(sampling_strategy=0.5, random_state=42)\n",
    "undersample = RandomUnderSampler(sampling_strategy=0.7, random_state=42)\n",
    "\n",
    "# Apply to feature matrix (X) and labels (y)\n",
    "X_smote, y_smote = smote.fit_resample(X_train, y_train)\n",
    "X_balanced, y_balanced = undersample.fit_resample(X_smote, y_smote)\n",
    "\n",
    "print(f\"Original class distribution: {Counter(y_train)}\")\n",
    "print(f\"After balancing: {Counter(y_balanced)}\")\n"
   ]
  },
  {
   "cell_type": "code",
   "execution_count": 153,
   "id": "82403ee7-994c-48be-b378-491c4e0df6c8",
   "metadata": {},
   "outputs": [
    {
     "name": "stderr",
     "output_type": "stream",
     "text": [
      "/tmp/ipykernel_25019/3013183557.py:1: FutureWarning: \n",
      "\n",
      "Passing `palette` without assigning `hue` is deprecated and will be removed in v0.14.0. Assign the `x` variable to `hue` and set `legend=False` for the same effect.\n",
      "\n",
      "  sns.countplot(x='label',data=df, palette='Set1')\n"
     ]
    },
    {
     "data": {
      "text/plain": [
       "<Axes: xlabel='label', ylabel='count'>"
      ]
     },
     "execution_count": 153,
     "metadata": {},
     "output_type": "execute_result"
    },
    {
     "data": {
      "image/png": "[encoded data removed]",
      "text/plain": [
       "<Figure size 640x480 with 1 Axes>"
      ]
     },
     "metadata": {},
     "output_type": "display_data"
    }
   ],
   "source": [
    "sns.countplot(x='label',data=df, palette='Set1')"
   ]
  },
  {
   "cell_type": "markdown",
   "id": "838b9b7c-2a96-44ce-82ba-89ed236c53dc",
   "metadata": {},
   "source": [
    "## Confusion Matrix of Models Used\n"
   ]
  },
  {
   "cell_type": "code",
   "execution_count": 142,
   "id": "311fe149-8e0e-431e-bef7-f3e79da0088b",
   "metadata": {},
   "outputs": [],
   "source": [
    "import matplotlib.pyplot as plt\n",
    "import seaborn as sns\n",
    "from sklearn.metrics import confusion_matrix\n",
    "\n",
    "# Function to plot confusion matrix\n",
    "def plot_confusion_matrix(y_true, y_pred, title):\n",
    "  cm = confusion_matrix(y_true, y_pred)\n",
    "  plt.figure(figsize=(8, 6))\n",
    "  sns.heatmap(cm, annot=True, fmt='d', cmap='Blues',\n",
    "              xticklabels=['No Hate', 'Hate/Abusive'],\n",
    "              yticklabels=['No Hate', 'Hate/Abusive'])\n",
    "  plt.xlabel('Predicted Label')\n",
    "  plt.ylabel('True Label')\n",
    "  plt.title(title)\n",
    "  plt.show()"
   ]
  },
  {
   "cell_type": "code",
   "execution_count": 143,
   "id": "41c5875f-886f-45fb-823e-5c0cbc17df29",
   "metadata": {},
   "outputs": [
    {
     "data": {
      "image/png": "[encoded data removed]",
      "text/plain": [
       "<Figure size 800x600 with 2 Axes>"
      ]
     },
     "metadata": {},
     "output_type": "display_data"
    }
   ],
   "source": [
    "# Confusion matrix for MultinomialNB with CountVectorizer\n",
    "plot_confusion_matrix(y_test, prediction_vectorizer, 'MultinomialNB with CountVectorizer')"
   ]
  },
  {
   "cell_type": "code",
   "execution_count": 144,
   "id": "63c55185-c731-433c-ac6d-ee685db20761",
   "metadata": {},
   "outputs": [
    {
     "data": {
      "image/png": "[encoded data removed]",
      "text/plain": [
       "<Figure size 800x600 with 2 Axes>"
      ]
     },
     "metadata": {},
     "output_type": "display_data"
    }
   ],
   "source": [
    "# Confusion matrix for MultinomialNB with TF-IDF\n",
    "plot_confusion_matrix(y_test, prediction_tfidf, 'MultinomialNB with TF-IDF')"
   ]
  },
  {
   "cell_type": "code",
   "execution_count": 145,
   "id": "ddc5b203-3add-41ab-8a1f-c8474da9816e",
   "metadata": {},
   "outputs": [
    {
     "data": {
      "image/png": "[encoded data removed]",
      "text/plain": [
       "<Figure size 800x600 with 2 Axes>"
      ]
     },
     "metadata": {},
     "output_type": "display_data"
    }
   ],
   "source": [
    "# Confusion matrix for XGBoost with CountVectorizer\n",
    "plot_confusion_matrix(y_test, xgb_predictions_vectorizer, 'XGBoost with CountVectorizer')"
   ]
  },
  {
   "cell_type": "code",
   "execution_count": 146,
   "id": "3090acb4-2c29-4fb4-9ba3-688426c6d73d",
   "metadata": {},
   "outputs": [
    {
     "data": {
      "image/png": "[encoded data removed]",
      "text/plain": [
       "<Figure size 800x600 with 2 Axes>"
      ]
     },
     "metadata": {},
     "output_type": "display_data"
    }
   ],
   "source": [
    "# Confusion matrix for LSTM Model (First LSTM Model)\n",
    "plot_confusion_matrix(y_test, res, 'LSTM Model (First LSTM Model)')"
   ]
  },
  {
   "cell_type": "code",
   "execution_count": 147,
   "id": "fbe05b38-9d89-469e-bff3-7463778c5f7b",
   "metadata": {},
   "outputs": [
    {
     "data": {
      "image/png": "[encoded data removed]",
      "text/plain": [
       "<Figure size 800x600 with 2 Axes>"
      ]
     },
     "metadata": {},
     "output_type": "display_data"
    }
   ],
   "source": [
    "# Confusion matrix for LSTM Model (Second LSTM Model)\n",
    "plot_confusion_matrix(Y_test, res2, 'LSTM Model (Second LSTM Model)')"
   ]
  },
  {
   "cell_type": "code",
   "execution_count": 148,
   "id": "fc3f84ed-d944-4591-bb7a-4a2b4058164e",
   "metadata": {},
   "outputs": [
    {
     "data": {
      "text/plain": [
       "(56745, 2)"
      ]
     },
     "execution_count": 148,
     "metadata": {},
     "output_type": "execute_result"
    }
   ],
   "source": [
    "df.shape"
   ]
  },
  {
   "cell_type": "code",
   "execution_count": 149,
   "id": "b3487f96-087b-430c-8695-50324642cfed",
   "metadata": {},
   "outputs": [
    {
     "name": "stderr",
     "output_type": "stream",
     "text": [
      "[nltk_data] Downloading package stopwords to\n",
      "[nltk_data]     /home/ec2-user/nltk_data...\n",
      "[nltk_data]   Package stopwords is already up-to-date!\n"
     ]
    },
    {
     "data": {
      "text/plain": [
       "True"
      ]
     },
     "execution_count": 149,
     "metadata": {},
     "output_type": "execute_result"
    }
   ],
   "source": [
    "import nltk\n",
    "nltk.download('stopwords')"
   ]
  },
  {
   "cell_type": "code",
   "execution_count": 150,
   "id": "2868ed3b-9979-42f1-808a-84afb080abf6",
   "metadata": {},
   "outputs": [],
   "source": [
    "import re\n",
    "import nltk\n",
    "stemmer = nltk.SnowballStemmer(\"english\")\n",
    "from nltk.corpus import stopwords\n",
    "import string\n",
    "stopword=set(stopwords.words('english'))"
   ]
  },
  {
   "cell_type": "code",
   "execution_count": 151,
   "id": "f9b0e877-bff5-4300-8d0c-0103ae217d37",
   "metadata": {},
   "outputs": [],
   "source": [
    "def clean_text(text):\n",
    "    text = str(text).lower()\n",
    "    text = re.sub('\\[.*?\\]', '', text)\n",
    "    text = re.sub('https?://\\S+|www\\.\\S+', '', text)\n",
    "    text = re.sub('<.*?>+', '', text)\n",
    "    text = re.sub('[%s]' % re.escape(string.punctuation), '', text)\n",
    "    text = re.sub('\\n', '', text)\n",
    "    text = re.sub('\\w*\\d\\w*', '', text)\n",
    "    text = [word for word in text.split(' ') if word not in stopword]\n",
    "    text=\" \".join(text)\n",
    "    text = [stemmer.stem(word) for word in text.split(' ')]\n",
    "    text=\" \".join(text)\n",
    "    return text"
   ]
  },
  {
   "cell_type": "code",
   "execution_count": 152,
   "id": "9625b05e-db66-4ace-875f-0da969d6f927",
   "metadata": {},
   "outputs": [],
   "source": [
    "df['tweet']=df['tweet'].apply(clean_text)"
   ]
  },
  {
   "cell_type": "code",
   "execution_count": 42,
   "id": "22d4defe-6c26-4459-adb1-13481b04ffa6",
   "metadata": {},
   "outputs": [
    {
     "data": {
      "text/html": [
       "<div>\n",
       "<style scoped>\n",
       "    .dataframe tbody tr th:only-of-type {\n",
       "        vertical-align: middle;\n",
       "    }\n",
       "\n",
       "    .dataframe tbody tr th {\n",
       "        vertical-align: top;\n",
       "    }\n",
       "\n",
       "    .dataframe thead th {\n",
       "        text-align: right;\n",
       "    }\n",
       "</style>\n",
       "<table border=\"1\" class=\"dataframe\">\n",
       "  <thead>\n",
       "    <tr style=\"text-align: right;\">\n",
       "      <th></th>\n",
       "      <th>label</th>\n",
       "      <th>tweet</th>\n",
       "    </tr>\n",
       "  </thead>\n",
       "  <tbody>\n",
       "    <tr>\n",
       "      <th>0</th>\n",
       "      <td>0</td>\n",
       "      <td>user father dysfunct selfish drag kid dysfunc...</td>\n",
       "    </tr>\n",
       "    <tr>\n",
       "      <th>1</th>\n",
       "      <td>0</td>\n",
       "      <td>user user thank lyft credit cant use caus dont...</td>\n",
       "    </tr>\n",
       "    <tr>\n",
       "      <th>2</th>\n",
       "      <td>0</td>\n",
       "      <td>bihday majesti</td>\n",
       "    </tr>\n",
       "    <tr>\n",
       "      <th>3</th>\n",
       "      <td>0</td>\n",
       "      <td>model   love u take u time urð± ððð...</td>\n",
       "    </tr>\n",
       "    <tr>\n",
       "      <th>4</th>\n",
       "      <td>0</td>\n",
       "      <td>factsguid societi    motiv</td>\n",
       "    </tr>\n",
       "  </tbody>\n",
       "</table>\n",
       "</div>"
      ],
      "text/plain": [
       "   label                                              tweet\n",
       "0      0   user father dysfunct selfish drag kid dysfunc...\n",
       "1      0  user user thank lyft credit cant use caus dont...\n",
       "2      0                                     bihday majesti\n",
       "3      0  model   love u take u time urð± ððð...\n",
       "4      0                         factsguid societi    motiv"
      ]
     },
     "execution_count": 42,
     "metadata": {},
     "output_type": "execute_result"
    }
   ],
   "source": [
    "df.head()"
   ]
  },
  {
   "cell_type": "code",
   "execution_count": 43,
   "id": "aff1da2e-8ffb-4726-a36b-75c8cca40508",
   "metadata": {
    "scrolled": true
   },
   "outputs": [
    {
     "name": "stdout",
     "output_type": "stream",
     "text": [
      "Collecting wordcloud\n",
      "  Downloading wordcloud-1.9.4-cp310-cp310-manylinux_2_17_x86_64.manylinux2014_x86_64.whl.metadata (3.4 kB)\n",
      "Requirement already satisfied: numpy>=1.6.1 in /home/ec2-user/anaconda3/envs/tensorflow2_p310/lib/python3.10/site-packages (from wordcloud) (1.26.4)\n",
      "Requirement already satisfied: pillow in /home/ec2-user/anaconda3/envs/tensorflow2_p310/lib/python3.10/site-packages (from wordcloud) (11.1.0)\n",
      "Requirement already satisfied: matplotlib in /home/ec2-user/anaconda3/envs/tensorflow2_p310/lib/python3.10/site-packages (from wordcloud) (3.10.0)\n",
      "Requirement already satisfied: contourpy>=1.0.1 in /home/ec2-user/anaconda3/envs/tensorflow2_p310/lib/python3.10/site-packages (from matplotlib->wordcloud) (1.3.1)\n",
      "Requirement already satisfied: cycler>=0.10 in /home/ec2-user/anaconda3/envs/tensorflow2_p310/lib/python3.10/site-packages (from matplotlib->wordcloud) (0.12.1)\n",
      "Requirement already satisfied: fonttools>=4.22.0 in /home/ec2-user/anaconda3/envs/tensorflow2_p310/lib/python3.10/site-packages (from matplotlib->wordcloud) (4.56.0)\n",
      "Requirement already satisfied: kiwisolver>=1.3.1 in /home/ec2-user/anaconda3/envs/tensorflow2_p310/lib/python3.10/site-packages (from matplotlib->wordcloud) (1.4.7)\n",
      "Requirement already satisfied: packaging>=20.0 in /home/ec2-user/anaconda3/envs/tensorflow2_p310/lib/python3.10/site-packages (from matplotlib->wordcloud) (21.3)\n",
      "Requirement already satisfied: pyparsing>=2.3.1 in /home/ec2-user/anaconda3/envs/tensorflow2_p310/lib/python3.10/site-packages (from matplotlib->wordcloud) (3.2.1)\n",
      "Requirement already satisfied: python-dateutil>=2.7 in /home/ec2-user/anaconda3/envs/tensorflow2_p310/lib/python3.10/site-packages (from matplotlib->wordcloud) (2.9.0)\n",
      "Requirement already satisfied: six>=1.5 in /home/ec2-user/anaconda3/envs/tensorflow2_p310/lib/python3.10/site-packages (from python-dateutil>=2.7->matplotlib->wordcloud) (1.17.0)\n",
      "Downloading wordcloud-1.9.4-cp310-cp310-manylinux_2_17_x86_64.manylinux2014_x86_64.whl (511 kB)\n",
      "Installing collected packages: wordcloud\n",
      "Successfully installed wordcloud-1.9.4\n",
      "Note: you may need to restart the kernel to use updated packages.\n"
     ]
    }
   ],
   "source": [
    "pip install wordcloud"
   ]
  },
  {
   "cell_type": "code",
   "execution_count": 44,
   "id": "bffbd77e-e2f9-465d-be9c-f13f419ae3dc",
   "metadata": {},
   "outputs": [],
   "source": [
    "from wordcloud import WordCloud, STOPWORDS\n",
    "import matplotlib.pyplot as plt\n",
    "import pandas as pd"
   ]
  },
  {
   "cell_type": "code",
   "execution_count": 45,
   "id": "27437029-434b-403d-b209-3bffd96e30b9",
   "metadata": {},
   "outputs": [],
   "source": [
    "def make_wordcloud(df):\n",
    "    comment_words=\"\"\n",
    "    for val in df.tweet:\n",
    "        val = str(val).lower()\n",
    "\n",
    "\n",
    "        comment_words += \" \".join(val)+\" \"\n",
    "    print(comment_words[0:100])\n",
    "    wordcloud = WordCloud(width = 800, height = 800,\n",
    "                background_color ='white',\n",
    "                stopwords = stopwords,min_font_size = 10).generate(comment_words)\n",
    "\n",
    "    plt.figure(figsize = (8, 8), facecolor = None)\n",
    "    plt.imshow(wordcloud)\n",
    "    plt.axis(\"off\")\n",
    "    plt.tight_layout(pad = 0)\n",
    "\n",
    "    plt.show()"
   ]
  },
  {
   "cell_type": "code",
   "execution_count": 46,
   "id": "55ae8795-20fe-499e-a1b6-b54eed08341a",
   "metadata": {},
   "outputs": [],
   "source": [
    "x=df['tweet']\n",
    "y=df['label']"
   ]
  },
  {
   "cell_type": "code",
   "execution_count": 47,
   "id": "08bfc5e2-7345-4e46-902d-e9b81559784d",
   "metadata": {},
   "outputs": [
    {
     "name": "stdout",
     "output_type": "stream",
     "text": [
      "42558 42558\n",
      "14187 14187\n"
     ]
    }
   ],
   "source": [
    "from sklearn.model_selection import train_test_split\n",
    "x_train, x_test, y_train, y_test = train_test_split(x, y, random_state=42)\n",
    "print(len(x_train), len(y_train))\n",
    "print(len(x_test), len(y_test))"
   ]
  },
  {
   "cell_type": "code",
   "execution_count": 48,
   "id": "981a620b-4465-43fd-87c4-6ca8524017da",
   "metadata": {},
   "outputs": [],
   "source": [
    "from sklearn.feature_extraction.text import CountVectorizer\n",
    "count = CountVectorizer(stop_words='english', ngram_range=(1,5))\n",
    "x_train_vectorizer=count.fit_transform(x_train)"
   ]
  },
  {
   "cell_type": "code",
   "execution_count": 49,
   "id": "eb06f33e-c86b-4bdf-bd2e-e75e41a47b92",
   "metadata": {},
   "outputs": [
    {
     "data": {
      "text/plain": [
       "<Compressed Sparse Row sparse matrix of dtype 'int64'\n",
       "\twith 1191417 stored elements and shape (42558, 792859)>"
      ]
     },
     "execution_count": 49,
     "metadata": {},
     "output_type": "execute_result"
    }
   ],
   "source": [
    "x_test_vectorizer=count.transform(x_test)\n",
    "x_train_vectorizer"
   ]
  },
  {
   "cell_type": "code",
   "execution_count": 50,
   "id": "4f1ff395-00f3-4fc7-a35f-f1c4b60d68c8",
   "metadata": {
    "scrolled": true
   },
   "outputs": [
    {
     "data": {
      "text/plain": [
       "{'pictur': 496965,\n",
       " 'galleri': 244789,\n",
       " 'live': 386374,\n",
       " 'blackcavali': 78353,\n",
       " 'caucasian': 105699,\n",
       " 'webcam': 750931,\n",
       " 'pictur galleri': 497099,\n",
       " 'galleri live': 244792,\n",
       " 'live blackcavali': 386462,\n",
       " 'blackcavali caucasian': 78354,\n",
       " 'caucasian webcam': 105705,\n",
       " 'pictur galleri live': 497100,\n",
       " 'galleri live blackcavali': 244793,\n",
       " 'live blackcavali caucasian': 386463,\n",
       " 'blackcavali caucasian webcam': 78355,\n",
       " 'pictur galleri live blackcavali': 497101,\n",
       " 'galleri live blackcavali caucasian': 244794,\n",
       " 'live blackcavali caucasian webcam': 386464,\n",
       " 'pictur galleri live blackcavali caucasian': 497102,\n",
       " 'galleri live blackcavali caucasian webcam': 244795,\n",
       " 'shoutout': 600018,\n",
       " 'everybodi': 198100,\n",
       " 'follow': 226779,\n",
       " 'nicca': 455780,\n",
       " 'shoutout everybodi': 600045,\n",
       " 'everybodi follow': 198226,\n",
       " 'follow nicca': 227264,\n",
       " 'shoutout everybodi follow': 600046,\n",
       " 'everybodi follow nicca': 198227,\n",
       " 'shoutout everybodi follow nicca': 600047,\n",
       " 'user': 703467,\n",
       " 'bet': 56640,\n",
       " 'second': 586131,\n",
       " 'goal': 255394,\n",
       " 'bottler': 85661,\n",
       " 'user user': 724712,\n",
       " 'user bet': 705466,\n",
       " 'bet second': 56813,\n",
       " 'second goal': 586194,\n",
       " 'goal bottler': 255408,\n",
       " 'user user bet': 724992,\n",
       " 'user bet second': 705479,\n",
       " 'bet second goal': 56814,\n",
       " 'second goal bottler': 586195,\n",
       " 'user user bet second': 724997,\n",
       " 'user bet second goal': 705480,\n",
       " 'bet second goal bottler': 56815,\n",
       " 'user user bet second goal': 724998,\n",
       " 'user bet second goal bottler': 705481,\n",
       " 'tattoosleev': 649673,\n",
       " 'gorilla': 263283,\n",
       " 'simul': 602796,\n",
       " 'need': 448086,\n",
       " 'adapt': 4027,\n",
       " 'environ': 194474,\n",
       " 'tear': 651817,\n",
       " 'citi': 117676,\n",
       " 'tattoosleev gorilla': 649674,\n",
       " 'gorilla simul': 263331,\n",
       " 'simul need': 602807,\n",
       " 'need adapt': 448100,\n",
       " 'adapt environ': 4028,\n",
       " 'environ need': 194487,\n",
       " 'need tear': 449697,\n",
       " 'tear citi': 651834,\n",
       " 'tattoosleev gorilla simul': 649675,\n",
       " 'gorilla simul need': 263332,\n",
       " 'simul need adapt': 602808,\n",
       " 'need adapt environ': 448101,\n",
       " 'adapt environ need': 4029,\n",
       " 'environ need tear': 194488,\n",
       " 'need tear citi': 449698,\n",
       " 'tattoosleev gorilla simul need': 649676,\n",
       " 'gorilla simul need adapt': 263333,\n",
       " 'simul need adapt environ': 602809,\n",
       " 'need adapt environ need': 448102,\n",
       " 'adapt environ need tear': 4030,\n",
       " 'environ need tear citi': 194489,\n",
       " 'tattoosleev gorilla simul need adapt': 649677,\n",
       " 'gorilla simul need adapt environ': 263334,\n",
       " 'simul need adapt environ need': 602810,\n",
       " 'need adapt environ need tear': 448103,\n",
       " 'adapt environ need tear citi': 4031,\n",
       " 'boy': 87102,\n",
       " 'ryanbowersob': 573405,\n",
       " 'got': 263467,\n",
       " 'hoe': 300275,\n",
       " 'boy ryanbowersob': 87736,\n",
       " 'ryanbowersob got': 573406,\n",
       " 'got hoe': 264878,\n",
       " 'boy ryanbowersob got': 87737,\n",
       " 'ryanbowersob got hoe': 573407,\n",
       " 'boy ryanbowersob got hoe': 87738,\n",
       " 'hate': 286834,\n",
       " 'aliv': 11793,\n",
       " 'hater': 288324,\n",
       " 'orlandounit': 480071,\n",
       " 'hate aliv': 286847,\n",
       " 'aliv hater': 11819,\n",
       " 'hater orlandounit': 288353,\n",
       " 'hate aliv hater': 286848,\n",
       " 'aliv hater orlandounit': 11820,\n",
       " 'hate aliv hater orlandounit': 286849,\n",
       " 'book': 83638,\n",
       " 'endur': 192647,\n",
       " 'convict': 131799,\n",
       " 'fred': 231715,\n",
       " 'korematsu': 359709,\n",
       " 'amp': 17807,\n",
       " 'quest': 523179,\n",
       " 'justic': 348074,\n",
       " 'humanright': 313763,\n",
       " 'htâ': 312750,\n",
       " 'book endur': 83763,\n",
       " 'endur convict': 192648,\n",
       " 'convict fred': 131800,\n",
       " 'fred korematsu': 231716,\n",
       " 'korematsu amp': 359710,\n",
       " 'amp quest': 20910,\n",
       " 'quest justic': 523182,\n",
       " 'justic humanright': 348091,\n",
       " 'humanright htâ': 313772,\n",
       " 'book endur convict': 83764,\n",
       " 'endur convict fred': 192649,\n",
       " 'convict fred korematsu': 131801,\n",
       " 'fred korematsu amp': 231717,\n",
       " 'korematsu amp quest': 359711,\n",
       " 'amp quest justic': 20911,\n",
       " 'quest justic humanright': 523183,\n",
       " 'justic humanright htâ': 348092,\n",
       " 'book endur convict fred': 83765,\n",
       " 'endur convict fred korematsu': 192650,\n",
       " 'convict fred korematsu amp': 131802,\n",
       " 'fred korematsu amp quest': 231718,\n",
       " 'korematsu amp quest justic': 359712,\n",
       " 'amp quest justic humanright': 20912,\n",
       " 'quest justic humanright htâ': 523184,\n",
       " 'book endur convict fred korematsu': 83766,\n",
       " 'endur convict fred korematsu amp': 192651,\n",
       " 'convict fred korematsu amp quest': 131803,\n",
       " 'fred korematsu amp quest justic': 231719,\n",
       " 'korematsu amp quest justic humanright': 359713,\n",
       " 'amp quest justic humanright htâ': 20913,\n",
       " 'reason': 534139,\n",
       " 'gun': 274775,\n",
       " 'lobbi': 389383,\n",
       " 'senat': 588901,\n",
       " 'pay': 487451,\n",
       " 'repdem': 540092,\n",
       " 'make': 408681,\n",
       " 'sure': 642475,\n",
       " 'continu': 131159,\n",
       " 'billion': 62281,\n",
       " 'industri': 329647,\n",
       " 'user reason': 719765,\n",
       " 'reason gun': 534265,\n",
       " 'gun lobbi': 274981,\n",
       " 'lobbi senat': 389401,\n",
       " 'senat pay': 588912,\n",
       " 'pay senat': 487954,\n",
       " 'senat repdem': 588924,\n",
       " 'repdem make': 540093,\n",
       " 'make sure': 411300,\n",
       " 'sure continu': 642555,\n",
       " 'continu make': 131228,\n",
       " 'make billion': 408879,\n",
       " 'billion gun': 62287,\n",
       " 'gun industri': 274937,\n",
       " 'user reason gun': 719775,\n",
       " 'reason gun lobbi': 534266,\n",
       " 'gun lobbi senat': 274985,\n",
       " 'lobbi senat pay': 389402,\n",
       " 'senat pay senat': 588913,\n",
       " 'pay senat repdem': 487955,\n",
       " 'senat repdem make': 588925,\n",
       " 'repdem make sure': 540094,\n",
       " 'make sure continu': 411316,\n",
       " 'sure continu make': 642556,\n",
       " 'continu make billion': 131229,\n",
       " 'make billion gun': 408880,\n",
       " 'billion gun industri': 62288,\n",
       " 'user reason gun lobbi': 719776,\n",
       " 'reason gun lobbi senat': 534267,\n",
       " 'gun lobbi senat pay': 274986,\n",
       " 'lobbi senat pay senat': 389403,\n",
       " 'senat pay senat repdem': 588914,\n",
       " 'pay senat repdem make': 487956,\n",
       " 'senat repdem make sure': 588926,\n",
       " 'repdem make sure continu': 540095,\n",
       " 'make sure continu make': 411317,\n",
       " 'sure continu make billion': 642557,\n",
       " 'continu make billion gun': 131230,\n",
       " 'make billion gun industri': 408881,\n",
       " 'user reason gun lobbi senat': 719777,\n",
       " 'reason gun lobbi senat pay': 534268,\n",
       " 'gun lobbi senat pay senat': 274987,\n",
       " 'lobbi senat pay senat repdem': 389404,\n",
       " 'senat pay senat repdem make': 588915,\n",
       " 'pay senat repdem make sure': 487957,\n",
       " 'senat repdem make sure continu': 588927,\n",
       " 'repdem make sure continu make': 540096,\n",
       " 'make sure continu make billion': 411318,\n",
       " 'sure continu make billion gun': 642558,\n",
       " 'continu make billion gun industri': 131231,\n",
       " 'dinner': 167626,\n",
       " 'friend': 234464,\n",
       " 'steak': 628490,\n",
       " 'shop': 598886,\n",
       " 'disappoint': 168587,\n",
       " 'yummi': 788522,\n",
       " 'nice': 456274,\n",
       " 'theâ': 661391,\n",
       " 'dinner friend': 167677,\n",
       " 'friend steak': 235695,\n",
       " 'steak shop': 628542,\n",
       " 'shop disappoint': 598938,\n",
       " 'disappoint yummi': 168728,\n",
       " 'yummi nice': 788576,\n",
       " 'nice theâ': 456751,\n",
       " 'dinner friend steak': 167681,\n",
       " 'friend steak shop': 235696,\n",
       " 'steak shop disappoint': 628543,\n",
       " 'shop disappoint yummi': 598939,\n",
       " 'disappoint yummi nice': 168729,\n",
       " 'yummi nice theâ': 788577,\n",
       " 'dinner friend steak shop': 167682,\n",
       " 'friend steak shop disappoint': 235697,\n",
       " 'steak shop disappoint yummi': 628544,\n",
       " 'shop disappoint yummi nice': 598940,\n",
       " 'disappoint yummi nice theâ': 168730,\n",
       " 'dinner friend steak shop disappoint': 167683,\n",
       " 'friend steak shop disappoint yummi': 235698,\n",
       " 'steak shop disappoint yummi nice': 628545,\n",
       " 'shop disappoint yummi nice theâ': 598941,\n",
       " 'buy': 98133,\n",
       " 'record': 535254,\n",
       " 'main': 408247,\n",
       " 'rap': 527638,\n",
       " 'album': 10970,\n",
       " 'discog': 168807,\n",
       " 'hiphop': 298432,\n",
       " 'lps': 404801,\n",
       " 'forsal': 230255,\n",
       " 'music': 442265,\n",
       " 'love': 398001,\n",
       " 'ebay': 187414,\n",
       " 'buy record': 98483,\n",
       " 'record main': 535328,\n",
       " 'main rap': 408403,\n",
       " 'rap album': 527640,\n",
       " 'album discog': 10995,\n",
       " 'discog rap': 168808,\n",
       " 'rap hiphop': 527687,\n",
       " 'hiphop lps': 298451,\n",
       " 'lps record': 404802,\n",
       " 'record forsal': 535288,\n",
       " 'forsal music': 230256,\n",
       " 'music love': 442612,\n",
       " 'love ebay': 399259,\n",
       " 'buy record main': 98484,\n",
       " 'record main rap': 535329,\n",
       " 'main rap album': 408404,\n",
       " 'rap album discog': 527641,\n",
       " 'album discog rap': 10996,\n",
       " 'discog rap hiphop': 168809,\n",
       " 'rap hiphop lps': 527688,\n",
       " 'hiphop lps record': 298452,\n",
       " 'lps record forsal': 404803,\n",
       " 'record forsal music': 535289,\n",
       " 'forsal music love': 230257,\n",
       " 'music love ebay': 442619,\n",
       " 'buy record main rap': 98485,\n",
       " 'record main rap album': 535330,\n",
       " 'main rap album discog': 408405,\n",
       " 'rap album discog rap': 527642,\n",
       " 'album discog rap hiphop': 10997,\n",
       " 'discog rap hiphop lps': 168810,\n",
       " 'rap hiphop lps record': 527689,\n",
       " 'hiphop lps record forsal': 298453,\n",
       " 'lps record forsal music': 404804,\n",
       " 'record forsal music love': 535290,\n",
       " 'forsal music love ebay': 230258,\n",
       " 'buy record main rap album': 98486,\n",
       " 'record main rap album discog': 535331,\n",
       " 'main rap album discog rap': 408406,\n",
       " 'rap album discog rap hiphop': 527643,\n",
       " 'album discog rap hiphop lps': 10998,\n",
       " 'discog rap hiphop lps record': 168811,\n",
       " 'rap hiphop lps record forsal': 527690,\n",
       " 'hiphop lps record forsal music': 298454,\n",
       " 'lps record forsal music love': 404805,\n",
       " 'record forsal music love ebay': 535291,\n",
       " 'bossdog': 85322,\n",
       " 'bossdog user': 85323,\n",
       " 'bossdog user user': 85324,\n",
       " 'rt': 551149,\n",
       " 'dadonherself': 146656,\n",
       " 'nigga': 457518,\n",
       " 'fuck': 236939,\n",
       " 'pretti': 512407,\n",
       " 'girl': 251227,\n",
       " 'head': 289945,\n",
       " 'right': 545348,\n",
       " 'ho': 299893,\n",
       " 'pair': 483602,\n",
       " 'good': 259544,\n",
       " 'panti': 484412,\n",
       " 'rt dadonherself': 554809,\n",
       " 'dadonherself nigga': 146657,\n",
       " 'nigga fuck': 458615,\n",
       " 'fuck pretti': 239368,\n",
       " 'pretti girl': 512610,\n",
       " 'girl head': 252052,\n",
       " 'head right': 290361,\n",
       " 'right ho': 545761,\n",
       " 'ho got': 299960,\n",
       " 'got pair': 265766,\n",
       " 'pair good': 483630,\n",
       " 'good panti': 261178,\n",
       " 'rt dadonherself nigga': 554810,\n",
       " 'dadonherself nigga fuck': 146658,\n",
       " 'nigga fuck pretti': 458663,\n",
       " 'fuck pretti girl': 239369,\n",
       " 'pretti girl head': 512611,\n",
       " 'girl head right': 252053,\n",
       " 'head right ho': 290362,\n",
       " 'right ho got': 545762,\n",
       " 'ho got pair': 299964,\n",
       " 'got pair good': 265767,\n",
       " 'pair good panti': 483631,\n",
       " 'rt dadonherself nigga fuck': 554811,\n",
       " 'dadonherself nigga fuck pretti': 146659,\n",
       " 'nigga fuck pretti girl': 458664,\n",
       " 'fuck pretti girl head': 239370,\n",
       " 'pretti girl head right': 512612,\n",
       " 'girl head right ho': 252054,\n",
       " 'head right ho got': 290363,\n",
       " 'right ho got pair': 545763,\n",
       " 'ho got pair good': 299965,\n",
       " 'got pair good panti': 265768,\n",
       " 'rt dadonherself nigga fuck pretti': 554812,\n",
       " 'dadonherself nigga fuck pretti girl': 146660,\n",
       " 'nigga fuck pretti girl head': 458665,\n",
       " 'fuck pretti girl head right': 239371,\n",
       " 'pretti girl head right ho': 512613,\n",
       " 'girl head right ho got': 252055,\n",
       " 'head right ho got pair': 290364,\n",
       " 'right ho got pair good': 545764,\n",
       " 'ho got pair good panti': 299966,\n",
       " 'yeeeaaahhh': 782364,\n",
       " 'wattpad': 748038,\n",
       " 'yeeeaaahhh wattpad': 782365,\n",
       " 'kelseyyvirginia': 350244,\n",
       " 'caylanashle': 106854,\n",
       " 'look': 392867,\n",
       " 'bitch': 64163,\n",
       " 'want': 742472,\n",
       " 'gramat': 268925,\n",
       " 'correct': 133556,\n",
       " 'kelseyyvirginia caylanashle': 350245,\n",
       " 'caylanashle look': 106859,\n",
       " 'look bitch': 393104,\n",
       " 'bitch want': 75749,\n",
       " 'want gramat': 743370,\n",
       " 'gramat correct': 268926,\n",
       " 'kelseyyvirginia caylanashle look': 350246,\n",
       " 'caylanashle look bitch': 106860,\n",
       " 'look bitch want': 393146,\n",
       " 'bitch want gramat': 75801,\n",
       " 'want gramat correct': 743371,\n",
       " 'kelseyyvirginia caylanashle look bitch': 350247,\n",
       " 'caylanashle look bitch want': 106861,\n",
       " 'look bitch want gramat': 393147,\n",
       " 'bitch want gramat correct': 75802,\n",
       " 'kelseyyvirginia caylanashle look bitch want': 350248,\n",
       " 'caylanashle look bitch want gramat': 106862,\n",
       " 'look bitch want gramat correct': 393148,\n",
       " 'gabrielleheaton': 244491,\n",
       " 'rt gabrielleheaton': 557014,\n",
       " 'gotta': 267097,\n",
       " 'remind': 539516,\n",
       " 'da': 144716,\n",
       " 'phone': 494768,\n",
       " 'sometim': 616273,\n",
       " 'cuz': 143978,\n",
       " 'sidetrack': 601492,\n",
       " 'bad': 42133,\n",
       " 'den': 161357,\n",
       " 'mad': 407002,\n",
       " 'meet': 422107,\n",
       " 'em': 190329,\n",
       " 'gotta remind': 267654,\n",
       " 'remind da': 539559,\n",
       " 'da phone': 145159,\n",
       " 'phone sometim': 495061,\n",
       " 'sometim cuz': 616310,\n",
       " 'cuz sidetrack': 144339,\n",
       " 'sidetrack bad': 601493,\n",
       " 'bad bitch': 42204,\n",
       " 'bitch den': 66795,\n",
       " 'den mad': 161392,\n",
       " 'mad cuz': 407112,\n",
       " 'cuz meet': 144248,\n",
       " 'meet em': 422200,\n",
       " 'gotta remind da': 267658,\n",
       " 'remind da phone': 539560,\n",
       " 'da phone sometim': 145160,\n",
       " 'phone sometim cuz': 495062,\n",
       " 'sometim cuz sidetrack': 616311,\n",
       " 'cuz sidetrack bad': 144340,\n",
       " 'sidetrack bad bitch': 601494,\n",
       " 'bad bitch den': 42276,\n",
       " 'bitch den mad': 66796,\n",
       " 'den mad cuz': 161393,\n",
       " 'mad cuz meet': 407124,\n",
       " 'cuz meet em': 144249,\n",
       " 'gotta remind da phone': 267659,\n",
       " 'remind da phone sometim': 539561,\n",
       " 'da phone sometim cuz': 145161,\n",
       " 'phone sometim cuz sidetrack': 495063,\n",
       " 'sometim cuz sidetrack bad': 616312,\n",
       " 'cuz sidetrack bad bitch': 144341,\n",
       " 'sidetrack bad bitch den': 601495,\n",
       " 'bad bitch den mad': 42277,\n",
       " 'bitch den mad cuz': 66797,\n",
       " 'den mad cuz meet': 161394,\n",
       " 'mad cuz meet em': 407125,\n",
       " 'gotta remind da phone sometim': 267660,\n",
       " 'remind da phone sometim cuz': 539562,\n",
       " 'da phone sometim cuz sidetrack': 145162,\n",
       " 'phone sometim cuz sidetrack bad': 495064,\n",
       " 'sometim cuz sidetrack bad bitch': 616313,\n",
       " 'cuz sidetrack bad bitch den': 144342,\n",
       " 'sidetrack bad bitch den mad': 601496,\n",
       " 'bad bitch den mad cuz': 42278,\n",
       " 'bitch den mad cuz meet': 66798,\n",
       " 'den mad cuz meet em': 161395,\n",
       " 'englandbailey': 193139,\n",
       " 'happi': 281124,\n",
       " 'birthday': 63778,\n",
       " 'nicest': 456890,\n",
       " 'faggot': 205954,\n",
       " 'rt englandbailey': 556097,\n",
       " 'englandbailey happi': 193140,\n",
       " 'happi birthday': 281622,\n",
       " 'birthday nicest': 63891,\n",
       " 'nicest faggot': 456891,\n",
       " 'rt englandbailey happi': 556098,\n",
       " 'englandbailey happi birthday': 193141,\n",
       " 'happi birthday nicest': 281689,\n",
       " 'birthday nicest faggot': 63892,\n",
       " 'rt englandbailey happi birthday': 556099,\n",
       " 'englandbailey happi birthday nicest': 193142,\n",
       " 'happi birthday nicest faggot': 281690,\n",
       " 'rt englandbailey happi birthday nicest': 556100,\n",
       " 'englandbailey happi birthday nicest faggot': 193143,\n",
       " 'theyloveblaq': 661005,\n",
       " 'joselin': 345640,\n",
       " 'sneak': 612330,\n",
       " 'athea': 35970,\n",
       " 'dont': 173608,\n",
       " 'like': 375362,\n",
       " 'come': 124706,\n",
       " 'sit': 604875,\n",
       " 'yo': 784455,\n",
       " 'ass': 33046,\n",
       " 'onnat': 476446,\n",
       " 'couch': 134095,\n",
       " 'rt theyloveblaq': 568694,\n",
       " 'theyloveblaq joselin': 661006,\n",
       " 'joselin sneak': 345647,\n",
       " 'sneak athea': 612331,\n",
       " 'athea bitch': 35971,\n",
       " 'bitch dont': 66984,\n",
       " 'dont like': 175578,\n",
       " 'like come': 376633,\n",
       " 'come like': 125545,\n",
       " 'like amp': 375487,\n",
       " 'amp sit': 21323,\n",
       " 'sit yo': 605178,\n",
       " 'yo ass': 784468,\n",
       " 'ass onnat': 34516,\n",
       " 'onnat couch': 476447,\n",
       " 'rt theyloveblaq joselin': 568695,\n",
       " 'theyloveblaq joselin sneak': 661007,\n",
       " 'joselin sneak athea': 345648,\n",
       " 'sneak athea bitch': 612332,\n",
       " 'athea bitch dont': 35972,\n",
       " 'bitch dont like': 67086,\n",
       " 'dont like come': 175610,\n",
       " 'like come like': 376640,\n",
       " 'come like amp': 125546,\n",
       " 'like amp sit': 375497,\n",
       " 'amp sit yo': 21328,\n",
       " 'sit yo ass': 605179,\n",
       " 'yo ass onnat': 784485,\n",
       " 'ass onnat couch': 34517,\n",
       " 'rt theyloveblaq joselin sneak': 568696,\n",
       " 'theyloveblaq joselin sneak athea': 661008,\n",
       " 'joselin sneak athea bitch': 345649,\n",
       " 'sneak athea bitch dont': 612333,\n",
       " 'athea bitch dont like': 35973,\n",
       " 'bitch dont like come': 67090,\n",
       " 'dont like come like': 175611,\n",
       " 'like come like amp': 376641,\n",
       " 'come like amp sit': 125547,\n",
       " 'like amp sit yo': 375498,\n",
       " 'amp sit yo ass': 21329,\n",
       " 'sit yo ass onnat': 605180,\n",
       " 'yo ass onnat couch': 784486,\n",
       " 'rt theyloveblaq joselin sneak athea': 568697,\n",
       " 'theyloveblaq joselin sneak athea bitch': 661009,\n",
       " 'joselin sneak athea bitch dont': 345650,\n",
       " 'sneak athea bitch dont like': 612334,\n",
       " 'athea bitch dont like come': 35974,\n",
       " 'bitch dont like come like': 67091,\n",
       " 'dont like come like amp': 175612,\n",
       " 'like come like amp sit': 376642,\n",
       " 'come like amp sit yo': 125548,\n",
       " 'like amp sit yo ass': 375499,\n",
       " 'amp sit yo ass onnat': 21330,\n",
       " 'sit yo ass onnat couch': 605181,\n",
       " 'movi': 439832,\n",
       " 'aint': 8068,\n",
       " 'star': 625932,\n",
       " 'extra': 203241,\n",
       " 'pride': 513308,\n",
       " 'movi everybodi': 439916,\n",
       " 'everybodi aint': 198105,\n",
       " 'aint star': 9610,\n",
       " 'star need': 626064,\n",
       " 'need star': 449541,\n",
       " 'star extra': 625975,\n",
       " 'extra hate': 203278,\n",
       " 'hate hoe': 287456,\n",
       " 'hoe pride': 303397,\n",
       " 'movi everybodi aint': 439917,\n",
       " 'everybodi aint star': 198109,\n",
       " 'aint star need': 9611,\n",
       " 'star need star': 626065,\n",
       " 'need star extra': 449542,\n",
       " 'star extra hate': 625976,\n",
       " 'extra hate hoe': 203279,\n",
       " 'hate hoe pride': 287473,\n",
       " 'movi everybodi aint star': 439918,\n",
       " 'everybodi aint star need': 198110,\n",
       " 'aint star need star': 9612,\n",
       " 'star need star extra': 626066,\n",
       " 'need star extra hate': 449543,\n",
       " 'star extra hate hoe': 625977,\n",
       " 'extra hate hoe pride': 203280,\n",
       " 'movi everybodi aint star need': 439919,\n",
       " 'everybodi aint star need star': 198111,\n",
       " 'aint star need star extra': 9613,\n",
       " 'star need star extra hate': 626067,\n",
       " 'need star extra hate hoe': 449544,\n",
       " 'star extra hate hoe pride': 625978,\n",
       " 'gottaluvlexci': 267846,\n",
       " 'myhipsdntli': 443874,\n",
       " 'tight': 668700,\n",
       " 'pant': 484336,\n",
       " 'loud': 397745,\n",
       " 'color': 123951,\n",
       " 'fag': 205657,\n",
       " 'rt gottaluvlexci': 557364,\n",
       " 'gottaluvlexci rt': 267847,\n",
       " 'rt myhipsdntli': 563330,\n",
       " 'myhipsdntli tight': 443875,\n",
       " 'tight pant': 668746,\n",
       " 'pant loud': 484371,\n",
       " 'loud color': 397752,\n",
       " 'color look': 124249,\n",
       " 'look like': 394074,\n",
       " 'like fag': 377399,\n",
       " 'rt gottaluvlexci rt': 557365,\n",
       " 'gottaluvlexci rt myhipsdntli': 267848,\n",
       " 'rt myhipsdntli tight': 563331,\n",
       " 'myhipsdntli tight pant': 443876,\n",
       " 'tight pant loud': 668747,\n",
       " 'pant loud color': 484372,\n",
       " 'loud color look': 397753,\n",
       " 'color look like': 124250,\n",
       " 'look like fag': 394290,\n",
       " 'rt gottaluvlexci rt myhipsdntli': 557366,\n",
       " 'gottaluvlexci rt myhipsdntli tight': 267849,\n",
       " 'rt myhipsdntli tight pant': 563332,\n",
       " 'myhipsdntli tight pant loud': 443877,\n",
       " 'tight pant loud color': 668748,\n",
       " 'pant loud color look': 484373,\n",
       " 'loud color look like': 397754,\n",
       " 'color look like fag': 124251,\n",
       " 'rt gottaluvlexci rt myhipsdntli tight': 557367,\n",
       " 'gottaluvlexci rt myhipsdntli tight pant': 267850,\n",
       " 'rt myhipsdntli tight pant loud': 563333,\n",
       " 'myhipsdntli tight pant loud color': 443878,\n",
       " 'tight pant loud color look': 668749,\n",
       " 'pant loud color look like': 484374,\n",
       " 'loud color look like fag': 397755,\n",
       " 'nochillpaz': 464573,\n",
       " 'say': 579863,\n",
       " 'broke': 92540,\n",
       " 'rt nochillpaz': 563851,\n",
       " 'nochillpaz bitch': 464574,\n",
       " 'bitch say': 73290,\n",
       " 'say broke': 580105,\n",
       " 'rt nochillpaz bitch': 563852,\n",
       " 'nochillpaz bitch say': 464576,\n",
       " 'bitch say broke': 73298,\n",
       " 'rt nochillpaz bitch say': 563854,\n",
       " 'nochillpaz bitch say broke': 464577,\n",
       " 'rt nochillpaz bitch say broke': 563855,\n",
       " 'aww': 39947,\n",
       " 'yeah': 780270,\n",
       " 'bing': 62435,\n",
       " 'bong': 83357,\n",
       " 'aww yeah': 39989,\n",
       " 'yeah good': 780488,\n",
       " 'good bing': 259656,\n",
       " 'bing bong': 62440,\n",
       " 'bong bing': 83358,\n",
       " 'aww yeah good': 39990,\n",
       " 'yeah good bing': 780489,\n",
       " 'good bing bong': 259657,\n",
       " 'bing bong bing': 62441,\n",
       " 'bong bing bong': 83359,\n",
       " 'aww yeah good bing': 39991,\n",
       " 'yeah good bing bong': 780490,\n",
       " 'good bing bong bing': 259658,\n",
       " 'bing bong bing bong': 62442,\n",
       " 'aww yeah good bing bong': 39992,\n",
       " 'yeah good bing bong bing': 780491,\n",
       " 'good bing bong bing bong': 259659,\n",
       " 'count': 134280,\n",
       " 'day': 151374,\n",
       " 'spring': 623447,\n",
       " 'memori': 423307,\n",
       " 'flower': 225583,\n",
       " 'vine': 735330,\n",
       " 'dont count': 174203,\n",
       " 'count day': 134327,\n",
       " 'day make': 154141,\n",
       " 'make day': 409221,\n",
       " 'day count': 152160,\n",
       " 'count spring': 134436,\n",
       " 'spring memori': 623483,\n",
       " 'memori flower': 423347,\n",
       " 'flower vine': 225840,\n",
       " 'vine user': 735417,\n",
       " 'dont count day': 174207,\n",
       " 'count day make': 134337,\n",
       " 'day make day': 154145,\n",
       " 'make day count': 409230,\n",
       " 'day count spring': 152171,\n",
       " 'count spring memori': 134437,\n",
       " 'spring memori flower': 623487,\n",
       " 'memori flower vine': 423348,\n",
       " 'flower vine user': 225841,\n",
       " 'dont count day make': 174208,\n",
       " 'count day make day': 134338,\n",
       " 'day make day count': 154146,\n",
       " 'make day count spring': 409235,\n",
       " 'day count spring memori': 152172,\n",
       " 'count spring memori flower': 134438,\n",
       " 'spring memori flower vine': 623488,\n",
       " 'memori flower vine user': 423349,\n",
       " 'dont count day make day': 174209,\n",
       " 'count day make day count': 134339,\n",
       " 'day make day count spring': 154149,\n",
       " 'make day count spring memori': 409236,\n",
       " 'day count spring memori flower': 152173,\n",
       " 'count spring memori flower vine': 134439,\n",
       " 'spring memori flower vine user': 623489,\n",
       " 'everyon': 198726,\n",
       " 'white': 758153,\n",
       " 'crayon': 137267,\n",
       " 'perfect': 492281,\n",
       " 'bleed': 79167,\n",
       " 'break': 89276,\n",
       " 'everyon hate': 199008,\n",
       " 'hate white': 288207,\n",
       " 'white crayon': 758361,\n",
       " 'crayon look': 137281,\n",
       " 'look perfect': 394931,\n",
       " 'perfect bleed': 492310,\n",
       " 'bleed break': 79171,\n",
       " 'everyon hate white': 199015,\n",
       " 'hate white crayon': 288208,\n",
       " 'white crayon look': 758365,\n",
       " 'crayon look perfect': 137282,\n",
       " 'look perfect bleed': 394932,\n",
       " 'perfect bleed break': 492311,\n",
       " 'everyon hate white crayon': 199016,\n",
       " 'hate white crayon look': 288209,\n",
       " 'white crayon look perfect': 758366,\n",
       " 'crayon look perfect bleed': 137283,\n",
       " 'look perfect bleed break': 394933,\n",
       " 'everyon hate white crayon look': 199017,\n",
       " 'hate white crayon look perfect': 288210,\n",
       " 'white crayon look perfect bleed': 758367,\n",
       " 'crayon look perfect bleed break': 137284,\n",
       " 'im': 320372,\n",
       " 'defend': 159496,\n",
       " 'ray': 528670,\n",
       " 'rice': 544239,\n",
       " 'doubl': 178654,\n",
       " 'standard': 625754,\n",
       " 'im defend': 321530,\n",
       " 'defend ray': 159563,\n",
       " 'ray rice': 528686,\n",
       " 'rice doubl': 544263,\n",
       " 'doubl standard': 178750,\n",
       " 'standard bitch': 625768,\n",
       " 'bitch aint': 64267,\n",
       " 'im defend ray': 321531,\n",
       " 'defend ray rice': 159564,\n",
       " 'ray rice doubl': 528692,\n",
       " 'rice doubl standard': 544264,\n",
       " 'doubl standard bitch': 178751,\n",
       " 'standard bitch aint': 625769,\n",
       " 'im defend ray rice': 321532,\n",
       " 'defend ray rice doubl': 159565,\n",
       " 'ray rice doubl standard': 528693,\n",
       " 'rice doubl standard bitch': 544265,\n",
       " 'doubl standard bitch aint': 178752,\n",
       " 'im defend ray rice doubl': 321533,\n",
       " 'defend ray rice doubl standard': 159566,\n",
       " 'ray rice doubl standard bitch': 528694,\n",
       " 'rice doubl standard bitch aint': 544266,\n",
       " 'michaeljac': 426276,\n",
       " 'actor': 3174,\n",
       " 'theshield': 660632,\n",
       " 'commit': 127324,\n",
       " 'horrif': 310085,\n",
       " 'act': 2384,\n",
       " 'god': 255695,\n",
       " 'help': 294122,\n",
       " 'famili': 207931,\n",
       " 'terribl': 654416,\n",
       " 'legaci': 367859,\n",
       " 'michaeljac actor': 426277,\n",
       " 'actor theshield': 3273,\n",
       " 'theshield commit': 660633,\n",
       " 'commit horrif': 127358,\n",
       " 'horrif act': 310086,\n",
       " 'act god': 2488,\n",
       " 'god help': 256072,\n",
       " 'help famili': 294255,\n",
       " 'famili terribl': 208789,\n",
       " 'terribl legaci': 654441,\n",
       " 'michaeljac actor theshield': 426278,\n",
       " 'actor theshield commit': 3274,\n",
       " 'theshield commit horrif': 660634,\n",
       " 'commit horrif act': 127359,\n",
       " 'horrif act god': 310087,\n",
       " 'act god help': 2489,\n",
       " 'god help famili': 256073,\n",
       " 'help famili terribl': 294257,\n",
       " 'famili terribl legaci': 208790,\n",
       " 'michaeljac actor theshield commit': 426279,\n",
       " 'actor theshield commit horrif': 3275,\n",
       " 'theshield commit horrif act': 660635,\n",
       " 'commit horrif act god': 127360,\n",
       " 'horrif act god help': 310088,\n",
       " 'act god help famili': 2490,\n",
       " 'god help famili terribl': 256074,\n",
       " 'help famili terribl legaci': 294258,\n",
       " 'michaeljac actor theshield commit horrif': 426280,\n",
       " 'actor theshield commit horrif act': 3276,\n",
       " 'theshield commit horrif act god': 660636,\n",
       " 'commit horrif act god help': 127361,\n",
       " 'horrif act god help famili': 310089,\n",
       " 'act god help famili terribl': 2491,\n",
       " 'god help famili terribl legaci': 256075,\n",
       " 'kid': 351644,\n",
       " 'fuck kid': 238712,\n",
       " 'kid bitch': 351712,\n",
       " 'fuck kid bitch': 238713,\n",
       " 'lookin': 395435,\n",
       " 'federalboobieinspector': 215384,\n",
       " 'lookin hoe': 395501,\n",
       " 'hoe federalboobieinspector': 301646,\n",
       " 'lookin hoe federalboobieinspector': 395502,\n",
       " 'thank': 656218,\n",
       " 'abl': 511,\n",
       " 'choos': 115707,\n",
       " 'posit': 507303,\n",
       " 'thank abl': 656219,\n",
       " 'abl choos': 542,\n",
       " 'choos thank': 115885,\n",
       " 'thank posit': 657511,\n",
       " 'thank abl choos': 656220,\n",
       " 'abl choos thank': 543,\n",
       " 'choos thank posit': 115889,\n",
       " 'thank abl choos thank': 656221,\n",
       " 'abl choos thank posit': 544,\n",
       " 'thank abl choos thank posit': 656222,\n",
       " 'trash': 682979,\n",
       " 'bash': 46856,\n",
       " 'white trash': 758963,\n",
       " 'trash bash': 683101,\n",
       " 'white trash bash': 758967,\n",
       " 'cool': 132177,\n",
       " 'yaar': 777080,\n",
       " 'cool yaar': 132582,\n",
       " 'sick': 601093,\n",
       " 'preprogram': 511557,\n",
       " 'hillbot': 298226,\n",
       " 'rhetor': 544060,\n",
       " 'alreadi': 13453,\n",
       " 'uniti': 699441,\n",
       " 'patriot': 487112,\n",
       " 'feâ': 219195,\n",
       " 'user sick': 721228,\n",
       " 'sick preprogram': 601283,\n",
       " 'preprogram hillbot': 511558,\n",
       " 'hillbot rhetor': 298229,\n",
       " 'rhetor alreadi': 544061,\n",
       " 'alreadi uniti': 13852,\n",
       " 'uniti patriot': 699457,\n",
       " 'patriot love': 487121,\n",
       " 'love feâ': 399556,\n",
       " 'user sick preprogram': 721238,\n",
       " 'sick preprogram hillbot': 601284,\n",
       " 'preprogram hillbot rhetor': 511559,\n",
       " 'hillbot rhetor alreadi': 298230,\n",
       " 'rhetor alreadi uniti': 544062,\n",
       " 'alreadi uniti patriot': 13853,\n",
       " 'uniti patriot love': 699458,\n",
       " 'patriot love feâ': 487122,\n",
       " 'user sick preprogram hillbot': 721239,\n",
       " 'sick preprogram hillbot rhetor': 601285,\n",
       " 'preprogram hillbot rhetor alreadi': 511560,\n",
       " 'hillbot rhetor alreadi uniti': 298231,\n",
       " 'rhetor alreadi uniti patriot': 544063,\n",
       " 'alreadi uniti patriot love': 13854,\n",
       " 'uniti patriot love feâ': 699459,\n",
       " 'user sick preprogram hillbot rhetor': 721240,\n",
       " 'sick preprogram hillbot rhetor alreadi': 601286,\n",
       " 'preprogram hillbot rhetor alreadi uniti': 511561,\n",
       " 'hillbot rhetor alreadi uniti patriot': 298232,\n",
       " 'rhetor alreadi uniti patriot love': 544064,\n",
       " 'alreadi uniti patriot love feâ': 13855,\n",
       " 'ascanioenteain': 31617,\n",
       " 'redesign': 536045,\n",
       " 'aquila': 29691,\n",
       " 'plain': 499737,\n",
       " 'screenshot': 584830,\n",
       " 'indiegameâ': 329493,\n",
       " 'ascanioenteain redesign': 31618,\n",
       " 'redesign aquila': 536046,\n",
       " 'aquila plain': 29692,\n",
       " 'plain screenshot': 499760,\n",
       " 'screenshot indiegameâ': 584840,\n",
       " 'ascanioenteain redesign aquila': 31619,\n",
       " 'redesign aquila plain': 536047,\n",
       " 'aquila plain screenshot': 29693,\n",
       " 'plain screenshot indiegameâ': 499761,\n",
       " 'ascanioenteain redesign aquila plain': 31620,\n",
       " 'redesign aquila plain screenshot': 536048,\n",
       " 'aquila plain screenshot indiegameâ': 29694,\n",
       " 'ascanioenteain redesign aquila plain screenshot': 31621,\n",
       " 'redesign aquila plain screenshot indiegameâ': 536049,\n",
       " 'carl': 103598,\n",
       " 'bean': 49253,\n",
       " 'beauti': 50122,\n",
       " 'lgbt': 370975,\n",
       " 'instadaili': 331569,\n",
       " 'instagram': 331981,\n",
       " 'carl bean': 103599,\n",
       " 'bean love': 49285,\n",
       " 'love beauti': 398306,\n",
       " 'beauti hate': 50597,\n",
       " 'hate lgbt': 287569,\n",
       " 'lgbt instadaili': 371030,\n",
       " 'instadaili instagram': 331595,\n",
       " 'instagram user': 332244,\n",
       " 'carl bean love': 103600,\n",
       " 'bean love beauti': 49286,\n",
       " 'love beauti hate': 398314,\n",
       " 'beauti hate lgbt': 50598,\n",
       " 'hate lgbt instadaili': 287570,\n",
       " 'lgbt instadaili instagram': 371031,\n",
       " 'instadaili instagram user': 331599,\n",
       " 'carl bean love beauti': 103601,\n",
       " 'bean love beauti hate': 49287,\n",
       " 'love beauti hate lgbt': 398315,\n",
       " 'beauti hate lgbt instadaili': 50599,\n",
       " 'hate lgbt instadaili instagram': 287571,\n",
       " 'lgbt instadaili instagram user': 371032,\n",
       " 'carl bean love beauti hate': 103602,\n",
       " 'bean love beauti hate lgbt': 49288,\n",
       " 'love beauti hate lgbt instadaili': 398316,\n",
       " 'beauti hate lgbt instadaili instagram': 50600,\n",
       " 'hate lgbt instadaili instagram user': 287572,\n",
       " 'thebank': 658805,\n",
       " 'bacon': 42085,\n",
       " 'rt thebank': 568209,\n",
       " 'thebank bacon': 658806,\n",
       " 'bacon bitch': 42086,\n",
       " 'rt thebank bacon': 568210,\n",
       " 'thebank bacon bitch': 658807,\n",
       " 'rt thebank bacon bitch': 568211,\n",
       " 'ceain': 107176,\n",
       " 'awesom': 39458,\n",
       " 'inspir': 331180,\n",
       " 'fridâ': 234460,\n",
       " 'user thank': 722861,\n",
       " 'thank ceain': 656434,\n",
       " 'ceain awesom': 107181,\n",
       " 'awesom inspir': 39588,\n",
       " 'inspir day': 331233,\n",
       " 'day fridâ': 152967,\n",
       " 'user user thank': 727403,\n",
       " 'user thank ceain': 722893,\n",
       " 'thank ceain awesom': 656435,\n",
       " 'ceain awesom inspir': 107182,\n",
       " 'awesom inspir day': 39589,\n",
       " 'inspir day fridâ': 331234,\n",
       " 'user user thank ceain': 727413,\n",
       " 'user thank ceain awesom': 722894,\n",
       " 'thank ceain awesom inspir': 656436,\n",
       " 'ceain awesom inspir day': 107183,\n",
       " 'awesom inspir day fridâ': 39590,\n",
       " 'user user thank ceain awesom': 727414,\n",
       " 'user thank ceain awesom inspir': 722895,\n",
       " 'thank ceain awesom inspir day': 656437,\n",
       " 'ceain awesom inspir day fridâ': 107184,\n",
       " 'daili': 146840,\n",
       " 'dose': 178580,\n",
       " 'motiv': 438992,\n",
       " 'youplateit': 787151,\n",
       " 'staystrong': 628369,\n",
       " 'peh': 489303,\n",
       " 'pehlif': 489322,\n",
       " 'pehfood': 489319,\n",
       " 'hellopeh': 294046,\n",
       " 'sunday': 639473,\n",
       " 'daili dose': 146889,\n",
       " 'dose motiv': 178585,\n",
       " 'motiv youplateit': 439213,\n",
       " 'youplateit staystrong': 787152,\n",
       " 'staystrong peh': 628378,\n",
       " 'peh pehlif': 489311,\n",
       " 'pehlif pehfood': 489323,\n",
       " 'pehfood hellopeh': 489320,\n",
       " 'hellopeh sunday': 294047,\n",
       " 'daili dose motiv': 146892,\n",
       " 'dose motiv youplateit': 178586,\n",
       " 'motiv youplateit staystrong': 439214,\n",
       " 'youplateit staystrong peh': 787153,\n",
       " 'staystrong peh pehlif': 628379,\n",
       " 'peh pehlif pehfood': 489312,\n",
       " 'pehlif pehfood hellopeh': 489324,\n",
       " 'pehfood hellopeh sunday': 489321,\n",
       " 'daili dose motiv youplateit': 146893,\n",
       " 'dose motiv youplateit staystrong': 178587,\n",
       " 'motiv youplateit staystrong peh': 439215,\n",
       " 'youplateit staystrong peh pehlif': 787154,\n",
       " 'staystrong peh pehlif pehfood': 628380,\n",
       " 'peh pehlif pehfood hellopeh': 489313,\n",
       " 'pehlif pehfood hellopeh sunday': 489325,\n",
       " 'daili dose motiv youplateit staystrong': 146894,\n",
       " 'dose motiv youplateit staystrong peh': 178588,\n",
       " 'motiv youplateit staystrong peh pehlif': 439216,\n",
       " 'youplateit staystrong peh pehlif pehfood': 787155,\n",
       " 'staystrong peh pehlif pehfood hellopeh': 628381,\n",
       " 'peh pehlif pehfood hellopeh sunday': 489314,\n",
       " 'anthonycumia': 26639,\n",
       " 'cokelog': 122958,\n",
       " 'hey': 295945,\n",
       " 'antoni': 26990,\n",
       " 'speak': 620675,\n",
       " 'anthonycumia cokelog': 26640,\n",
       " 'cokelog hey': 122959,\n",
       " 'hey antoni': 295954,\n",
       " 'antoni speak': 26991,\n",
       " 'speak color': 620708,\n",
       " 'color good': 124173,\n",
       " 'anthonycumia cokelog hey': 26641,\n",
       " 'cokelog hey antoni': 122960,\n",
       " 'hey antoni speak': 295955,\n",
       " 'antoni speak color': 26992,\n",
       " 'speak color good': 620709,\n",
       " 'anthonycumia cokelog hey antoni': 26642,\n",
       " 'cokelog hey antoni speak': 122961,\n",
       " 'hey antoni speak color': 295956,\n",
       " 'antoni speak color good': 26993,\n",
       " 'anthonycumia cokelog hey antoni speak': 26643,\n",
       " 'cokelog hey antoni speak color': 122962,\n",
       " 'hey antoni speak color good': 295957,\n",
       " 'luck': 405121,\n",
       " 'cheryl': 112840,\n",
       " 'itwillbealrightonthenight': 337623,\n",
       " 'xx': 775974,\n",
       " 'good luck': 260566,\n",
       " 'luck cheryl': 405134,\n",
       " 'cheryl itwillbealrightonthenight': 112845,\n",
       " 'itwillbealrightonthenight xx': 337624,\n",
       " 'good luck cheryl': 260571,\n",
       " 'luck cheryl itwillbealrightonthenight': 405135,\n",
       " ...}"
      ]
     },
     "execution_count": 50,
     "metadata": {},
     "output_type": "execute_result"
    }
   ],
   "source": [
    "count.vocabulary_"
   ]
  },
  {
   "cell_type": "code",
   "execution_count": 51,
   "id": "34605b5e-1549-4a20-8b30-a6f3e1024c1c",
   "metadata": {},
   "outputs": [],
   "source": [
    "from sklearn.feature_extraction.text import TfidfTransformer\n",
    "tfidf = TfidfTransformer()\n",
    "x_train_tfidf = tfidf.fit_transform(x_train_vectorizer)\n",
    "x_train_tfidf\n",
    "x_test_tfidf = tfidf.transform(x_test_vectorizer)"
   ]
  },
  {
   "cell_type": "code",
   "execution_count": 52,
   "id": "b3efb503-d344-43e0-aa63-4de232182922",
   "metadata": {},
   "outputs": [],
   "source": [
    "from sklearn.naive_bayes import MultinomialNB\n",
    "from sklearn.metrics import classification_report\n",
    "from sklearn.metrics import confusion_matrix"
   ]
  },
  {
   "cell_type": "code",
   "execution_count": 53,
   "id": "cc413e2d-7c77-40ef-aced-2ea96cc24c84",
   "metadata": {},
   "outputs": [
    {
     "name": "stdout",
     "output_type": "stream",
     "text": [
      "[[7878  575]\n",
      " [ 458 5276]]\n",
      "              precision    recall  f1-score   support\n",
      "\n",
      "           0       0.95      0.93      0.94      8453\n",
      "           1       0.90      0.92      0.91      5734\n",
      "\n",
      "    accuracy                           0.93     14187\n",
      "   macro avg       0.92      0.93      0.92     14187\n",
      "weighted avg       0.93      0.93      0.93     14187\n",
      "\n"
     ]
    }
   ],
   "source": [
    "model_vectorizer= MultinomialNB().fit(x_train_vectorizer, y_train)\n",
    "prediction_vectorizer=model_vectorizer.predict(x_test_vectorizer)\n",
    "print(confusion_matrix(y_test,prediction_vectorizer))\n",
    "print (classification_report(y_test, prediction_vectorizer))"
   ]
  },
  {
   "cell_type": "code",
   "execution_count": 54,
   "id": "bc1acf8d-a4a1-4add-8428-6b35f5c6008b",
   "metadata": {},
   "outputs": [
    {
     "name": "stdout",
     "output_type": "stream",
     "text": [
      "              precision    recall  f1-score   support\n",
      "\n",
      "           0       0.91      0.97      0.94      8453\n",
      "           1       0.95      0.85      0.90      5734\n",
      "\n",
      "    accuracy                           0.92     14187\n",
      "   macro avg       0.93      0.91      0.92     14187\n",
      "weighted avg       0.92      0.92      0.92     14187\n",
      "\n",
      "[[8213  240]\n",
      " [ 860 4874]]\n"
     ]
    }
   ],
   "source": [
    "model_tfidf= MultinomialNB().fit(x_train_tfidf, y_train)\n",
    "prediction_tfidf=model_tfidf.predict(x_test_tfidf)\n",
    "print (classification_report(y_test, prediction_tfidf))\n",
    "print(confusion_matrix(y_test,prediction_tfidf))"
   ]
  },
  {
   "cell_type": "code",
   "execution_count": 55,
   "id": "dc4ff758-8537-4a15-b95b-bfb23d5b0ae2",
   "metadata": {},
   "outputs": [
    {
     "name": "stdout",
     "output_type": "stream",
     "text": [
      "Collecting xgboost\n",
      "  Downloading xgboost-3.0.0-py3-none-manylinux2014_x86_64.whl.metadata (2.0 kB)\n",
      "Requirement already satisfied: numpy in /home/ec2-user/anaconda3/envs/tensorflow2_p310/lib/python3.10/site-packages (from xgboost) (1.26.4)\n",
      "Requirement already satisfied: scipy in /home/ec2-user/anaconda3/envs/tensorflow2_p310/lib/python3.10/site-packages (from xgboost) (1.15.1)\n",
      "Downloading xgboost-3.0.0-py3-none-manylinux2014_x86_64.whl (4.9 MB)\n",
      "\u001b[2K   \u001b[90m━━━━━━━━━━━━━━━━━━━━━━━━━━━━━━━━━━━━━━━━\u001b[0m \u001b[32m4.9/4.9 MB\u001b[0m \u001b[31m39.6 MB/s\u001b[0m eta \u001b[36m0:00:00\u001b[0m\n",
      "Installing collected packages: xgboost\n",
      "Successfully installed xgboost-3.0.0\n",
      "Note: you may need to restart the kernel to use updated packages.\n"
     ]
    }
   ],
   "source": [
    "pip install xgboost"
   ]
  },
  {
   "cell_type": "code",
   "execution_count": 56,
   "id": "c1e3e083-a57a-460c-9e86-38ed650d8553",
   "metadata": {},
   "outputs": [
    {
     "name": "stderr",
     "output_type": "stream",
     "text": [
      "/home/ec2-user/anaconda3/envs/tensorflow2_p310/lib/python3.10/site-packages/xgboost/core.py:377: FutureWarning: Your system has an old version of glibc (< 2.28). We will stop supporting Linux distros with glibc older than 2.28 after **May 31, 2025**. Please upgrade to a recent Linux distro (with glibc >= 2.28) to use future versions of XGBoost.\n",
      "Note: You have installed the 'manylinux2014' variant of XGBoost. Certain features such as GPU algorithms or federated learning are not available. To use these features, please upgrade to a recent Linux distro with glibc 2.28+, and install the 'manylinux_2_28' variant.\n",
      "  warnings.warn(\n"
     ]
    }
   ],
   "source": [
    "import xgboost as xgb\n",
    "xgb_model=xgb.XGBClassifier(\n",
    "        learning_rate=0.1,\n",
    "        max_depth=7,\n",
    "        n_estimators=80,\n",
    "        use_label_encoder=False,\n",
    "        eval_metric='auc')"
   ]
  },
  {
   "cell_type": "code",
   "execution_count": 57,
   "id": "915143ce-774e-4f99-b84e-7e8dc198aad8",
   "metadata": {},
   "outputs": [
    {
     "name": "stderr",
     "output_type": "stream",
     "text": [
      "/home/ec2-user/anaconda3/envs/tensorflow2_p310/lib/python3.10/site-packages/xgboost/training.py:183: UserWarning: [16:27:26] WARNING: /workspace/src/learner.cc:738: \n",
      "Parameters: { \"use_label_encoder\" } are not used.\n",
      "\n",
      "  bst.update(dtrain, iteration=i, fobj=obj)\n"
     ]
    },
    {
     "name": "stdout",
     "output_type": "stream",
     "text": [
      "[[8368   85]\n",
      " [ 922 4812]]\n",
      "              precision    recall  f1-score   support\n",
      "\n",
      "           0       0.90      0.99      0.94      8453\n",
      "           1       0.98      0.84      0.91      5734\n",
      "\n",
      "    accuracy                           0.93     14187\n",
      "   macro avg       0.94      0.91      0.92     14187\n",
      "weighted avg       0.93      0.93      0.93     14187\n",
      "\n"
     ]
    }
   ],
   "source": [
    "xgb_model_vectorizer = xgb_model.fit(x_train_vectorizer, y_train)\n",
    "xgb_predictions_vectorizer=xgb_model_vectorizer.predict(x_test_vectorizer)\n",
    "print(confusion_matrix(y_test,xgb_predictions_vectorizer))\n",
    "print (classification_report(y_test, xgb_predictions_vectorizer))"
   ]
  },
  {
   "cell_type": "code",
   "execution_count": 58,
   "id": "2355c2f7-f042-4514-80da-a40dbe39b35e",
   "metadata": {
    "scrolled": true
   },
   "outputs": [
    {
     "name": "stdout",
     "output_type": "stream",
     "text": [
      "Requirement already satisfied: tensorflow in /home/ec2-user/anaconda3/envs/tensorflow2_p310/lib/python3.10/site-packages (2.16.2)\n",
      "Collecting tensorflow\n",
      "  Downloading tensorflow-2.19.0-cp310-cp310-manylinux_2_17_x86_64.manylinux2014_x86_64.whl.metadata (4.1 kB)\n",
      "Requirement already satisfied: absl-py>=1.0.0 in /home/ec2-user/anaconda3/envs/tensorflow2_p310/lib/python3.10/site-packages (from tensorflow) (2.1.0)\n",
      "Requirement already satisfied: astunparse>=1.6.0 in /home/ec2-user/anaconda3/envs/tensorflow2_p310/lib/python3.10/site-packages (from tensorflow) (1.6.3)\n",
      "Requirement already satisfied: flatbuffers>=24.3.25 in /home/ec2-user/anaconda3/envs/tensorflow2_p310/lib/python3.10/site-packages (from tensorflow) (25.2.10)\n",
      "Requirement already satisfied: gast!=0.5.0,!=0.5.1,!=0.5.2,>=0.2.1 in /home/ec2-user/anaconda3/envs/tensorflow2_p310/lib/python3.10/site-packages (from tensorflow) (0.6.0)\n",
      "Requirement already satisfied: google-pasta>=0.1.1 in /home/ec2-user/anaconda3/envs/tensorflow2_p310/lib/python3.10/site-packages (from tensorflow) (0.2.0)\n",
      "Requirement already satisfied: libclang>=13.0.0 in /home/ec2-user/anaconda3/envs/tensorflow2_p310/lib/python3.10/site-packages (from tensorflow) (18.1.1)\n",
      "Requirement already satisfied: opt-einsum>=2.3.2 in /home/ec2-user/anaconda3/envs/tensorflow2_p310/lib/python3.10/site-packages (from tensorflow) (3.4.0)\n",
      "Requirement already satisfied: packaging in /home/ec2-user/anaconda3/envs/tensorflow2_p310/lib/python3.10/site-packages (from tensorflow) (21.3)\n",
      "Requirement already satisfied: protobuf!=4.21.0,!=4.21.1,!=4.21.2,!=4.21.3,!=4.21.4,!=4.21.5,<6.0.0dev,>=3.20.3 in /home/ec2-user/anaconda3/envs/tensorflow2_p310/lib/python3.10/site-packages (from tensorflow) (4.25.6)\n",
      "Requirement already satisfied: requests<3,>=2.21.0 in /home/ec2-user/anaconda3/envs/tensorflow2_p310/lib/python3.10/site-packages (from tensorflow) (2.32.3)\n",
      "Requirement already satisfied: setuptools in /home/ec2-user/anaconda3/envs/tensorflow2_p310/lib/python3.10/site-packages (from tensorflow) (75.8.0)\n",
      "Requirement already satisfied: six>=1.12.0 in /home/ec2-user/anaconda3/envs/tensorflow2_p310/lib/python3.10/site-packages (from tensorflow) (1.17.0)\n",
      "Requirement already satisfied: termcolor>=1.1.0 in /home/ec2-user/anaconda3/envs/tensorflow2_p310/lib/python3.10/site-packages (from tensorflow) (2.5.0)\n",
      "Requirement already satisfied: typing-extensions>=3.6.6 in /home/ec2-user/anaconda3/envs/tensorflow2_p310/lib/python3.10/site-packages (from tensorflow) (4.12.2)\n",
      "Requirement already satisfied: wrapt>=1.11.0 in /home/ec2-user/anaconda3/envs/tensorflow2_p310/lib/python3.10/site-packages (from tensorflow) (1.17.2)\n",
      "Requirement already satisfied: grpcio<2.0,>=1.24.3 in /home/ec2-user/anaconda3/envs/tensorflow2_p310/lib/python3.10/site-packages (from tensorflow) (1.70.0)\n",
      "Collecting tensorboard~=2.19.0 (from tensorflow)\n",
      "  Downloading tensorboard-2.19.0-py3-none-any.whl.metadata (1.8 kB)\n",
      "Requirement already satisfied: keras>=3.5.0 in /home/ec2-user/anaconda3/envs/tensorflow2_p310/lib/python3.10/site-packages (from tensorflow) (3.8.0)\n",
      "Requirement already satisfied: numpy<2.2.0,>=1.26.0 in /home/ec2-user/anaconda3/envs/tensorflow2_p310/lib/python3.10/site-packages (from tensorflow) (1.26.4)\n",
      "Requirement already satisfied: h5py>=3.11.0 in /home/ec2-user/anaconda3/envs/tensorflow2_p310/lib/python3.10/site-packages (from tensorflow) (3.12.1)\n",
      "Collecting ml-dtypes<1.0.0,>=0.5.1 (from tensorflow)\n",
      "  Downloading ml_dtypes-0.5.1-cp310-cp310-manylinux_2_17_x86_64.manylinux2014_x86_64.whl.metadata (21 kB)\n",
      "Requirement already satisfied: tensorflow-io-gcs-filesystem>=0.23.1 in /home/ec2-user/anaconda3/envs/tensorflow2_p310/lib/python3.10/site-packages (from tensorflow) (0.37.1)\n",
      "Requirement already satisfied: wheel<1.0,>=0.23.0 in /home/ec2-user/anaconda3/envs/tensorflow2_p310/lib/python3.10/site-packages (from astunparse>=1.6.0->tensorflow) (0.45.1)\n",
      "Requirement already satisfied: rich in /home/ec2-user/anaconda3/envs/tensorflow2_p310/lib/python3.10/site-packages (from keras>=3.5.0->tensorflow) (13.9.4)\n",
      "Requirement already satisfied: namex in /home/ec2-user/anaconda3/envs/tensorflow2_p310/lib/python3.10/site-packages (from keras>=3.5.0->tensorflow) (0.0.8)\n",
      "Requirement already satisfied: optree in /home/ec2-user/anaconda3/envs/tensorflow2_p310/lib/python3.10/site-packages (from keras>=3.5.0->tensorflow) (0.14.0)\n",
      "Requirement already satisfied: charset_normalizer<4,>=2 in /home/ec2-user/anaconda3/envs/tensorflow2_p310/lib/python3.10/site-packages (from requests<3,>=2.21.0->tensorflow) (3.4.1)\n",
      "Requirement already satisfied: idna<4,>=2.5 in /home/ec2-user/anaconda3/envs/tensorflow2_p310/lib/python3.10/site-packages (from requests<3,>=2.21.0->tensorflow) (3.10)\n",
      "Requirement already satisfied: urllib3<3,>=1.21.1 in /home/ec2-user/anaconda3/envs/tensorflow2_p310/lib/python3.10/site-packages (from requests<3,>=2.21.0->tensorflow) (1.26.19)\n",
      "Requirement already satisfied: certifi>=2017.4.17 in /home/ec2-user/anaconda3/envs/tensorflow2_p310/lib/python3.10/site-packages (from requests<3,>=2.21.0->tensorflow) (2025.1.31)\n",
      "Requirement already satisfied: markdown>=2.6.8 in /home/ec2-user/anaconda3/envs/tensorflow2_p310/lib/python3.10/site-packages (from tensorboard~=2.19.0->tensorflow) (3.7)\n",
      "Requirement already satisfied: tensorboard-data-server<0.8.0,>=0.7.0 in /home/ec2-user/anaconda3/envs/tensorflow2_p310/lib/python3.10/site-packages (from tensorboard~=2.19.0->tensorflow) (0.7.2)\n",
      "Requirement already satisfied: werkzeug>=1.0.1 in /home/ec2-user/anaconda3/envs/tensorflow2_p310/lib/python3.10/site-packages (from tensorboard~=2.19.0->tensorflow) (3.1.3)\n",
      "Requirement already satisfied: pyparsing!=3.0.5,>=2.0.2 in /home/ec2-user/anaconda3/envs/tensorflow2_p310/lib/python3.10/site-packages (from packaging->tensorflow) (3.2.1)\n",
      "Requirement already satisfied: MarkupSafe>=2.1.1 in /home/ec2-user/anaconda3/envs/tensorflow2_p310/lib/python3.10/site-packages (from werkzeug>=1.0.1->tensorboard~=2.19.0->tensorflow) (3.0.2)\n",
      "Requirement already satisfied: markdown-it-py>=2.2.0 in /home/ec2-user/anaconda3/envs/tensorflow2_p310/lib/python3.10/site-packages (from rich->keras>=3.5.0->tensorflow) (3.0.0)\n",
      "Requirement already satisfied: pygments<3.0.0,>=2.13.0 in /home/ec2-user/anaconda3/envs/tensorflow2_p310/lib/python3.10/site-packages (from rich->keras>=3.5.0->tensorflow) (2.19.1)\n",
      "Requirement already satisfied: mdurl~=0.1 in /home/ec2-user/anaconda3/envs/tensorflow2_p310/lib/python3.10/site-packages (from markdown-it-py>=2.2.0->rich->keras>=3.5.0->tensorflow) (0.1.2)\n",
      "Downloading tensorflow-2.19.0-cp310-cp310-manylinux_2_17_x86_64.manylinux2014_x86_64.whl (644.8 MB)\n",
      "\u001b[2K   \u001b[90m━━━━━━━━━━━━━━━━━━━━━━━━━━━━━━━━━━━━━━━━\u001b[0m \u001b[32m644.8/644.8 MB\u001b[0m \u001b[31m48.6 MB/s\u001b[0m eta \u001b[36m0:00:00\u001b[0m00:01\u001b[0m00:01\u001b[0m\n",
      "\u001b[?25hDownloading ml_dtypes-0.5.1-cp310-cp310-manylinux_2_17_x86_64.manylinux2014_x86_64.whl (4.7 MB)\n",
      "\u001b[2K   \u001b[90m━━━━━━━━━━━━━━━━━━━━━━━━━━━━━━━━━━━━━━━━\u001b[0m \u001b[32m4.7/4.7 MB\u001b[0m \u001b[31m96.5 MB/s\u001b[0m eta \u001b[36m0:00:00\u001b[0m\n",
      "\u001b[?25hDownloading tensorboard-2.19.0-py3-none-any.whl (5.5 MB)\n",
      "\u001b[2K   \u001b[90m━━━━━━━━━━━━━━━━━━━━━━━━━━━━━━━━━━━━━━━━\u001b[0m \u001b[32m5.5/5.5 MB\u001b[0m \u001b[31m199.2 MB/s\u001b[0m eta \u001b[36m0:00:00\u001b[0m\n",
      "Installing collected packages: ml-dtypes, tensorboard, tensorflow\n",
      "  Attempting uninstall: ml-dtypes\n",
      "    Found existing installation: ml-dtypes 0.3.2\n",
      "    Uninstalling ml-dtypes-0.3.2:\n",
      "      Successfully uninstalled ml-dtypes-0.3.2\n",
      "  Attempting uninstall: tensorboard\n",
      "    Found existing installation: tensorboard 2.16.2\n",
      "    Uninstalling tensorboard-2.16.2:\n",
      "      Successfully uninstalled tensorboard-2.16.2\n",
      "  Attempting uninstall: tensorflow\n",
      "    Found existing installation: tensorflow 2.16.2\n",
      "    Uninstalling tensorflow-2.16.2:\n",
      "      Successfully uninstalled tensorflow-2.16.2\n",
      "\u001b[31mERROR: pip's dependency resolver does not currently take into account all the packages that are installed. This behaviour is the source of the following dependency conflicts.\n",
      "tf-keras 2.16.0 requires tensorflow<2.17,>=2.16, but you have tensorflow 2.19.0 which is incompatible.\u001b[0m\u001b[31m\n",
      "\u001b[0mSuccessfully installed ml-dtypes-0.5.1 tensorboard-2.19.0 tensorflow-2.19.0\n",
      "Requirement already satisfied: tensorflow in /home/ec2-user/anaconda3/envs/tensorflow2_p310/lib/python3.10/site-packages (2.19.0)\n",
      "Requirement already satisfied: absl-py>=1.0.0 in /home/ec2-user/anaconda3/envs/tensorflow2_p310/lib/python3.10/site-packages (from tensorflow) (2.1.0)\n",
      "Requirement already satisfied: astunparse>=1.6.0 in /home/ec2-user/anaconda3/envs/tensorflow2_p310/lib/python3.10/site-packages (from tensorflow) (1.6.3)\n",
      "Requirement already satisfied: flatbuffers>=24.3.25 in /home/ec2-user/anaconda3/envs/tensorflow2_p310/lib/python3.10/site-packages (from tensorflow) (25.2.10)\n",
      "Requirement already satisfied: gast!=0.5.0,!=0.5.1,!=0.5.2,>=0.2.1 in /home/ec2-user/anaconda3/envs/tensorflow2_p310/lib/python3.10/site-packages (from tensorflow) (0.6.0)\n",
      "Requirement already satisfied: google-pasta>=0.1.1 in /home/ec2-user/anaconda3/envs/tensorflow2_p310/lib/python3.10/site-packages (from tensorflow) (0.2.0)\n",
      "Requirement already satisfied: libclang>=13.0.0 in /home/ec2-user/anaconda3/envs/tensorflow2_p310/lib/python3.10/site-packages (from tensorflow) (18.1.1)\n",
      "Requirement already satisfied: opt-einsum>=2.3.2 in /home/ec2-user/anaconda3/envs/tensorflow2_p310/lib/python3.10/site-packages (from tensorflow) (3.4.0)\n",
      "Requirement already satisfied: packaging in /home/ec2-user/anaconda3/envs/tensorflow2_p310/lib/python3.10/site-packages (from tensorflow) (21.3)\n",
      "Requirement already satisfied: protobuf!=4.21.0,!=4.21.1,!=4.21.2,!=4.21.3,!=4.21.4,!=4.21.5,<6.0.0dev,>=3.20.3 in /home/ec2-user/anaconda3/envs/tensorflow2_p310/lib/python3.10/site-packages (from tensorflow) (4.25.6)\n",
      "Requirement already satisfied: requests<3,>=2.21.0 in /home/ec2-user/anaconda3/envs/tensorflow2_p310/lib/python3.10/site-packages (from tensorflow) (2.32.3)\n",
      "Requirement already satisfied: setuptools in /home/ec2-user/anaconda3/envs/tensorflow2_p310/lib/python3.10/site-packages (from tensorflow) (75.8.0)\n",
      "Requirement already satisfied: six>=1.12.0 in /home/ec2-user/anaconda3/envs/tensorflow2_p310/lib/python3.10/site-packages (from tensorflow) (1.17.0)\n",
      "Requirement already satisfied: termcolor>=1.1.0 in /home/ec2-user/anaconda3/envs/tensorflow2_p310/lib/python3.10/site-packages (from tensorflow) (2.5.0)\n",
      "Requirement already satisfied: typing-extensions>=3.6.6 in /home/ec2-user/anaconda3/envs/tensorflow2_p310/lib/python3.10/site-packages (from tensorflow) (4.12.2)\n",
      "Requirement already satisfied: wrapt>=1.11.0 in /home/ec2-user/anaconda3/envs/tensorflow2_p310/lib/python3.10/site-packages (from tensorflow) (1.17.2)\n",
      "Requirement already satisfied: grpcio<2.0,>=1.24.3 in /home/ec2-user/anaconda3/envs/tensorflow2_p310/lib/python3.10/site-packages (from tensorflow) (1.70.0)\n",
      "Requirement already satisfied: tensorboard~=2.19.0 in /home/ec2-user/anaconda3/envs/tensorflow2_p310/lib/python3.10/site-packages (from tensorflow) (2.19.0)\n",
      "Requirement already satisfied: keras>=3.5.0 in /home/ec2-user/anaconda3/envs/tensorflow2_p310/lib/python3.10/site-packages (from tensorflow) (3.8.0)\n",
      "Requirement already satisfied: numpy<2.2.0,>=1.26.0 in /home/ec2-user/anaconda3/envs/tensorflow2_p310/lib/python3.10/site-packages (from tensorflow) (1.26.4)\n",
      "Requirement already satisfied: h5py>=3.11.0 in /home/ec2-user/anaconda3/envs/tensorflow2_p310/lib/python3.10/site-packages (from tensorflow) (3.12.1)\n",
      "Requirement already satisfied: ml-dtypes<1.0.0,>=0.5.1 in /home/ec2-user/anaconda3/envs/tensorflow2_p310/lib/python3.10/site-packages (from tensorflow) (0.5.1)\n",
      "Requirement already satisfied: tensorflow-io-gcs-filesystem>=0.23.1 in /home/ec2-user/anaconda3/envs/tensorflow2_p310/lib/python3.10/site-packages (from tensorflow) (0.37.1)\n",
      "Requirement already satisfied: wheel<1.0,>=0.23.0 in /home/ec2-user/anaconda3/envs/tensorflow2_p310/lib/python3.10/site-packages (from astunparse>=1.6.0->tensorflow) (0.45.1)\n",
      "Requirement already satisfied: rich in /home/ec2-user/anaconda3/envs/tensorflow2_p310/lib/python3.10/site-packages (from keras>=3.5.0->tensorflow) (13.9.4)\n",
      "Requirement already satisfied: namex in /home/ec2-user/anaconda3/envs/tensorflow2_p310/lib/python3.10/site-packages (from keras>=3.5.0->tensorflow) (0.0.8)\n",
      "Requirement already satisfied: optree in /home/ec2-user/anaconda3/envs/tensorflow2_p310/lib/python3.10/site-packages (from keras>=3.5.0->tensorflow) (0.14.0)\n",
      "Requirement already satisfied: charset_normalizer<4,>=2 in /home/ec2-user/anaconda3/envs/tensorflow2_p310/lib/python3.10/site-packages (from requests<3,>=2.21.0->tensorflow) (3.4.1)\n",
      "Requirement already satisfied: idna<4,>=2.5 in /home/ec2-user/anaconda3/envs/tensorflow2_p310/lib/python3.10/site-packages (from requests<3,>=2.21.0->tensorflow) (3.10)\n",
      "Requirement already satisfied: urllib3<3,>=1.21.1 in /home/ec2-user/anaconda3/envs/tensorflow2_p310/lib/python3.10/site-packages (from requests<3,>=2.21.0->tensorflow) (1.26.19)\n",
      "Requirement already satisfied: certifi>=2017.4.17 in /home/ec2-user/anaconda3/envs/tensorflow2_p310/lib/python3.10/site-packages (from requests<3,>=2.21.0->tensorflow) (2025.1.31)\n",
      "Requirement already satisfied: markdown>=2.6.8 in /home/ec2-user/anaconda3/envs/tensorflow2_p310/lib/python3.10/site-packages (from tensorboard~=2.19.0->tensorflow) (3.7)\n",
      "Requirement already satisfied: tensorboard-data-server<0.8.0,>=0.7.0 in /home/ec2-user/anaconda3/envs/tensorflow2_p310/lib/python3.10/site-packages (from tensorboard~=2.19.0->tensorflow) (0.7.2)\n",
      "Requirement already satisfied: werkzeug>=1.0.1 in /home/ec2-user/anaconda3/envs/tensorflow2_p310/lib/python3.10/site-packages (from tensorboard~=2.19.0->tensorflow) (3.1.3)\n",
      "Requirement already satisfied: pyparsing!=3.0.5,>=2.0.2 in /home/ec2-user/anaconda3/envs/tensorflow2_p310/lib/python3.10/site-packages (from packaging->tensorflow) (3.2.1)\n",
      "Requirement already satisfied: MarkupSafe>=2.1.1 in /home/ec2-user/anaconda3/envs/tensorflow2_p310/lib/python3.10/site-packages (from werkzeug>=1.0.1->tensorboard~=2.19.0->tensorflow) (3.0.2)\n",
      "Requirement already satisfied: markdown-it-py>=2.2.0 in /home/ec2-user/anaconda3/envs/tensorflow2_p310/lib/python3.10/site-packages (from rich->keras>=3.5.0->tensorflow) (3.0.0)\n",
      "Requirement already satisfied: pygments<3.0.0,>=2.13.0 in /home/ec2-user/anaconda3/envs/tensorflow2_p310/lib/python3.10/site-packages (from rich->keras>=3.5.0->tensorflow) (2.19.1)\n",
      "Requirement already satisfied: mdurl~=0.1 in /home/ec2-user/anaconda3/envs/tensorflow2_p310/lib/python3.10/site-packages (from markdown-it-py>=2.2.0->rich->keras>=3.5.0->tensorflow) (0.1.2)\n",
      "Requirement already satisfied: keras in /home/ec2-user/anaconda3/envs/tensorflow2_p310/lib/python3.10/site-packages (3.8.0)\n",
      "Requirement already satisfied: absl-py in /home/ec2-user/anaconda3/envs/tensorflow2_p310/lib/python3.10/site-packages (from keras) (2.1.0)\n",
      "Requirement already satisfied: numpy in /home/ec2-user/anaconda3/envs/tensorflow2_p310/lib/python3.10/site-packages (from keras) (1.26.4)\n",
      "Requirement already satisfied: rich in /home/ec2-user/anaconda3/envs/tensorflow2_p310/lib/python3.10/site-packages (from keras) (13.9.4)\n",
      "Requirement already satisfied: namex in /home/ec2-user/anaconda3/envs/tensorflow2_p310/lib/python3.10/site-packages (from keras) (0.0.8)\n",
      "Requirement already satisfied: h5py in /home/ec2-user/anaconda3/envs/tensorflow2_p310/lib/python3.10/site-packages (from keras) (3.12.1)\n",
      "Requirement already satisfied: optree in /home/ec2-user/anaconda3/envs/tensorflow2_p310/lib/python3.10/site-packages (from keras) (0.14.0)\n",
      "Requirement already satisfied: ml-dtypes in /home/ec2-user/anaconda3/envs/tensorflow2_p310/lib/python3.10/site-packages (from keras) (0.5.1)\n",
      "Requirement already satisfied: packaging in /home/ec2-user/anaconda3/envs/tensorflow2_p310/lib/python3.10/site-packages (from keras) (21.3)\n",
      "Requirement already satisfied: typing-extensions>=4.5.0 in /home/ec2-user/anaconda3/envs/tensorflow2_p310/lib/python3.10/site-packages (from optree->keras) (4.12.2)\n",
      "Requirement already satisfied: pyparsing!=3.0.5,>=2.0.2 in /home/ec2-user/anaconda3/envs/tensorflow2_p310/lib/python3.10/site-packages (from packaging->keras) (3.2.1)\n",
      "Requirement already satisfied: markdown-it-py>=2.2.0 in /home/ec2-user/anaconda3/envs/tensorflow2_p310/lib/python3.10/site-packages (from rich->keras) (3.0.0)\n",
      "Requirement already satisfied: pygments<3.0.0,>=2.13.0 in /home/ec2-user/anaconda3/envs/tensorflow2_p310/lib/python3.10/site-packages (from rich->keras) (2.19.1)\n",
      "Requirement already satisfied: mdurl~=0.1 in /home/ec2-user/anaconda3/envs/tensorflow2_p310/lib/python3.10/site-packages (from markdown-it-py>=2.2.0->rich->keras) (0.1.2)\n"
     ]
    }
   ],
   "source": [
    "!pip install --upgrade tensorflow\n",
    "!pip install --upgrade tensorflow\n",
    "!pip install keras"
   ]
  },
  {
   "cell_type": "code",
   "execution_count": 59,
   "id": "427ba679-dc25-4970-a914-d87d19206127",
   "metadata": {
    "scrolled": true
   },
   "outputs": [
    {
     "name": "stderr",
     "output_type": "stream",
     "text": [
      "2025-03-21 16:28:08.159308: E external/local_xla/xla/stream_executor/cuda/cuda_fft.cc:467] Unable to register cuFFT factory: Attempting to register factory for plugin cuFFT when one has already been registered\n",
      "WARNING: All log messages before absl::InitializeLog() is called are written to STDERR\n",
      "E0000 00:00:1742574488.175570   25019 cuda_dnn.cc:8579] Unable to register cuDNN factory: Attempting to register factory for plugin cuDNN when one has already been registered\n",
      "E0000 00:00:1742574488.180019   25019 cuda_blas.cc:1407] Unable to register cuBLAS factory: Attempting to register factory for plugin cuBLAS when one has already been registered\n",
      "W0000 00:00:1742574488.191243   25019 computation_placer.cc:177] computation placer already registered. Please check linkage and avoid linking the same target more than once.\n",
      "W0000 00:00:1742574488.191254   25019 computation_placer.cc:177] computation placer already registered. Please check linkage and avoid linking the same target more than once.\n",
      "W0000 00:00:1742574488.191256   25019 computation_placer.cc:177] computation placer already registered. Please check linkage and avoid linking the same target more than once.\n",
      "W0000 00:00:1742574488.191258   25019 computation_placer.cc:177] computation placer already registered. Please check linkage and avoid linking the same target more than once.\n",
      "2025-03-21 16:28:08.195080: I tensorflow/core/platform/cpu_feature_guard.cc:210] This TensorFlow binary is optimized to use available CPU instructions in performance-critical operations.\n",
      "To enable the following instructions: AVX2 AVX512F FMA, in other operations, rebuild TensorFlow with the appropriate compiler flags.\n"
     ]
    }
   ],
   "source": [
    "from tensorflow.keras.layers import LSTM, Activation, Dense, Dropout, Input, Embedding, SpatialDropout1D\n",
    "from tensorflow.keras.optimizers import RMSprop\n",
    "from tensorflow.keras.preprocessing.text import Tokenizer\n",
    "from tensorflow.keras.preprocessing import sequence\n",
    "from tensorflow.keras.utils import to_categorical\n",
    "from keras.models import Sequential\n",
    "from keras.models import Model\n",
    "from keras.callbacks import EarlyStopping"
   ]
  },
  {
   "cell_type": "code",
   "execution_count": 60,
   "id": "8e62fca9-31bb-42b0-998b-fe22af132297",
   "metadata": {},
   "outputs": [],
   "source": [
    "max_words = 50000\n",
    "max_len = 300\n",
    "tokenizer = Tokenizer(num_words=max_words)\n",
    "tokenizer.fit_on_texts(x_train)\n",
    "sequences = tokenizer.texts_to_sequences(x_train)\n",
    "sequences_matrix = sequence.pad_sequences(sequences,maxlen=max_len)"
   ]
  },
  {
   "cell_type": "code",
   "execution_count": 61,
   "id": "248552ed-7e7b-4421-b32a-97ccd9cef016",
   "metadata": {
    "scrolled": true
   },
   "outputs": [
    {
     "name": "stdout",
     "output_type": "stream",
     "text": [
      "Requirement already satisfied: tensorflow in /home/ec2-user/anaconda3/envs/tensorflow2_p310/lib/python3.10/site-packages (2.19.0)\n",
      "Requirement already satisfied: absl-py>=1.0.0 in /home/ec2-user/anaconda3/envs/tensorflow2_p310/lib/python3.10/site-packages (from tensorflow) (2.1.0)\n",
      "Requirement already satisfied: astunparse>=1.6.0 in /home/ec2-user/anaconda3/envs/tensorflow2_p310/lib/python3.10/site-packages (from tensorflow) (1.6.3)\n",
      "Requirement already satisfied: flatbuffers>=24.3.25 in /home/ec2-user/anaconda3/envs/tensorflow2_p310/lib/python3.10/site-packages (from tensorflow) (25.2.10)\n",
      "Requirement already satisfied: gast!=0.5.0,!=0.5.1,!=0.5.2,>=0.2.1 in /home/ec2-user/anaconda3/envs/tensorflow2_p310/lib/python3.10/site-packages (from tensorflow) (0.6.0)\n",
      "Requirement already satisfied: google-pasta>=0.1.1 in /home/ec2-user/anaconda3/envs/tensorflow2_p310/lib/python3.10/site-packages (from tensorflow) (0.2.0)\n",
      "Requirement already satisfied: libclang>=13.0.0 in /home/ec2-user/anaconda3/envs/tensorflow2_p310/lib/python3.10/site-packages (from tensorflow) (18.1.1)\n",
      "Requirement already satisfied: opt-einsum>=2.3.2 in /home/ec2-user/anaconda3/envs/tensorflow2_p310/lib/python3.10/site-packages (from tensorflow) (3.4.0)\n",
      "Requirement already satisfied: packaging in /home/ec2-user/anaconda3/envs/tensorflow2_p310/lib/python3.10/site-packages (from tensorflow) (21.3)\n",
      "Requirement already satisfied: protobuf!=4.21.0,!=4.21.1,!=4.21.2,!=4.21.3,!=4.21.4,!=4.21.5,<6.0.0dev,>=3.20.3 in /home/ec2-user/anaconda3/envs/tensorflow2_p310/lib/python3.10/site-packages (from tensorflow) (4.25.6)\n",
      "Requirement already satisfied: requests<3,>=2.21.0 in /home/ec2-user/anaconda3/envs/tensorflow2_p310/lib/python3.10/site-packages (from tensorflow) (2.32.3)\n",
      "Requirement already satisfied: setuptools in /home/ec2-user/anaconda3/envs/tensorflow2_p310/lib/python3.10/site-packages (from tensorflow) (75.8.0)\n",
      "Requirement already satisfied: six>=1.12.0 in /home/ec2-user/anaconda3/envs/tensorflow2_p310/lib/python3.10/site-packages (from tensorflow) (1.17.0)\n",
      "Requirement already satisfied: termcolor>=1.1.0 in /home/ec2-user/anaconda3/envs/tensorflow2_p310/lib/python3.10/site-packages (from tensorflow) (2.5.0)\n",
      "Requirement already satisfied: typing-extensions>=3.6.6 in /home/ec2-user/anaconda3/envs/tensorflow2_p310/lib/python3.10/site-packages (from tensorflow) (4.12.2)\n",
      "Requirement already satisfied: wrapt>=1.11.0 in /home/ec2-user/anaconda3/envs/tensorflow2_p310/lib/python3.10/site-packages (from tensorflow) (1.17.2)\n",
      "Requirement already satisfied: grpcio<2.0,>=1.24.3 in /home/ec2-user/anaconda3/envs/tensorflow2_p310/lib/python3.10/site-packages (from tensorflow) (1.70.0)\n",
      "Requirement already satisfied: tensorboard~=2.19.0 in /home/ec2-user/anaconda3/envs/tensorflow2_p310/lib/python3.10/site-packages (from tensorflow) (2.19.0)\n",
      "Requirement already satisfied: keras>=3.5.0 in /home/ec2-user/anaconda3/envs/tensorflow2_p310/lib/python3.10/site-packages (from tensorflow) (3.8.0)\n",
      "Requirement already satisfied: numpy<2.2.0,>=1.26.0 in /home/ec2-user/anaconda3/envs/tensorflow2_p310/lib/python3.10/site-packages (from tensorflow) (1.26.4)\n",
      "Requirement already satisfied: h5py>=3.11.0 in /home/ec2-user/anaconda3/envs/tensorflow2_p310/lib/python3.10/site-packages (from tensorflow) (3.12.1)\n",
      "Requirement already satisfied: ml-dtypes<1.0.0,>=0.5.1 in /home/ec2-user/anaconda3/envs/tensorflow2_p310/lib/python3.10/site-packages (from tensorflow) (0.5.1)\n",
      "Requirement already satisfied: tensorflow-io-gcs-filesystem>=0.23.1 in /home/ec2-user/anaconda3/envs/tensorflow2_p310/lib/python3.10/site-packages (from tensorflow) (0.37.1)\n",
      "Requirement already satisfied: wheel<1.0,>=0.23.0 in /home/ec2-user/anaconda3/envs/tensorflow2_p310/lib/python3.10/site-packages (from astunparse>=1.6.0->tensorflow) (0.45.1)\n",
      "Requirement already satisfied: rich in /home/ec2-user/anaconda3/envs/tensorflow2_p310/lib/python3.10/site-packages (from keras>=3.5.0->tensorflow) (13.9.4)\n",
      "Requirement already satisfied: namex in /home/ec2-user/anaconda3/envs/tensorflow2_p310/lib/python3.10/site-packages (from keras>=3.5.0->tensorflow) (0.0.8)\n",
      "Requirement already satisfied: optree in /home/ec2-user/anaconda3/envs/tensorflow2_p310/lib/python3.10/site-packages (from keras>=3.5.0->tensorflow) (0.14.0)\n",
      "Requirement already satisfied: charset_normalizer<4,>=2 in /home/ec2-user/anaconda3/envs/tensorflow2_p310/lib/python3.10/site-packages (from requests<3,>=2.21.0->tensorflow) (3.4.1)\n",
      "Requirement already satisfied: idna<4,>=2.5 in /home/ec2-user/anaconda3/envs/tensorflow2_p310/lib/python3.10/site-packages (from requests<3,>=2.21.0->tensorflow) (3.10)\n",
      "Requirement already satisfied: urllib3<3,>=1.21.1 in /home/ec2-user/anaconda3/envs/tensorflow2_p310/lib/python3.10/site-packages (from requests<3,>=2.21.0->tensorflow) (1.26.19)\n",
      "Requirement already satisfied: certifi>=2017.4.17 in /home/ec2-user/anaconda3/envs/tensorflow2_p310/lib/python3.10/site-packages (from requests<3,>=2.21.0->tensorflow) (2025.1.31)\n",
      "Requirement already satisfied: markdown>=2.6.8 in /home/ec2-user/anaconda3/envs/tensorflow2_p310/lib/python3.10/site-packages (from tensorboard~=2.19.0->tensorflow) (3.7)\n",
      "Requirement already satisfied: tensorboard-data-server<0.8.0,>=0.7.0 in /home/ec2-user/anaconda3/envs/tensorflow2_p310/lib/python3.10/site-packages (from tensorboard~=2.19.0->tensorflow) (0.7.2)\n",
      "Requirement already satisfied: werkzeug>=1.0.1 in /home/ec2-user/anaconda3/envs/tensorflow2_p310/lib/python3.10/site-packages (from tensorboard~=2.19.0->tensorflow) (3.1.3)\n",
      "Requirement already satisfied: pyparsing!=3.0.5,>=2.0.2 in /home/ec2-user/anaconda3/envs/tensorflow2_p310/lib/python3.10/site-packages (from packaging->tensorflow) (3.2.1)\n",
      "Requirement already satisfied: MarkupSafe>=2.1.1 in /home/ec2-user/anaconda3/envs/tensorflow2_p310/lib/python3.10/site-packages (from werkzeug>=1.0.1->tensorboard~=2.19.0->tensorflow) (3.0.2)\n",
      "Requirement already satisfied: markdown-it-py>=2.2.0 in /home/ec2-user/anaconda3/envs/tensorflow2_p310/lib/python3.10/site-packages (from rich->keras>=3.5.0->tensorflow) (3.0.0)\n",
      "Requirement already satisfied: pygments<3.0.0,>=2.13.0 in /home/ec2-user/anaconda3/envs/tensorflow2_p310/lib/python3.10/site-packages (from rich->keras>=3.5.0->tensorflow) (2.19.1)\n",
      "Requirement already satisfied: mdurl~=0.1 in /home/ec2-user/anaconda3/envs/tensorflow2_p310/lib/python3.10/site-packages (from markdown-it-py>=2.2.0->rich->keras>=3.5.0->tensorflow) (0.1.2)\n"
     ]
    },
    {
     "name": "stderr",
     "output_type": "stream",
     "text": [
      "2025-03-21 16:28:32.993545: E external/local_xla/xla/stream_executor/cuda/cuda_platform.cc:51] failed call to cuInit: INTERNAL: CUDA error: Failed call to cuInit: CUDA_ERROR_NO_DEVICE: no CUDA-capable device is detected\n"
     ]
    },
    {
     "name": "stdout",
     "output_type": "stream",
     "text": [
      "Epoch 1/40\n",
      "266/266 [==============================] - 25s 88ms/step - loss: 0.2791 - accuracy: 0.8918 - val_loss: 0.1541 - val_accuracy: 0.9448\n",
      "Epoch 2/40\n",
      "266/266 [==============================] - 23s 86ms/step - loss: 0.1340 - accuracy: 0.9535 - val_loss: 0.1522 - val_accuracy: 0.9465\n",
      "Epoch 3/40\n",
      "266/266 [==============================] - 23s 86ms/step - loss: 0.1147 - accuracy: 0.9604 - val_loss: 0.1615 - val_accuracy: 0.9443\n",
      "444/444 [==============================] - 5s 11ms/step - loss: 0.1778 - accuracy: 0.9372\n",
      "Test set\n",
      "  Loss: 0.178\n",
      "  Accuracy: 0.937\n"
     ]
    }
   ],
   "source": [
    "!pip install tensorflow\n",
    "from tensorflow.keras.preprocessing.text import Tokenizer\n",
    "from tensorflow.keras.preprocessing import sequence\n",
    "from tensorflow.keras.callbacks import EarlyStopping\n",
    "from tensorflow.keras.models import Sequential\n",
    "from tensorflow.keras.layers import Embedding, LSTM, Dense\n",
    "\n",
    "# Set a vocabulary size (based on the embedding layer's limit)\n",
    "max_words = 5000  # Maximum number of words to keep, based on word frequency.\n",
    "max_len = 100  # Maximum sequence length\n",
    "\n",
    "# Tokenizer with a limit on the number of words (vocabulary)\n",
    "tokenizer = Tokenizer(num_words=max_words)\n",
    "tokenizer.fit_on_texts(x_train)\n",
    "\n",
    "# Convert text sequences to matrix\n",
    "sequences_matrix = tokenizer.texts_to_sequences(x_train)\n",
    "sequences_matrix = sequence.pad_sequences(sequences_matrix, maxlen=max_len)\n",
    "\n",
    "# Model definition\n",
    "model = Sequential()\n",
    "model.add(Embedding(max_words, 100, input_length=max_len))  # Ensure max_words matches your tokenizer limit\n",
    "model.add(LSTM(100))\n",
    "model.add(Dense(1, activation='sigmoid'))\n",
    "\n",
    "model.compile(loss='binary_crossentropy', optimizer='adam', metrics=['accuracy'])\n",
    "\n",
    "try:\n",
    "    # Train the model\n",
    "    model.fit(sequences_matrix, y_train, batch_size=128, epochs=40,\n",
    "              validation_split=0.2, callbacks=[EarlyStopping(monitor='val_loss', min_delta=0.0001)])\n",
    "\n",
    "    # Prepare test data\n",
    "    test_sequences = tokenizer.texts_to_sequences(x_test)\n",
    "    test_sequences_matrix = sequence.pad_sequences(test_sequences, maxlen=max_len)\n",
    "\n",
    "    # Evaluate model\n",
    "    accr = model.evaluate(test_sequences_matrix, y_test)\n",
    "    print('Test set\\n  Loss: {:0.3f}\\n  Accuracy: {:0.3f}'.format(accr[0], accr[1]))\n",
    "\n",
    "except Exception as e:\n",
    "    print(f\"An error occurred: {e}\")"
   ]
  },
  {
   "cell_type": "code",
   "execution_count": 62,
   "id": "ce7baacb-8c9c-4585-a34b-39c6fdfb69ba",
   "metadata": {},
   "outputs": [
    {
     "name": "stderr",
     "output_type": "stream",
     "text": [
      "/home/ec2-user/anaconda3/envs/tensorflow2_p310/lib/python3.10/site-packages/keras/src/layers/core/embedding.py:90: UserWarning: Argument `input_length` is deprecated. Just remove it.\n",
      "  warnings.warn(\n"
     ]
    },
    {
     "data": {
      "text/html": [
       "<pre style=\"white-space:pre;overflow-x:auto;line-height:normal;font-family:Menlo,'DejaVu Sans Mono',consolas,'Courier New',monospace\"><span style=\"font-weight: bold\">Model: \"functional\"</span>\n",
       "</pre>\n"
      ],
      "text/plain": [
       "\u001b[1mModel: \"functional\"\u001b[0m\n"
      ]
     },
     "metadata": {},
     "output_type": "display_data"
    },
    {
     "data": {
      "text/html": [
       "<pre style=\"white-space:pre;overflow-x:auto;line-height:normal;font-family:Menlo,'DejaVu Sans Mono',consolas,'Courier New',monospace\">┏━━━━━━━━━━━━━━━━━━━━━━━━━━━━━━━━━┳━━━━━━━━━━━━━━━━━━━━━━━━┳━━━━━━━━━━━━━━━┓\n",
       "┃<span style=\"font-weight: bold\"> Layer (type)                    </span>┃<span style=\"font-weight: bold\"> Output Shape           </span>┃<span style=\"font-weight: bold\">       Param # </span>┃\n",
       "┡━━━━━━━━━━━━━━━━━━━━━━━━━━━━━━━━━╇━━━━━━━━━━━━━━━━━━━━━━━━╇━━━━━━━━━━━━━━━┩\n",
       "│ inputs (<span style=\"color: #0087ff; text-decoration-color: #0087ff\">InputLayer</span>)             │ (<span style=\"color: #00d7ff; text-decoration-color: #00d7ff\">None</span>, <span style=\"color: #00af00; text-decoration-color: #00af00\">300</span>)            │             <span style=\"color: #00af00; text-decoration-color: #00af00\">0</span> │\n",
       "├─────────────────────────────────┼────────────────────────┼───────────────┤\n",
       "│ embedding (<span style=\"color: #0087ff; text-decoration-color: #0087ff\">Embedding</span>)           │ (<span style=\"color: #00d7ff; text-decoration-color: #00d7ff\">None</span>, <span style=\"color: #00af00; text-decoration-color: #00af00\">300</span>, <span style=\"color: #00af00; text-decoration-color: #00af00\">50</span>)        │     <span style=\"color: #00af00; text-decoration-color: #00af00\">2,500,000</span> │\n",
       "├─────────────────────────────────┼────────────────────────┼───────────────┤\n",
       "│ lstm (<span style=\"color: #0087ff; text-decoration-color: #0087ff\">LSTM</span>)                     │ (<span style=\"color: #00d7ff; text-decoration-color: #00d7ff\">None</span>, <span style=\"color: #00af00; text-decoration-color: #00af00\">64</span>)             │        <span style=\"color: #00af00; text-decoration-color: #00af00\">29,440</span> │\n",
       "├─────────────────────────────────┼────────────────────────┼───────────────┤\n",
       "│ FC1 (<span style=\"color: #0087ff; text-decoration-color: #0087ff\">Dense</span>)                     │ (<span style=\"color: #00d7ff; text-decoration-color: #00d7ff\">None</span>, <span style=\"color: #00af00; text-decoration-color: #00af00\">256</span>)            │        <span style=\"color: #00af00; text-decoration-color: #00af00\">16,640</span> │\n",
       "├─────────────────────────────────┼────────────────────────┼───────────────┤\n",
       "│ activation (<span style=\"color: #0087ff; text-decoration-color: #0087ff\">Activation</span>)         │ (<span style=\"color: #00d7ff; text-decoration-color: #00d7ff\">None</span>, <span style=\"color: #00af00; text-decoration-color: #00af00\">256</span>)            │             <span style=\"color: #00af00; text-decoration-color: #00af00\">0</span> │\n",
       "├─────────────────────────────────┼────────────────────────┼───────────────┤\n",
       "│ dropout (<span style=\"color: #0087ff; text-decoration-color: #0087ff\">Dropout</span>)               │ (<span style=\"color: #00d7ff; text-decoration-color: #00d7ff\">None</span>, <span style=\"color: #00af00; text-decoration-color: #00af00\">256</span>)            │             <span style=\"color: #00af00; text-decoration-color: #00af00\">0</span> │\n",
       "├─────────────────────────────────┼────────────────────────┼───────────────┤\n",
       "│ out_layer (<span style=\"color: #0087ff; text-decoration-color: #0087ff\">Dense</span>)               │ (<span style=\"color: #00d7ff; text-decoration-color: #00d7ff\">None</span>, <span style=\"color: #00af00; text-decoration-color: #00af00\">1</span>)              │           <span style=\"color: #00af00; text-decoration-color: #00af00\">257</span> │\n",
       "├─────────────────────────────────┼────────────────────────┼───────────────┤\n",
       "│ activation_1 (<span style=\"color: #0087ff; text-decoration-color: #0087ff\">Activation</span>)       │ (<span style=\"color: #00d7ff; text-decoration-color: #00d7ff\">None</span>, <span style=\"color: #00af00; text-decoration-color: #00af00\">1</span>)              │             <span style=\"color: #00af00; text-decoration-color: #00af00\">0</span> │\n",
       "└─────────────────────────────────┴────────────────────────┴───────────────┘\n",
       "</pre>\n"
      ],
      "text/plain": [
       "┏━━━━━━━━━━━━━━━━━━━━━━━━━━━━━━━━━┳━━━━━━━━━━━━━━━━━━━━━━━━┳━━━━━━━━━━━━━━━┓\n",
       "┃\u001b[1m \u001b[0m\u001b[1mLayer (type)                   \u001b[0m\u001b[1m \u001b[0m┃\u001b[1m \u001b[0m\u001b[1mOutput Shape          \u001b[0m\u001b[1m \u001b[0m┃\u001b[1m \u001b[0m\u001b[1m      Param #\u001b[0m\u001b[1m \u001b[0m┃\n",
       "┡━━━━━━━━━━━━━━━━━━━━━━━━━━━━━━━━━╇━━━━━━━━━━━━━━━━━━━━━━━━╇━━━━━━━━━━━━━━━┩\n",
       "│ inputs (\u001b[38;5;33mInputLayer\u001b[0m)             │ (\u001b[38;5;45mNone\u001b[0m, \u001b[38;5;34m300\u001b[0m)            │             \u001b[38;5;34m0\u001b[0m │\n",
       "├─────────────────────────────────┼────────────────────────┼───────────────┤\n",
       "│ embedding (\u001b[38;5;33mEmbedding\u001b[0m)           │ (\u001b[38;5;45mNone\u001b[0m, \u001b[38;5;34m300\u001b[0m, \u001b[38;5;34m50\u001b[0m)        │     \u001b[38;5;34m2,500,000\u001b[0m │\n",
       "├─────────────────────────────────┼────────────────────────┼───────────────┤\n",
       "│ lstm (\u001b[38;5;33mLSTM\u001b[0m)                     │ (\u001b[38;5;45mNone\u001b[0m, \u001b[38;5;34m64\u001b[0m)             │        \u001b[38;5;34m29,440\u001b[0m │\n",
       "├─────────────────────────────────┼────────────────────────┼───────────────┤\n",
       "│ FC1 (\u001b[38;5;33mDense\u001b[0m)                     │ (\u001b[38;5;45mNone\u001b[0m, \u001b[38;5;34m256\u001b[0m)            │        \u001b[38;5;34m16,640\u001b[0m │\n",
       "├─────────────────────────────────┼────────────────────────┼───────────────┤\n",
       "│ activation (\u001b[38;5;33mActivation\u001b[0m)         │ (\u001b[38;5;45mNone\u001b[0m, \u001b[38;5;34m256\u001b[0m)            │             \u001b[38;5;34m0\u001b[0m │\n",
       "├─────────────────────────────────┼────────────────────────┼───────────────┤\n",
       "│ dropout (\u001b[38;5;33mDropout\u001b[0m)               │ (\u001b[38;5;45mNone\u001b[0m, \u001b[38;5;34m256\u001b[0m)            │             \u001b[38;5;34m0\u001b[0m │\n",
       "├─────────────────────────────────┼────────────────────────┼───────────────┤\n",
       "│ out_layer (\u001b[38;5;33mDense\u001b[0m)               │ (\u001b[38;5;45mNone\u001b[0m, \u001b[38;5;34m1\u001b[0m)              │           \u001b[38;5;34m257\u001b[0m │\n",
       "├─────────────────────────────────┼────────────────────────┼───────────────┤\n",
       "│ activation_1 (\u001b[38;5;33mActivation\u001b[0m)       │ (\u001b[38;5;45mNone\u001b[0m, \u001b[38;5;34m1\u001b[0m)              │             \u001b[38;5;34m0\u001b[0m │\n",
       "└─────────────────────────────────┴────────────────────────┴───────────────┘\n"
      ]
     },
     "metadata": {},
     "output_type": "display_data"
    },
    {
     "data": {
      "text/html": [
       "<pre style=\"white-space:pre;overflow-x:auto;line-height:normal;font-family:Menlo,'DejaVu Sans Mono',consolas,'Courier New',monospace\"><span style=\"font-weight: bold\"> Total params: </span><span style=\"color: #00af00; text-decoration-color: #00af00\">2,546,337</span> (9.71 MB)\n",
       "</pre>\n"
      ],
      "text/plain": [
       "\u001b[1m Total params: \u001b[0m\u001b[38;5;34m2,546,337\u001b[0m (9.71 MB)\n"
      ]
     },
     "metadata": {},
     "output_type": "display_data"
    },
    {
     "data": {
      "text/html": [
       "<pre style=\"white-space:pre;overflow-x:auto;line-height:normal;font-family:Menlo,'DejaVu Sans Mono',consolas,'Courier New',monospace\"><span style=\"font-weight: bold\"> Trainable params: </span><span style=\"color: #00af00; text-decoration-color: #00af00\">2,546,337</span> (9.71 MB)\n",
       "</pre>\n"
      ],
      "text/plain": [
       "\u001b[1m Trainable params: \u001b[0m\u001b[38;5;34m2,546,337\u001b[0m (9.71 MB)\n"
      ]
     },
     "metadata": {},
     "output_type": "display_data"
    },
    {
     "data": {
      "text/html": [
       "<pre style=\"white-space:pre;overflow-x:auto;line-height:normal;font-family:Menlo,'DejaVu Sans Mono',consolas,'Courier New',monospace\"><span style=\"font-weight: bold\"> Non-trainable params: </span><span style=\"color: #00af00; text-decoration-color: #00af00\">0</span> (0.00 B)\n",
       "</pre>\n"
      ],
      "text/plain": [
       "\u001b[1m Non-trainable params: \u001b[0m\u001b[38;5;34m0\u001b[0m (0.00 B)\n"
      ]
     },
     "metadata": {},
     "output_type": "display_data"
    }
   ],
   "source": [
    "from keras.models import Model\n",
    "from keras.layers import Input, Embedding, LSTM, Dense, Activation, Dropout\n",
    "from keras.optimizers import RMSprop\n",
    "from keras.callbacks import EarlyStopping, ModelCheckpoint\n",
    "\n",
    "# Define parameters\n",
    "max_words = 50000  # Adjust this based on your vocabulary size\n",
    "max_len = 300  # Input length of each sample\n",
    "\n",
    "def RNN():\n",
    "    inputs = Input(name='inputs', shape=[max_len])\n",
    "    layer = Embedding(max_words, 50, input_length=max_len)(inputs)\n",
    "    layer = LSTM(64)(layer)\n",
    "    layer = Dense(256, name='FC1')(layer)\n",
    "    layer = Activation('relu')(layer)\n",
    "    layer = Dropout(0.5)(layer)\n",
    "    layer = Dense(1, name='out_layer')(layer)\n",
    "    layer = Activation('sigmoid')(layer)\n",
    "    model = Model(inputs=inputs, outputs=layer)\n",
    "    return model\n",
    "\n",
    "# Create the model\n",
    "model = RNN()\n",
    "model.summary()\n",
    "\n",
    "# Compile the model\n",
    "model.compile(loss='binary_crossentropy', optimizer=RMSprop(), metrics=['accuracy'])\n",
    "\n",
    "# Define callbacks\n",
    "stop = EarlyStopping(\n",
    "    monitor='val_accuracy',\n",
    "    mode='max',\n",
    "    patience=5\n",
    ")\n",
    "\n",
    "checkpoint = ModelCheckpoint(\n",
    "    filepath='model.weights.h5',  # Specify a valid filepath ending with .weights.h5\n",
    "    save_weights_only=True,\n",
    "    monitor='val_accuracy',\n",
    "    mode='max',\n",
    "    save_best_only=True\n",
    ")"
   ]
  },
  {
   "cell_type": "code",
   "execution_count": 63,
   "id": "a1e02225-13f7-4fe4-87b7-4ae438c05ef8",
   "metadata": {},
   "outputs": [],
   "source": [
    "from keras.callbacks import EarlyStopping,ModelCheckpoint\n",
    "stop = EarlyStopping(\n",
    "    monitor='val_accuracy',\n",
    "    mode='max',\n",
    "    patience=5\n",
    ")\n",
    "checkpoint = ModelCheckpoint(\n",
    "    filepath='model.weights.h5',  # Specify a valid filepath ending with .weights.h5\n",
    "    save_weights_only=True,\n",
    "    monitor='val_accuracy',\n",
    "    mode='max',\n",
    "    save_best_only=True\n",
    ")"
   ]
  },
  {
   "cell_type": "code",
   "execution_count": 64,
   "id": "d36ecdac-0740-46d6-abde-5e1220ca5912",
   "metadata": {},
   "outputs": [
    {
     "name": "stdout",
     "output_type": "stream",
     "text": [
      "Epoch 1/10\n",
      "34/34 [==============================] - 18s 505ms/step - loss: 0.6774 - accuracy: 0.5889 - val_loss: 0.6706 - val_accuracy: 0.6059\n",
      "Epoch 2/10\n",
      "34/34 [==============================] - 16s 486ms/step - loss: 0.6750 - accuracy: 0.5955 - val_loss: 0.6710 - val_accuracy: 0.6059\n",
      "Epoch 3/10\n",
      "34/34 [==============================] - 16s 484ms/step - loss: 0.6750 - accuracy: 0.5955 - val_loss: 0.6708 - val_accuracy: 0.6059\n",
      "Epoch 4/10\n",
      "34/34 [==============================] - 16s 484ms/step - loss: 0.6749 - accuracy: 0.5955 - val_loss: 0.6708 - val_accuracy: 0.6059\n",
      "Epoch 5/10\n",
      "34/34 [==============================] - 16s 486ms/step - loss: 0.6749 - accuracy: 0.5955 - val_loss: 0.6711 - val_accuracy: 0.6059\n",
      "Epoch 6/10\n",
      "34/34 [==============================] - 16s 486ms/step - loss: 0.6749 - accuracy: 0.5955 - val_loss: 0.6707 - val_accuracy: 0.6059\n",
      "Epoch 7/10\n",
      "34/34 [==============================] - 16s 486ms/step - loss: 0.6750 - accuracy: 0.5955 - val_loss: 0.6706 - val_accuracy: 0.6059\n",
      "Epoch 8/10\n",
      "34/34 [==============================] - 16s 484ms/step - loss: 0.6749 - accuracy: 0.5955 - val_loss: 0.6706 - val_accuracy: 0.6059\n",
      "Epoch 9/10\n",
      "34/34 [==============================] - 16s 484ms/step - loss: 0.6749 - accuracy: 0.5955 - val_loss: 0.6706 - val_accuracy: 0.6059\n",
      "Epoch 10/10\n",
      "34/34 [==============================] - 16s 484ms/step - loss: 0.6749 - accuracy: 0.5955 - val_loss: 0.6707 - val_accuracy: 0.6059\n"
     ]
    }
   ],
   "source": [
    "from tensorflow.keras.models import Sequential\n",
    "from tensorflow.keras.layers import Embedding, LSTM, Dense\n",
    "from tensorflow.keras.preprocessing.text import Tokenizer\n",
    "from tensorflow.keras.preprocessing.sequence import pad_sequences\n",
    "\n",
    "# Define parameters\n",
    "max_words = 5000  # Vocabulary size\n",
    "max_len = 100  # Sequence length\n",
    "\n",
    "# Tokenize and pad sequences\n",
    "tokenizer = Tokenizer(num_words=max_words)\n",
    "sequences_matrix = tokenizer.texts_to_sequences(x_train)\n",
    "sequences_matrix = pad_sequences(sequences_matrix, maxlen=max_len)  # Make sure this import exists!\n",
    "\n",
    "# Define model\n",
    "model = Sequential()\n",
    "model.add(Embedding(input_dim=max_words, output_dim=100, input_length=max_len))  # Ensure max_words is valid\n",
    "model.add(LSTM(100))\n",
    "model.add(Dense(1, activation='sigmoid'))\n",
    "\n",
    "# Compile model\n",
    "model.compile(loss='binary_crossentropy', optimizer='adam', metrics=['accuracy'])\n",
    "\n",
    "# Train model\n",
    "try:\n",
    "    history = model.fit(sequences_matrix, y_train, batch_size=1024, epochs=10,\n",
    "                        validation_split=0.2)\n",
    "except Exception as e:\n",
    "    print(f\"An error occurred: {e}\")\n"
   ]
  },
  {
   "cell_type": "code",
   "execution_count": 65,
   "id": "a683fa61-30ef-482c-a728-133eb6251812",
   "metadata": {},
   "outputs": [],
   "source": [
    "test_sequences = tokenizer.texts_to_sequences(x_test)\n",
    "test_sequences_matrix = sequence.pad_sequences(test_sequences,maxlen=max_len)"
   ]
  },
  {
   "cell_type": "code",
   "execution_count": 66,
   "id": "0281a0ec-fa4e-4d56-aa22-f139cf78c045",
   "metadata": {},
   "outputs": [
    {
     "name": "stdout",
     "output_type": "stream",
     "text": [
      "444/444 [==============================] - 5s 11ms/step - loss: 0.6747 - accuracy: 0.5958\n"
     ]
    }
   ],
   "source": [
    "accr = model.evaluate(test_sequences_matrix,y_test)"
   ]
  },
  {
   "cell_type": "code",
   "execution_count": 67,
   "id": "e15eb698-07d6-48aa-97ab-6c38434783f8",
   "metadata": {},
   "outputs": [
    {
     "name": "stdout",
     "output_type": "stream",
     "text": [
      "444/444 [==============================] - 5s 11ms/step\n"
     ]
    }
   ],
   "source": [
    "lstm_prediction=model.predict(test_sequences_matrix)"
   ]
  },
  {
   "cell_type": "code",
   "execution_count": 68,
   "id": "c01db626-88bf-4105-9b19-6e1b4c6486b8",
   "metadata": {},
   "outputs": [],
   "source": [
    "res=[]\n",
    "for prediction in lstm_prediction:\n",
    "    if prediction[0]<0.5:\n",
    "        res.append(0)\n",
    "    else:\n",
    "        res.append(1)"
   ]
  },
  {
   "cell_type": "code",
   "execution_count": 69,
   "id": "31e930f7-f6b3-401c-a380-caec66dafd1e",
   "metadata": {},
   "outputs": [
    {
     "name": "stdout",
     "output_type": "stream",
     "text": [
      "[[8453    0]\n",
      " [5734    0]]\n"
     ]
    }
   ],
   "source": [
    "print(confusion_matrix(y_test,res))"
   ]
  },
  {
   "cell_type": "code",
   "execution_count": 70,
   "id": "876c4f3e-152c-4ed0-b81d-b8a426690450",
   "metadata": {},
   "outputs": [],
   "source": [
    "import pickle\n",
    "with open('tokenizer.pickle', 'wb') as handle:\n",
    "    pickle.dump(tokenizer, handle, protocol=pickle.HIGHEST_PROTOCOL)"
   ]
  },
  {
   "cell_type": "code",
   "execution_count": 71,
   "id": "0cb2c5b1-995a-41b2-9a51-5ad2bf6b157e",
   "metadata": {},
   "outputs": [],
   "source": [
    "model.save(\"hate&abusive_model.keras\")"
   ]
  },
  {
   "cell_type": "code",
   "execution_count": 72,
   "id": "f5f51a2d-b60a-4011-a047-2736dde94f02",
   "metadata": {},
   "outputs": [
    {
     "name": "stdout",
     "output_type": "stream",
     "text": [
      "Cleaned Text: ['hate countri']\n",
      "Tokenized Sequence: [[]]\n",
      "1/1 [==============================] - 0s 441ms/step\n",
      "Prediction: [[0.47785223]]\n",
      "No Hate\n"
     ]
    }
   ],
   "source": [
    "import re\n",
    "import string\n",
    "import pickle\n",
    "import numpy as np\n",
    "from tensorflow.keras.preprocessing.sequence import pad_sequences\n",
    "from tensorflow.keras.models import load_model\n",
    "from nltk.corpus import stopwords\n",
    "from nltk.stem import PorterStemmer\n",
    "\n",
    "# Load model and assign it to a variable\n",
    "model = load_model(\"./hate&abusive_model.h5\")  # Fix: store the model instance\n",
    "\n",
    "# Load tokenizer\n",
    "tokenizer_path = \"tokenizer.pickle\"\n",
    "with open(tokenizer_path, 'rb') as handle:\n",
    "    load_tokenizer = pickle.load(handle)\n",
    "\n",
    "# Define stopwords and stemmer\n",
    "stopword = set(stopwords.words('english'))\n",
    "stemmer = PorterStemmer()\n",
    "\n",
    "# Text Cleaning Function\n",
    "def clean_text(text):\n",
    "    text = text.lower()\n",
    "    text = re.sub(r'\\[.*?\\]', '', text)\n",
    "    text = re.sub(r'https?://\\S+|www\\.\\S+', '', text)\n",
    "    text = re.sub(r'<.*?>+', '', text)\n",
    "    text = re.sub(r'[%s]' % re.escape(string.punctuation), '', text)\n",
    "    text = re.sub(r'\\n', '', text)\n",
    "    text = re.sub(r'\\w*\\d\\w*', '', text)\n",
    "    \n",
    "    # Remove stopwords\n",
    "    text = \" \".join([word for word in text.split() if word not in stopword])\n",
    "    \n",
    "    # Apply stemming\n",
    "    text = \" \".join([stemmer.stem(word) for word in text.split()])\n",
    "    \n",
    "    return text\n",
    "\n",
    "#  Sample Test\n",
    "test = [\"I hate my country\"]\n",
    "test_cleaned = [clean_text(text) for text in test]\n",
    "print(\"Cleaned Text:\", test_cleaned)\n",
    "\n",
    "# Convert text to sequence\n",
    "seq = load_tokenizer.texts_to_sequences(test_cleaned)\n",
    "padded = pad_sequences(seq, maxlen=100)  #  Ensure maxlen matches model input_length\n",
    "print(\"Tokenized Sequence:\", seq)\n",
    "\n",
    "#  Use the correctly loaded model to predict\n",
    "pred = model.predict(padded)  # Fix: Use `model`, NOT `load_model`\n",
    "print(\"Prediction:\", pred)\n",
    "\n",
    "# Interpret Results\n",
    "if pred < 0.5:\n",
    "    print(\"No Hate\")\n",
    "else:\n",
    "    print(\"Hate and Abusive\")"
   ]
  },
  {
   "cell_type": "code",
   "execution_count": 73,
   "id": "ef1fb8f2-2bd3-4fde-b85a-9ed69886556e",
   "metadata": {},
   "outputs": [],
   "source": [
    "frame=[df_twitter,df_offensive]\n",
    "df2 = pd.concat(frame)"
   ]
  },
  {
   "cell_type": "code",
   "execution_count": 74,
   "id": "f2e4d9c4-98b8-4051-9012-f7522d54fb7a",
   "metadata": {},
   "outputs": [
    {
     "data": {
      "text/html": [
       "<div>\n",
       "<style scoped>\n",
       "    .dataframe tbody tr th:only-of-type {\n",
       "        vertical-align: middle;\n",
       "    }\n",
       "\n",
       "    .dataframe tbody tr th {\n",
       "        vertical-align: top;\n",
       "    }\n",
       "\n",
       "    .dataframe thead th {\n",
       "        text-align: right;\n",
       "    }\n",
       "</style>\n",
       "<table border=\"1\" class=\"dataframe\">\n",
       "  <thead>\n",
       "    <tr style=\"text-align: right;\">\n",
       "      <th></th>\n",
       "      <th>label</th>\n",
       "      <th>tweet</th>\n",
       "    </tr>\n",
       "  </thead>\n",
       "  <tbody>\n",
       "    <tr>\n",
       "      <th>0</th>\n",
       "      <td>0</td>\n",
       "      <td>@user when a father is dysfunctional and is s...</td>\n",
       "    </tr>\n",
       "    <tr>\n",
       "      <th>1</th>\n",
       "      <td>0</td>\n",
       "      <td>@user @user thanks for #lyft credit i can't us...</td>\n",
       "    </tr>\n",
       "    <tr>\n",
       "      <th>2</th>\n",
       "      <td>0</td>\n",
       "      <td>bihday your majesty</td>\n",
       "    </tr>\n",
       "    <tr>\n",
       "      <th>3</th>\n",
       "      <td>0</td>\n",
       "      <td>#model   i love u take with u all the time in ...</td>\n",
       "    </tr>\n",
       "    <tr>\n",
       "      <th>4</th>\n",
       "      <td>0</td>\n",
       "      <td>factsguide: society now    #motivation</td>\n",
       "    </tr>\n",
       "  </tbody>\n",
       "</table>\n",
       "</div>"
      ],
      "text/plain": [
       "   label                                              tweet\n",
       "0      0   @user when a father is dysfunctional and is s...\n",
       "1      0  @user @user thanks for #lyft credit i can't us...\n",
       "2      0                                bihday your majesty\n",
       "3      0  #model   i love u take with u all the time in ...\n",
       "4      0             factsguide: society now    #motivation"
      ]
     },
     "execution_count": 74,
     "metadata": {},
     "output_type": "execute_result"
    }
   ],
   "source": [
    "df2.head()"
   ]
  },
  {
   "cell_type": "code",
   "execution_count": 75,
   "id": "31d67725-de65-499b-bf33-2bb9ac26ccc4",
   "metadata": {},
   "outputs": [],
   "source": [
    "REPLACE_BY_SPACE_RE = re.compile('[/(){}\\[\\]\\|@,;]')\n",
    "BAD_SYMBOLS_RE = re.compile('[^0-9a-z #+_]')\n",
    "STOPWORDS = set(stopwords.words('english'))\n",
    "\n",
    "def clean_text(text):\n",
    "\n",
    "    text = text.lower()\n",
    "    text = REPLACE_BY_SPACE_RE.sub(' ', text)\n",
    "    text = BAD_SYMBOLS_RE.sub('', text)\n",
    "    text = text.replace('x', '')\n",
    "    text = ' '.join(word for word in text.split() if word not in STOPWORDS)\n",
    "    return text\n",
    "df2['tweet'] = df2['tweet'].apply(clean_text)"
   ]
  },
  {
   "cell_type": "code",
   "execution_count": 76,
   "id": "5503d5b3-7caf-479f-b98d-802ce8864fdd",
   "metadata": {},
   "outputs": [
    {
     "data": {
      "text/html": [
       "<div>\n",
       "<style scoped>\n",
       "    .dataframe tbody tr th:only-of-type {\n",
       "        vertical-align: middle;\n",
       "    }\n",
       "\n",
       "    .dataframe tbody tr th {\n",
       "        vertical-align: top;\n",
       "    }\n",
       "\n",
       "    .dataframe thead th {\n",
       "        text-align: right;\n",
       "    }\n",
       "</style>\n",
       "<table border=\"1\" class=\"dataframe\">\n",
       "  <thead>\n",
       "    <tr style=\"text-align: right;\">\n",
       "      <th></th>\n",
       "      <th>label</th>\n",
       "      <th>tweet</th>\n",
       "    </tr>\n",
       "  </thead>\n",
       "  <tbody>\n",
       "    <tr>\n",
       "      <th>0</th>\n",
       "      <td>0</td>\n",
       "      <td>user father dysfunctional selfish drags kids d...</td>\n",
       "    </tr>\n",
       "    <tr>\n",
       "      <th>1</th>\n",
       "      <td>0</td>\n",
       "      <td>user user thanks #lyft credit cant use cause d...</td>\n",
       "    </tr>\n",
       "    <tr>\n",
       "      <th>2</th>\n",
       "      <td>0</td>\n",
       "      <td>bihday majesty</td>\n",
       "    </tr>\n",
       "    <tr>\n",
       "      <th>3</th>\n",
       "      <td>0</td>\n",
       "      <td>#model love u take u time ur</td>\n",
       "    </tr>\n",
       "    <tr>\n",
       "      <th>4</th>\n",
       "      <td>0</td>\n",
       "      <td>factsguide society #motivation</td>\n",
       "    </tr>\n",
       "  </tbody>\n",
       "</table>\n",
       "</div>"
      ],
      "text/plain": [
       "   label                                              tweet\n",
       "0      0  user father dysfunctional selfish drags kids d...\n",
       "1      0  user user thanks #lyft credit cant use cause d...\n",
       "2      0                                     bihday majesty\n",
       "3      0                       #model love u take u time ur\n",
       "4      0                     factsguide society #motivation"
      ]
     },
     "execution_count": 76,
     "metadata": {},
     "output_type": "execute_result"
    }
   ],
   "source": [
    "df2.head(5)"
   ]
  },
  {
   "cell_type": "code",
   "execution_count": 77,
   "id": "f2be6695-33eb-4c2e-b643-8f3095742a99",
   "metadata": {},
   "outputs": [
    {
     "name": "stdout",
     "output_type": "stream",
     "text": [
      "Found 67728 unique tokens.\n"
     ]
    }
   ],
   "source": [
    "MAX_NB_WORDS = 50000\n",
    "MAX_SEQUENCE_LENGTH = 250\n",
    "EMBEDDING_DIM = 100\n",
    "tokenizer2 = Tokenizer(num_words=MAX_NB_WORDS, filters='!\"#$%&()*+,-./:;<=>?@[\\]^_`{|}~', lower=True)\n",
    "tokenizer2.fit_on_texts(df2['tweet'].values)\n",
    "word_index = tokenizer2.word_index\n",
    "print('Found %s unique tokens.' % len(word_index))"
   ]
  },
  {
   "cell_type": "code",
   "execution_count": 78,
   "id": "1d5f17a3-0990-435f-9eaf-90ed2be3efb5",
   "metadata": {},
   "outputs": [
    {
     "name": "stdout",
     "output_type": "stream",
     "text": [
      "Shape of data tensor: (56745, 250)\n"
     ]
    }
   ],
   "source": [
    "X = tokenizer2.texts_to_sequences(df2['tweet'].values)\n",
    "X = sequence.pad_sequences(X, maxlen=MAX_SEQUENCE_LENGTH)\n",
    "print('Shape of data tensor:', X.shape)"
   ]
  },
  {
   "cell_type": "code",
   "execution_count": 79,
   "id": "8a478ff5-6c24-465e-90d2-ec9a4e3861a1",
   "metadata": {},
   "outputs": [],
   "source": [
    "Y=df['label']"
   ]
  },
  {
   "cell_type": "code",
   "execution_count": 80,
   "id": "6484d56e-6fa5-4712-849c-b16eec0cf8e9",
   "metadata": {},
   "outputs": [
    {
     "name": "stdout",
     "output_type": "stream",
     "text": [
      "(45396, 250) (45396,)\n",
      "(11349, 250) (11349,)\n"
     ]
    }
   ],
   "source": [
    "X_train, X_test, Y_train, Y_test = train_test_split(X,Y, test_size = 0.20, random_state = 42)\n",
    "print(X_train.shape,Y_train.shape)\n",
    "print(X_test.shape,Y_test.shape)"
   ]
  },
  {
   "cell_type": "code",
   "execution_count": 81,
   "id": "610c3436-9261-4944-bab1-cc07afb4c099",
   "metadata": {},
   "outputs": [
    {
     "name": "stdout",
     "output_type": "stream",
     "text": [
      "Epoch 1/10\n",
      "36/36 [==============================] - 50s 1s/step - loss: 0.6352 - accuracy: 0.6546 - val_loss: 0.5021 - val_accuracy: 0.7905\n",
      "Epoch 2/10\n"
     ]
    },
    {
     "name": "stderr",
     "output_type": "stream",
     "text": [
      "/home/ec2-user/anaconda3/envs/tensorflow2_p310/lib/python3.10/site-packages/tf_keras/src/engine/training.py:3098: UserWarning: You are saving your model as an HDF5 file via `model.save()`. This file format is considered legacy. We recommend using instead the native TF-Keras format, e.g. `model.save('my_model.keras')`.\n",
      "  saving_api.save_model(\n"
     ]
    },
    {
     "name": "stdout",
     "output_type": "stream",
     "text": [
      "36/36 [==============================] - 44s 1s/step - loss: 0.3660 - accuracy: 0.8737 - val_loss: 0.2714 - val_accuracy: 0.9065\n",
      "Epoch 3/10\n",
      "36/36 [==============================] - 44s 1s/step - loss: 0.2308 - accuracy: 0.9212 - val_loss: 0.2002 - val_accuracy: 0.9300\n",
      "Epoch 4/10\n",
      "36/36 [==============================] - 44s 1s/step - loss: 0.1736 - accuracy: 0.9410 - val_loss: 0.1732 - val_accuracy: 0.9406\n",
      "Epoch 5/10\n",
      "36/36 [==============================] - 43s 1s/step - loss: 0.1395 - accuracy: 0.9539 - val_loss: 0.1617 - val_accuracy: 0.9439\n",
      "Epoch 6/10\n",
      "36/36 [==============================] - 43s 1s/step - loss: 0.1187 - accuracy: 0.9613 - val_loss: 0.1634 - val_accuracy: 0.9433\n",
      "Epoch 7/10\n",
      "36/36 [==============================] - 43s 1s/step - loss: 0.1033 - accuracy: 0.9664 - val_loss: 0.1945 - val_accuracy: 0.9433\n",
      "Epoch 8/10\n",
      "36/36 [==============================] - 43s 1s/step - loss: 0.0909 - accuracy: 0.9709 - val_loss: 0.1775 - val_accuracy: 0.9346\n"
     ]
    }
   ],
   "source": [
    "from tensorflow.keras.models import Sequential\n",
    "from tensorflow.keras.layers import Embedding, SpatialDropout1D, LSTM, Dense\n",
    "from tensorflow.keras.optimizers import RMSprop\n",
    "from tensorflow.keras.callbacks import EarlyStopping, ModelCheckpoint\n",
    "\n",
    "# Define model\n",
    "model2 = Sequential()\n",
    "model2.add(Embedding(MAX_NB_WORDS, EMBEDDING_DIM, input_length=X.shape[1]))\n",
    "model2.add(SpatialDropout1D(0.2))\n",
    "model2.add(LSTM(100, dropout=0.2, recurrent_dropout=0.2))\n",
    "model2.add(Dense(1, activation='sigmoid'))\n",
    "\n",
    "# Fix: Properly import and use RMSprop\n",
    "model2.compile(loss='binary_crossentropy', optimizer=RMSprop(), metrics=['accuracy'])\n",
    "\n",
    "#  Fix: Define Callbacks Properly\n",
    "stop = EarlyStopping(monitor='val_loss', patience=3, restore_best_weights=True)\n",
    "checkpoint = ModelCheckpoint('best_model.h5', monitor='val_loss', save_best_only=True)\n",
    "\n",
    "# Training parameters\n",
    "epochs = 10\n",
    "batch_size = 1024\n",
    "\n",
    "# Train the model\n",
    "history2 = model2.fit(X_train, Y_train, epochs=epochs, batch_size=batch_size,\n",
    "                       validation_split=0.2, callbacks=[stop, checkpoint])"
   ]
  },
  {
   "cell_type": "code",
   "execution_count": 82,
   "id": "62e8277f-f424-49ac-bcd0-40f288dc0fb0",
   "metadata": {},
   "outputs": [
    {
     "name": "stdout",
     "output_type": "stream",
     "text": [
      "355/355 [==============================] - 8s 23ms/step - loss: 0.1653 - accuracy: 0.9426\n"
     ]
    }
   ],
   "source": [
    "# test_sequences2 = tokenizer2.texts_to_sequences(X_test)\n",
    "# test_sequences_matrix2 = sequence.pad_sequences(test_sequences2,maxlen=MAX_SEQUENCE_LENGTH)\n",
    "accr = model2.evaluate(X_test,Y_test)"
   ]
  },
  {
   "cell_type": "code",
   "execution_count": 83,
   "id": "3848e9bc-a6c2-4179-8d04-9986dd200070",
   "metadata": {},
   "outputs": [
    {
     "name": "stdout",
     "output_type": "stream",
     "text": [
      "355/355 [==============================] - 8s 21ms/step\n",
      "[[0.9983958 ]\n",
      " [0.19054581]\n",
      " [0.92153   ]\n",
      " [0.99932843]\n",
      " [0.00490751]]\n"
     ]
    }
   ],
   "source": [
    "lstm_prediction2=model2.predict(X_test)\n",
    "print(lstm_prediction2[0:5])\n",
    "res2=[]\n",
    "for prediction in lstm_prediction2:\n",
    "    if prediction[0]<0.45:\n",
    "        res2.append(0)\n",
    "    else:\n",
    "        res2.append(1)"
   ]
  },
  {
   "cell_type": "code",
   "execution_count": 84,
   "id": "2b8868c4-e907-49a3-8952-e40c208ba38d",
   "metadata": {},
   "outputs": [
    {
     "data": {
      "text/plain": [
       "12238    1\n",
       "14377    0\n",
       "17207    1\n",
       "22168    1\n",
       "18801    0\n",
       "Name: label, dtype: int64"
      ]
     },
     "execution_count": 84,
     "metadata": {},
     "output_type": "execute_result"
    }
   ],
   "source": [
    "Y_test[0:5]"
   ]
  },
  {
   "cell_type": "code",
   "execution_count": 85,
   "id": "5791047d-392d-42ff-a28b-c30934b919b4",
   "metadata": {},
   "outputs": [
    {
     "name": "stdout",
     "output_type": "stream",
     "text": [
      "[[6490  246]\n",
      " [ 410 4203]]\n"
     ]
    }
   ],
   "source": [
    "print(confusion_matrix(Y_test,res2))"
   ]
  },
  {
   "cell_type": "markdown",
   "id": "78dff81d-e7e5-45b9-b6ad-eafcbfa9e87e",
   "metadata": {},
   "source": [
    "## Test cases"
   ]
  },
  {
   "cell_type": "code",
   "execution_count": 86,
   "id": "47ae84e1-ee02-424d-a419-76c57c856a8a",
   "metadata": {},
   "outputs": [
    {
     "name": "stdout",
     "output_type": "stream",
     "text": [
      "['love country']\n",
      "[[5, 485]]\n",
      "1/1 [==============================] - 0s 29ms/step\n",
      "pred [[0.07417007]]\n",
      "no hate\n"
     ]
    }
   ],
   "source": [
    "test = 'I love this country'\n",
    "def clean_text(text):\n",
    "\n",
    "    text = text.lower()\n",
    "    text = REPLACE_BY_SPACE_RE.sub(' ', text)\n",
    "    text = BAD_SYMBOLS_RE.sub('', text)\n",
    "    text = text.replace('x', '')\n",
    "    text = ' '.join(word for word in text.split() if word not in STOPWORDS)\n",
    "    return text\n",
    "test=[clean_text(test)]\n",
    "print(test)\n",
    "seq = tokenizer2.texts_to_sequences(test)\n",
    "padded = sequence.pad_sequences(seq, maxlen=250)\n",
    "print(seq)\n",
    "pred = model2.predict(padded)\n",
    "print(\"pred\", pred)\n",
    "if pred<0.45:\n",
    "    print(\"no hate\")\n",
    "else:\n",
    "    print(\"hate and abusive\")"
   ]
  },
  {
   "cell_type": "code",
   "execution_count": 87,
   "id": "7522ae05-0fd2-48b7-96da-f3294ae0e53b",
   "metadata": {},
   "outputs": [
    {
     "name": "stdout",
     "output_type": "stream",
     "text": [
      "['hate country']\n",
      "[[71, 485]]\n",
      "1/1 [==============================] - 0s 28ms/step\n",
      "pred [[0.31437647]]\n",
      "no hate\n"
     ]
    }
   ],
   "source": [
    "test = 'I hate this country'\n",
    "def clean_text(text):\n",
    "\n",
    "    text = text.lower()\n",
    "    text = REPLACE_BY_SPACE_RE.sub(' ', text)\n",
    "    text = BAD_SYMBOLS_RE.sub('', text)\n",
    "    text = text.replace('x', '')\n",
    "    text = ' '.join(word for word in text.split() if word not in STOPWORDS)\n",
    "    return text\n",
    "test=[clean_text(test)]\n",
    "print(test)\n",
    "seq = tokenizer2.texts_to_sequences(test)\n",
    "padded = sequence.pad_sequences(seq, maxlen=250)\n",
    "print(seq)\n",
    "pred = model2.predict(padded)\n",
    "print(\"pred\", pred)\n",
    "if pred<0.45:\n",
    "    print(\"no hate\")\n",
    "else:\n",
    "    print(\"hate and abusive\")"
   ]
  },
  {
   "cell_type": "code",
   "execution_count": null,
   "id": "4d450a71-ce59-4c4e-b9d5-7d0ce4ed272b",
   "metadata": {},
   "outputs": [],
   "source": [
    "test = input(\"Enter the sentence to predict: \")\n",
    "def clean_text(text):\n",
    "\n",
    "    text = text.lower()\n",
    "    text = REPLACE_BY_SPACE_RE.sub(' ', text)\n",
    "    text = BAD_SYMBOLS_RE.sub('', text)\n",
    "    text = text.replace('x', '')\n",
    "    text = ' '.join(word for word in text.split() if word not in STOPWORDS)\n",
    "    return text\n",
    "test=[clean_text(test)]\n",
    "print(test)\n",
    "seq = tokenizer2.texts_to_sequences(test)\n",
    "padded = sequence.pad_sequences(seq, maxlen=250)\n",
    "print(seq)\n",
    "pred = model2.predict(padded)\n",
    "print(\"pred\", pred)\n",
    "if pred<0.45:\n",
    "    print(\"no hate\")\n",
    "else:\n",
    "    print(\"hate and abusive\")\n"
   ]
  },
  {
   "cell_type": "markdown",
   "id": "b162301d-12c1-48c0-a62c-f7651762b6c9",
   "metadata": {},
   "source": [
    "## Model Performance Comparison Table"
   ]
  },
  {
   "cell_type": "code",
   "execution_count": 95,
   "id": "c830c301-18a0-4b8c-bc21-e52b5646bd1b",
   "metadata": {},
   "outputs": [
    {
     "name": "stdout",
     "output_type": "stream",
     "text": [
      "         Model  Accuracy  F1-score\n",
      "0  Naïve Bayes      0.85      0.83\n",
      "1         LSTM      0.90      0.91\n",
      "2      CNN-RNN      0.88      0.89\n",
      "3         BERT      0.92      0.93\n"
     ]
    }
   ],
   "source": [
    "import pandas as pd\n",
    "\n",
    "# Sample scores (Replace with actual results)\n",
    "models = [\"Naïve Bayes\", \"LSTM\", \"CNN-RNN\", \"BERT\"]\n",
    "accuracy = [0.85, 0.90, 0.88, 0.92]\n",
    "f1_score = [0.83, 0.91, 0.89, 0.93]\n",
    "\n",
    "# Create DataFrame\n",
    "performance_df = pd.DataFrame({\"Model\": models, \"Accuracy\": accuracy, \"F1-score\": f1_score})\n",
    "print(performance_df)\n"
   ]
  },
  {
   "cell_type": "code",
   "execution_count": null,
   "id": "18df3dae-0724-4ffe-b2c2-58de3d9a1be9",
   "metadata": {},
   "outputs": [],
   "source": []
  }
 ],
 "metadata": {
  "kernelspec": {
   "display_name": "conda_tensorflow2_p310",
   "language": "python",
   "name": "conda_tensorflow2_p310"
  },
  "language_info": {
   "codemirror_mode": {
    "name": "ipython",
    "version": 3
   },
   "file_extension": ".py",
   "mimetype": "text/x-python",
   "name": "python",
   "nbconvert_exporter": "python",
   "pygments_lexer": "ipython3",
   "version": "3.10.16"
  }
 },
 "nbformat": 4,
 "nbformat_minor": 5
}
